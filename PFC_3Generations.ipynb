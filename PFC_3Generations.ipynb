{
 "cells": [
  {
   "cell_type": "code",
   "execution_count": 2,
   "metadata": {
    "collapsed": true
   },
   "outputs": [],
   "source": [
    "data<- read.csv(\"PFC_22genes_AllBehav.csv\", header=TRUE, row.names=1)"
   ]
  },
  {
   "cell_type": "code",
   "execution_count": 4,
   "metadata": {
    "collapsed": false,
    "scrolled": true
   },
   "outputs": [
    {
     "data": {
      "text/html": [
       "<table>\n",
       "<thead><tr><th></th><th scope=col>ARPP21</th><th scope=col>ATP6AP1L</th><th scope=col>B3GALT2</th><th scope=col>C9orf116</th><th scope=col>CALB1</th><th scope=col>CCDC80</th><th scope=col>CREB3L1</th><th scope=col>CTXN3</th><th scope=col>DACH1</th><th scope=col>GABRA3</th><th scope=col>...</th><th scope=col>SYNJ2</th><th scope=col>VSTM2L</th><th scope=col>OF_HPA1_T_AUC</th><th scope=col>OF_HPA1_Net_AUC</th><th scope=col>OF_HPA2_T_AUC</th><th scope=col>OF_HPA2_Net_AUC</th><th scope=col>OFA1_Total</th><th scope=col>OFA2_Total</th><th scope=col>Startle</th><th scope=col>Group</th></tr></thead>\n",
       "<tbody>\n",
       "\t<tr><th scope=row>Beta1_F1</th><td>3430    </td><td>1607    </td><td>2086    </td><td>30      </td><td> 497    </td><td>260     </td><td>482     </td><td>2023    </td><td>133     </td><td>6661    </td><td>...     </td><td>2651    </td><td>1275    </td><td>1695    </td><td>1338.00 </td><td>2269    </td><td>1993.0  </td><td>2631    </td><td> 263    </td><td>492.43  </td><td>Beta    </td></tr>\n",
       "\t<tr><th scope=row>Beta2_F1</th><td>3193    </td><td>1683    </td><td>1751    </td><td>32      </td><td> 489    </td><td>136     </td><td>386     </td><td>1789    </td><td> 73     </td><td>6050    </td><td>...     </td><td>3080    </td><td> 800    </td><td>2901    </td><td>1768.00 </td><td>2336    </td><td>1536.0  </td><td>1417    </td><td>  43    </td><td>712.38  </td><td>Beta    </td></tr>\n",
       "\t<tr><th scope=row>Beta3_F1</th><td>4427    </td><td>2056    </td><td>1261    </td><td>14      </td><td> 364    </td><td>125     </td><td>346     </td><td>1289    </td><td>119     </td><td>4921    </td><td>...     </td><td>2570    </td><td>1412    </td><td>1436    </td><td> 588.80 </td><td>2045    </td><td>1868.0  </td><td> 344    </td><td> 956    </td><td>360.00  </td><td>Beta    </td></tr>\n",
       "\t<tr><th scope=row>Beta4_F1</th><td>3836    </td><td>2555    </td><td>1753    </td><td>30      </td><td> 520    </td><td>247     </td><td>482     </td><td>2737    </td><td>129     </td><td>5432    </td><td>...     </td><td>3420    </td><td> 803    </td><td>2327    </td><td> 570.60 </td><td>2821    </td><td>1808.0  </td><td> 551    </td><td>2203    </td><td>148.38  </td><td>Beta    </td></tr>\n",
       "\t<tr><th scope=row>Control1_F1</th><td>9818    </td><td>1733    </td><td> 935    </td><td>95      </td><td>2647    </td><td>120     </td><td>381     </td><td>1277    </td><td>393     </td><td>4692    </td><td>...     </td><td>2713    </td><td>2490    </td><td>1729    </td><td>1334.00 </td><td>2701    </td><td> -12.3  </td><td> 444    </td><td> 780    </td><td>141.50  </td><td>Control </td></tr>\n",
       "\t<tr><th scope=row>Control2_F1</th><td>3802    </td><td> 777    </td><td>1052    </td><td>41      </td><td> 572    </td><td> 89     </td><td>285     </td><td> 963    </td><td>121     </td><td>3407    </td><td>...     </td><td>1719    </td><td>1160    </td><td>1590    </td><td>  65.25 </td><td>2598    </td><td>1192.0  </td><td> 292    </td><td>1091    </td><td>190.50  </td><td>Control </td></tr>\n",
       "</tbody>\n",
       "</table>\n"
      ],
      "text/latex": [
       "\\begin{tabular}{r|llllllllllllllllllllllllllllll}\n",
       "  & ARPP21 & ATP6AP1L & B3GALT2 & C9orf116 & CALB1 & CCDC80 & CREB3L1 & CTXN3 & DACH1 & GABRA3 & ... & SYNJ2 & VSTM2L & OF\\_HPA1\\_T\\_AUC & OF\\_HPA1\\_Net\\_AUC & OF\\_HPA2\\_T\\_AUC & OF\\_HPA2\\_Net\\_AUC & OFA1\\_Total & OFA2\\_Total & Startle & Group\\\\\n",
       "\\hline\n",
       "\tBeta1\\_F1 & 3430     & 1607     & 2086     & 30       &  497     & 260      & 482      & 2023     & 133      & 6661     & ...      & 2651     & 1275     & 1695     & 1338.00  & 2269     & 1993.0   & 2631     &  263     & 492.43   & Beta    \\\\\n",
       "\tBeta2\\_F1 & 3193     & 1683     & 1751     & 32       &  489     & 136      & 386      & 1789     &  73      & 6050     & ...      & 3080     &  800     & 2901     & 1768.00  & 2336     & 1536.0   & 1417     &   43     & 712.38   & Beta    \\\\\n",
       "\tBeta3\\_F1 & 4427     & 2056     & 1261     & 14       &  364     & 125      & 346      & 1289     & 119      & 4921     & ...      & 2570     & 1412     & 1436     &  588.80  & 2045     & 1868.0   &  344     &  956     & 360.00   & Beta    \\\\\n",
       "\tBeta4\\_F1 & 3836     & 2555     & 1753     & 30       &  520     & 247      & 482      & 2737     & 129      & 5432     & ...      & 3420     &  803     & 2327     &  570.60  & 2821     & 1808.0   &  551     & 2203     & 148.38   & Beta    \\\\\n",
       "\tControl1\\_F1 & 9818     & 1733     &  935     & 95       & 2647     & 120      & 381      & 1277     & 393      & 4692     & ...      & 2713     & 2490     & 1729     & 1334.00  & 2701     &  -12.3   &  444     &  780     & 141.50   & Control \\\\\n",
       "\tControl2\\_F1 & 3802     &  777     & 1052     & 41       &  572     &  89      & 285      &  963     & 121      & 3407     & ...      & 1719     & 1160     & 1590     &   65.25  & 2598     & 1192.0   &  292     & 1091     & 190.50   & Control \\\\\n",
       "\\end{tabular}\n"
      ],
      "text/markdown": [
       "\n",
       "| <!--/--> | ARPP21 | ATP6AP1L | B3GALT2 | C9orf116 | CALB1 | CCDC80 | CREB3L1 | CTXN3 | DACH1 | GABRA3 | ... | SYNJ2 | VSTM2L | OF_HPA1_T_AUC | OF_HPA1_Net_AUC | OF_HPA2_T_AUC | OF_HPA2_Net_AUC | OFA1_Total | OFA2_Total | Startle | Group | \n",
       "|---|---|---|---|---|---|\n",
       "| Beta1_F1 | 3430     | 1607     | 2086     | 30       |  497     | 260      | 482      | 2023     | 133      | 6661     | ...      | 2651     | 1275     | 1695     | 1338.00  | 2269     | 1993.0   | 2631     |  263     | 492.43   | Beta     | \n",
       "| Beta2_F1 | 3193     | 1683     | 1751     | 32       |  489     | 136      | 386      | 1789     |  73      | 6050     | ...      | 3080     |  800     | 2901     | 1768.00  | 2336     | 1536.0   | 1417     |   43     | 712.38   | Beta     | \n",
       "| Beta3_F1 | 4427     | 2056     | 1261     | 14       |  364     | 125      | 346      | 1289     | 119      | 4921     | ...      | 2570     | 1412     | 1436     |  588.80  | 2045     | 1868.0   |  344     |  956     | 360.00   | Beta     | \n",
       "| Beta4_F1 | 3836     | 2555     | 1753     | 30       |  520     | 247      | 482      | 2737     | 129      | 5432     | ...      | 3420     |  803     | 2327     |  570.60  | 2821     | 1808.0   |  551     | 2203     | 148.38   | Beta     | \n",
       "| Control1_F1 | 9818     | 1733     |  935     | 95       | 2647     | 120      | 381      | 1277     | 393      | 4692     | ...      | 2713     | 2490     | 1729     | 1334.00  | 2701     |  -12.3   |  444     |  780     | 141.50   | Control  | \n",
       "| Control2_F1 | 3802     |  777     | 1052     | 41       |  572     |  89      | 285      |  963     | 121      | 3407     | ...      | 1719     | 1160     | 1590     |   65.25  | 2598     | 1192.0   |  292     | 1091     | 190.50   | Control  | \n",
       "\n",
       "\n"
      ],
      "text/plain": [
       "            ARPP21 ATP6AP1L B3GALT2 C9orf116 CALB1 CCDC80 CREB3L1 CTXN3 DACH1\n",
       "Beta1_F1    3430   1607     2086    30        497  260    482     2023  133  \n",
       "Beta2_F1    3193   1683     1751    32        489  136    386     1789   73  \n",
       "Beta3_F1    4427   2056     1261    14        364  125    346     1289  119  \n",
       "Beta4_F1    3836   2555     1753    30        520  247    482     2737  129  \n",
       "Control1_F1 9818   1733      935    95       2647  120    381     1277  393  \n",
       "Control2_F1 3802    777     1052    41        572   89    285      963  121  \n",
       "            GABRA3 ... SYNJ2 VSTM2L OF_HPA1_T_AUC OF_HPA1_Net_AUC OF_HPA2_T_AUC\n",
       "Beta1_F1    6661   ... 2651  1275   1695          1338.00         2269         \n",
       "Beta2_F1    6050   ... 3080   800   2901          1768.00         2336         \n",
       "Beta3_F1    4921   ... 2570  1412   1436           588.80         2045         \n",
       "Beta4_F1    5432   ... 3420   803   2327           570.60         2821         \n",
       "Control1_F1 4692   ... 2713  2490   1729          1334.00         2701         \n",
       "Control2_F1 3407   ... 1719  1160   1590            65.25         2598         \n",
       "            OF_HPA2_Net_AUC OFA1_Total OFA2_Total Startle Group   \n",
       "Beta1_F1    1993.0          2631        263       492.43  Beta    \n",
       "Beta2_F1    1536.0          1417         43       712.38  Beta    \n",
       "Beta3_F1    1868.0           344        956       360.00  Beta    \n",
       "Beta4_F1    1808.0           551       2203       148.38  Beta    \n",
       "Control1_F1  -12.3           444        780       141.50  Control \n",
       "Control2_F1 1192.0           292       1091       190.50  Control "
      ]
     },
     "metadata": {},
     "output_type": "display_data"
    }
   ],
   "source": [
    "head(data)"
   ]
  },
  {
   "cell_type": "code",
   "execution_count": 20,
   "metadata": {
    "collapsed": false
   },
   "outputs": [
    {
     "data": {
      "text/html": [
       "<ol class=list-inline>\n",
       "\t<li>'ARPP21'</li>\n",
       "\t<li>'ATP6AP1L'</li>\n",
       "\t<li>'B3GALT2'</li>\n",
       "\t<li>'C9orf116'</li>\n",
       "\t<li>'CALB1'</li>\n",
       "\t<li>'CCDC80'</li>\n",
       "\t<li>'CREB3L1'</li>\n",
       "\t<li>'CTXN3'</li>\n",
       "\t<li>'DACH1'</li>\n",
       "\t<li>'GABRA3'</li>\n",
       "\t<li>'GARNL3'</li>\n",
       "\t<li>'GLRA3'</li>\n",
       "\t<li>'GPR52'</li>\n",
       "\t<li>'KRT80'</li>\n",
       "\t<li>'NRIP3'</li>\n",
       "\t<li>'PAPPA2'</li>\n",
       "\t<li>'Pdyn'</li>\n",
       "\t<li>'PLA2G2C'</li>\n",
       "\t<li>'SOWAHA'</li>\n",
       "\t<li>'SPON1'</li>\n",
       "\t<li>'SYNJ2'</li>\n",
       "\t<li>'VSTM2L'</li>\n",
       "\t<li>'OF_HPA1_T_AUC'</li>\n",
       "\t<li>'OF_HPA1_Net_AUC'</li>\n",
       "\t<li>'OF_HPA2_T_AUC'</li>\n",
       "\t<li>'OF_HPA2_Net_AUC'</li>\n",
       "\t<li>'OFA1_Total'</li>\n",
       "\t<li>'OFA2_Total'</li>\n",
       "\t<li>'Startle'</li>\n",
       "\t<li>'Group'</li>\n",
       "</ol>\n"
      ],
      "text/latex": [
       "\\begin{enumerate*}\n",
       "\\item 'ARPP21'\n",
       "\\item 'ATP6AP1L'\n",
       "\\item 'B3GALT2'\n",
       "\\item 'C9orf116'\n",
       "\\item 'CALB1'\n",
       "\\item 'CCDC80'\n",
       "\\item 'CREB3L1'\n",
       "\\item 'CTXN3'\n",
       "\\item 'DACH1'\n",
       "\\item 'GABRA3'\n",
       "\\item 'GARNL3'\n",
       "\\item 'GLRA3'\n",
       "\\item 'GPR52'\n",
       "\\item 'KRT80'\n",
       "\\item 'NRIP3'\n",
       "\\item 'PAPPA2'\n",
       "\\item 'Pdyn'\n",
       "\\item 'PLA2G2C'\n",
       "\\item 'SOWAHA'\n",
       "\\item 'SPON1'\n",
       "\\item 'SYNJ2'\n",
       "\\item 'VSTM2L'\n",
       "\\item 'OF\\_HPA1\\_T\\_AUC'\n",
       "\\item 'OF\\_HPA1\\_Net\\_AUC'\n",
       "\\item 'OF\\_HPA2\\_T\\_AUC'\n",
       "\\item 'OF\\_HPA2\\_Net\\_AUC'\n",
       "\\item 'OFA1\\_Total'\n",
       "\\item 'OFA2\\_Total'\n",
       "\\item 'Startle'\n",
       "\\item 'Group'\n",
       "\\end{enumerate*}\n"
      ],
      "text/markdown": [
       "1. 'ARPP21'\n",
       "2. 'ATP6AP1L'\n",
       "3. 'B3GALT2'\n",
       "4. 'C9orf116'\n",
       "5. 'CALB1'\n",
       "6. 'CCDC80'\n",
       "7. 'CREB3L1'\n",
       "8. 'CTXN3'\n",
       "9. 'DACH1'\n",
       "10. 'GABRA3'\n",
       "11. 'GARNL3'\n",
       "12. 'GLRA3'\n",
       "13. 'GPR52'\n",
       "14. 'KRT80'\n",
       "15. 'NRIP3'\n",
       "16. 'PAPPA2'\n",
       "17. 'Pdyn'\n",
       "18. 'PLA2G2C'\n",
       "19. 'SOWAHA'\n",
       "20. 'SPON1'\n",
       "21. 'SYNJ2'\n",
       "22. 'VSTM2L'\n",
       "23. 'OF_HPA1_T_AUC'\n",
       "24. 'OF_HPA1_Net_AUC'\n",
       "25. 'OF_HPA2_T_AUC'\n",
       "26. 'OF_HPA2_Net_AUC'\n",
       "27. 'OFA1_Total'\n",
       "28. 'OFA2_Total'\n",
       "29. 'Startle'\n",
       "30. 'Group'\n",
       "\n",
       "\n"
      ],
      "text/plain": [
       " [1] \"ARPP21\"          \"ATP6AP1L\"        \"B3GALT2\"         \"C9orf116\"       \n",
       " [5] \"CALB1\"           \"CCDC80\"          \"CREB3L1\"         \"CTXN3\"          \n",
       " [9] \"DACH1\"           \"GABRA3\"          \"GARNL3\"          \"GLRA3\"          \n",
       "[13] \"GPR52\"           \"KRT80\"           \"NRIP3\"           \"PAPPA2\"         \n",
       "[17] \"Pdyn\"            \"PLA2G2C\"         \"SOWAHA\"          \"SPON1\"          \n",
       "[21] \"SYNJ2\"           \"VSTM2L\"          \"OF_HPA1_T_AUC\"   \"OF_HPA1_Net_AUC\"\n",
       "[25] \"OF_HPA2_T_AUC\"   \"OF_HPA2_Net_AUC\" \"OFA1_Total\"      \"OFA2_Total\"     \n",
       "[29] \"Startle\"         \"Group\"          "
      ]
     },
     "metadata": {},
     "output_type": "display_data"
    }
   ],
   "source": [
    "colnames(data)"
   ]
  },
  {
   "cell_type": "code",
   "execution_count": 8,
   "metadata": {
    "collapsed": false
   },
   "outputs": [
    {
     "data": {
      "text/html": [
       "30"
      ],
      "text/latex": [
       "30"
      ],
      "text/markdown": [
       "30"
      ],
      "text/plain": [
       "[1] 30"
      ]
     },
     "metadata": {},
     "output_type": "display_data"
    }
   ],
   "source": [
    "ncol(data)"
   ]
  },
  {
   "cell_type": "code",
   "execution_count": 36,
   "metadata": {
    "collapsed": false
   },
   "outputs": [
    {
     "data": {
      "text/html": [
       "<table>\n",
       "<thead><tr><th></th><th scope=col>Beta1_F1</th><th scope=col>Beta2_F1</th><th scope=col>Beta3_F1</th><th scope=col>Beta4_F1</th><th scope=col>Control1_F1</th><th scope=col>Control2_F1</th><th scope=col>Control3_F1</th><th scope=col>Control4_F1</th><th scope=col>Beta1_F2</th><th scope=col>Beta2_F2</th><th scope=col>...</th><th scope=col>Control3_F2</th><th scope=col>Control4_F2</th><th scope=col>Beta1_F3</th><th scope=col>Beta2_F3</th><th scope=col>Beta3_F3</th><th scope=col>Beta4_F3</th><th scope=col>Control1_F3</th><th scope=col>Control2_F3</th><th scope=col>Control3_F3</th><th scope=col>Control4_F3</th></tr></thead>\n",
       "<tbody>\n",
       "\t<tr><th scope=row>ARPP21</th><td>3430</td><td>3193</td><td>4427</td><td>3836</td><td>9818</td><td>3802</td><td>5880</td><td>8455</td><td>3505</td><td>3005</td><td>... </td><td>3737</td><td>4255</td><td>3714</td><td>4842</td><td>2968</td><td>3752</td><td>4125</td><td>8464</td><td>8318</td><td>6903</td></tr>\n",
       "\t<tr><th scope=row>ATP6AP1L</th><td>1607</td><td>1683</td><td>2056</td><td>2555</td><td>1733</td><td> 777</td><td> 764</td><td> 944</td><td>2110</td><td>1667</td><td>... </td><td>2169</td><td>1991</td><td>2077</td><td>1961</td><td>2090</td><td>1422</td><td>1398</td><td>1265</td><td>1532</td><td>1050</td></tr>\n",
       "\t<tr><th scope=row>B3GALT2</th><td>2086</td><td>1751</td><td>1261</td><td>1753</td><td> 935</td><td>1052</td><td> 848</td><td> 783</td><td>2129</td><td>1099</td><td>... </td><td>1004</td><td> 933</td><td>1706</td><td>2071</td><td>1788</td><td>1718</td><td>1408</td><td> 773</td><td>1293</td><td> 778</td></tr>\n",
       "\t<tr><th scope=row>C9orf116</th><td>  30</td><td>  32</td><td>  14</td><td>  30</td><td>  95</td><td>  41</td><td>  54</td><td>  86</td><td>  26</td><td>  37</td><td>... </td><td>  54</td><td>  49</td><td>  48</td><td>  31</td><td>  26</td><td>  25</td><td>  71</td><td>  67</td><td>  43</td><td>  83</td></tr>\n",
       "\t<tr><th scope=row>CALB1</th><td> 497</td><td> 489</td><td> 364</td><td> 520</td><td>2647</td><td> 572</td><td>1008</td><td>1868</td><td> 272</td><td> 399</td><td>... </td><td> 634</td><td> 653</td><td> 322</td><td> 485</td><td> 321</td><td> 280</td><td> 432</td><td>1503</td><td>1429</td><td> 879</td></tr>\n",
       "\t<tr><th scope=row>CCDC80</th><td> 260</td><td> 136</td><td> 125</td><td> 247</td><td> 120</td><td>  89</td><td>  70</td><td>  82</td><td> 259</td><td>  81</td><td>... </td><td>  57</td><td>  64</td><td> 160</td><td> 219</td><td> 164</td><td> 149</td><td> 167</td><td>  77</td><td> 100</td><td>  90</td></tr>\n",
       "</tbody>\n",
       "</table>\n"
      ],
      "text/latex": [
       "\\begin{tabular}{r|llllllllllllllllllllllll}\n",
       "  & Beta1\\_F1 & Beta2\\_F1 & Beta3\\_F1 & Beta4\\_F1 & Control1\\_F1 & Control2\\_F1 & Control3\\_F1 & Control4\\_F1 & Beta1\\_F2 & Beta2\\_F2 & ... & Control3\\_F2 & Control4\\_F2 & Beta1\\_F3 & Beta2\\_F3 & Beta3\\_F3 & Beta4\\_F3 & Control1\\_F3 & Control2\\_F3 & Control3\\_F3 & Control4\\_F3\\\\\n",
       "\\hline\n",
       "\tARPP21 & 3430 & 3193 & 4427 & 3836 & 9818 & 3802 & 5880 & 8455 & 3505 & 3005 & ...  & 3737 & 4255 & 3714 & 4842 & 2968 & 3752 & 4125 & 8464 & 8318 & 6903\\\\\n",
       "\tATP6AP1L & 1607 & 1683 & 2056 & 2555 & 1733 &  777 &  764 &  944 & 2110 & 1667 & ...  & 2169 & 1991 & 2077 & 1961 & 2090 & 1422 & 1398 & 1265 & 1532 & 1050\\\\\n",
       "\tB3GALT2 & 2086 & 1751 & 1261 & 1753 &  935 & 1052 &  848 &  783 & 2129 & 1099 & ...  & 1004 &  933 & 1706 & 2071 & 1788 & 1718 & 1408 &  773 & 1293 &  778\\\\\n",
       "\tC9orf116 &   30 &   32 &   14 &   30 &   95 &   41 &   54 &   86 &   26 &   37 & ...  &   54 &   49 &   48 &   31 &   26 &   25 &   71 &   67 &   43 &   83\\\\\n",
       "\tCALB1 &  497 &  489 &  364 &  520 & 2647 &  572 & 1008 & 1868 &  272 &  399 & ...  &  634 &  653 &  322 &  485 &  321 &  280 &  432 & 1503 & 1429 &  879\\\\\n",
       "\tCCDC80 &  260 &  136 &  125 &  247 &  120 &   89 &   70 &   82 &  259 &   81 & ...  &   57 &   64 &  160 &  219 &  164 &  149 &  167 &   77 &  100 &   90\\\\\n",
       "\\end{tabular}\n"
      ],
      "text/markdown": [
       "\n",
       "| <!--/--> | Beta1_F1 | Beta2_F1 | Beta3_F1 | Beta4_F1 | Control1_F1 | Control2_F1 | Control3_F1 | Control4_F1 | Beta1_F2 | Beta2_F2 | ... | Control3_F2 | Control4_F2 | Beta1_F3 | Beta2_F3 | Beta3_F3 | Beta4_F3 | Control1_F3 | Control2_F3 | Control3_F3 | Control4_F3 | \n",
       "|---|---|---|---|---|---|\n",
       "| ARPP21 | 3430 | 3193 | 4427 | 3836 | 9818 | 3802 | 5880 | 8455 | 3505 | 3005 | ...  | 3737 | 4255 | 3714 | 4842 | 2968 | 3752 | 4125 | 8464 | 8318 | 6903 | \n",
       "| ATP6AP1L | 1607 | 1683 | 2056 | 2555 | 1733 |  777 |  764 |  944 | 2110 | 1667 | ...  | 2169 | 1991 | 2077 | 1961 | 2090 | 1422 | 1398 | 1265 | 1532 | 1050 | \n",
       "| B3GALT2 | 2086 | 1751 | 1261 | 1753 |  935 | 1052 |  848 |  783 | 2129 | 1099 | ...  | 1004 |  933 | 1706 | 2071 | 1788 | 1718 | 1408 |  773 | 1293 |  778 | \n",
       "| C9orf116 |   30 |   32 |   14 |   30 |   95 |   41 |   54 |   86 |   26 |   37 | ...  |   54 |   49 |   48 |   31 |   26 |   25 |   71 |   67 |   43 |   83 | \n",
       "| CALB1 |  497 |  489 |  364 |  520 | 2647 |  572 | 1008 | 1868 |  272 |  399 | ...  |  634 |  653 |  322 |  485 |  321 |  280 |  432 | 1503 | 1429 |  879 | \n",
       "| CCDC80 |  260 |  136 |  125 |  247 |  120 |   89 |   70 |   82 |  259 |   81 | ...  |   57 |   64 |  160 |  219 |  164 |  149 |  167 |   77 |  100 |   90 | \n",
       "\n",
       "\n"
      ],
      "text/plain": [
       "         Beta1_F1 Beta2_F1 Beta3_F1 Beta4_F1 Control1_F1 Control2_F1\n",
       "ARPP21   3430     3193     4427     3836     9818        3802       \n",
       "ATP6AP1L 1607     1683     2056     2555     1733         777       \n",
       "B3GALT2  2086     1751     1261     1753      935        1052       \n",
       "C9orf116   30       32       14       30       95          41       \n",
       "CALB1     497      489      364      520     2647         572       \n",
       "CCDC80    260      136      125      247      120          89       \n",
       "         Control3_F1 Control4_F1 Beta1_F2 Beta2_F2 ... Control3_F2 Control4_F2\n",
       "ARPP21   5880        8455        3505     3005     ... 3737        4255       \n",
       "ATP6AP1L  764         944        2110     1667     ... 2169        1991       \n",
       "B3GALT2   848         783        2129     1099     ... 1004         933       \n",
       "C9orf116   54          86          26       37     ...   54          49       \n",
       "CALB1    1008        1868         272      399     ...  634         653       \n",
       "CCDC80     70          82         259       81     ...   57          64       \n",
       "         Beta1_F3 Beta2_F3 Beta3_F3 Beta4_F3 Control1_F3 Control2_F3\n",
       "ARPP21   3714     4842     2968     3752     4125        8464       \n",
       "ATP6AP1L 2077     1961     2090     1422     1398        1265       \n",
       "B3GALT2  1706     2071     1788     1718     1408         773       \n",
       "C9orf116   48       31       26       25       71          67       \n",
       "CALB1     322      485      321      280      432        1503       \n",
       "CCDC80    160      219      164      149      167          77       \n",
       "         Control3_F3 Control4_F3\n",
       "ARPP21   8318        6903       \n",
       "ATP6AP1L 1532        1050       \n",
       "B3GALT2  1293         778       \n",
       "C9orf116   43          83       \n",
       "CALB1    1429         879       \n",
       "CCDC80    100          90       "
      ]
     },
     "metadata": {},
     "output_type": "display_data"
    }
   ],
   "source": [
    "datah<-(t(data[,1:29]))\n",
    "head(datah)"
   ]
  },
  {
   "cell_type": "code",
   "execution_count": 39,
   "metadata": {
    "collapsed": false
   },
   "outputs": [
    {
     "data": {
      "image/png": "[encoded data removed]",
      "text/plain": [
       "plot without title"
      ]
     },
     "metadata": {},
     "output_type": "display_data"
    }
   ],
   "source": [
    "library(heatmap3)\n",
    "library(ggplot2)\n",
    "library(gplots)\n",
    "heatmap3(datah, Rowv = NULL, Colv = NULL,\n",
    "  distfun = function(x) as.dist(1 - cor(t(x), use = \"pa\")),\n",
    "  balanceColor = F,showColDendro = T,\n",
    "  showRowDendro = T, col = greenred(105), legendfun, method = \"complete\", ColAxisColors = 0,\n",
    "  RowAxisColors = 7, hclustfun = hclust, reorderfun = function(d, w)\n",
    "  reorder(d, w), add.expr, symm = FALSE,\n",
    "  scale = \"row\", na.rm = TRUE, \n",
    "  ColSideWidth = 0.4, \n",
    "  file = \"heatmap3.pdf\", topN = NA, filterFun = sd, margins = c(5, 5), lasRow = 2, lasCol = 2,\n",
    "  labRow =colnames(data), labCol = NULL , main = NULL, xlab = NULL, ylab = NULL,\n",
    "  keep.dendro = FALSE, verbose = getOption(\"verbose\"))\n",
    "      \n",
    "### What we see from this heatmap is that F1 and F3 controls cluster together, and F1 and F3 Betas cluster together \n",
    "### on either side of the heatmap, while F2 treatment groups cluster in the middle. Is it possible that molecular \n",
    "### mehcanism diriving behavior in F1 and F3 is more similar that what is occuring in F2?\n",
    "      \n",
    "## OR Are Beta2_F2, Beta4_F2, and Control2_F1 outliers that are throwing off the whole model?"
   ]
  },
  {
   "cell_type": "code",
   "execution_count": 47,
   "metadata": {
    "collapsed": false
   },
   "outputs": [
    {
     "data": {
      "text/html": [
       "<table>\n",
       "<thead><tr><th></th><th scope=col>ARPP21</th><th scope=col>ATP6AP1L</th><th scope=col>B3GALT2</th><th scope=col>C9orf116</th><th scope=col>CALB1</th><th scope=col>CCDC80</th><th scope=col>CREB3L1</th><th scope=col>CTXN3</th><th scope=col>DACH1</th><th scope=col>GABRA3</th><th scope=col>...</th><th scope=col>SYNJ2</th><th scope=col>VSTM2L</th><th scope=col>OF_HPA1_T_AUC</th><th scope=col>OF_HPA1_Net_AUC</th><th scope=col>OF_HPA2_T_AUC</th><th scope=col>OF_HPA2_Net_AUC</th><th scope=col>OFA1_Total</th><th scope=col>OFA2_Total</th><th scope=col>Startle</th><th scope=col>Group</th></tr></thead>\n",
       "<tbody>\n",
       "\t<tr><th scope=row>Beta1_F1</th><td>3430    </td><td>1607    </td><td>2086    </td><td>30      </td><td> 497    </td><td>260     </td><td>482     </td><td>2023    </td><td>133     </td><td>6661    </td><td>...     </td><td>2651    </td><td>1275    </td><td>1695    </td><td>1338.00 </td><td>2269    </td><td>1993.0  </td><td>2631    </td><td> 263    </td><td>492.43  </td><td>Beta    </td></tr>\n",
       "\t<tr><th scope=row>Beta2_F1</th><td>3193    </td><td>1683    </td><td>1751    </td><td>32      </td><td> 489    </td><td>136     </td><td>386     </td><td>1789    </td><td> 73     </td><td>6050    </td><td>...     </td><td>3080    </td><td> 800    </td><td>2901    </td><td>1768.00 </td><td>2336    </td><td>1536.0  </td><td>1417    </td><td>  43    </td><td>712.38  </td><td>Beta    </td></tr>\n",
       "\t<tr><th scope=row>Beta3_F1</th><td>4427    </td><td>2056    </td><td>1261    </td><td>14      </td><td> 364    </td><td>125     </td><td>346     </td><td>1289    </td><td>119     </td><td>4921    </td><td>...     </td><td>2570    </td><td>1412    </td><td>1436    </td><td> 588.80 </td><td>2045    </td><td>1868.0  </td><td> 344    </td><td> 956    </td><td>360.00  </td><td>Beta    </td></tr>\n",
       "\t<tr><th scope=row>Beta4_F1</th><td>3836    </td><td>2555    </td><td>1753    </td><td>30      </td><td> 520    </td><td>247     </td><td>482     </td><td>2737    </td><td>129     </td><td>5432    </td><td>...     </td><td>3420    </td><td> 803    </td><td>2327    </td><td> 570.60 </td><td>2821    </td><td>1808.0  </td><td> 551    </td><td>2203    </td><td>148.38  </td><td>Beta    </td></tr>\n",
       "\t<tr><th scope=row>Control1_F1</th><td>9818    </td><td>1733    </td><td> 935    </td><td>95      </td><td>2647    </td><td>120     </td><td>381     </td><td>1277    </td><td>393     </td><td>4692    </td><td>...     </td><td>2713    </td><td>2490    </td><td>1729    </td><td>1334.00 </td><td>2701    </td><td> -12.3  </td><td> 444    </td><td> 780    </td><td>141.50  </td><td>Control </td></tr>\n",
       "\t<tr><th scope=row>Control2_F1</th><td>3802    </td><td> 777    </td><td>1052    </td><td>41      </td><td> 572    </td><td> 89     </td><td>285     </td><td> 963    </td><td>121     </td><td>3407    </td><td>...     </td><td>1719    </td><td>1160    </td><td>1590    </td><td>  65.25 </td><td>2598    </td><td>1192.0  </td><td> 292    </td><td>1091    </td><td>190.50  </td><td>Control </td></tr>\n",
       "\t<tr><th scope=row>Control3_F1</th><td>5880    </td><td> 764    </td><td> 848    </td><td>54      </td><td>1008    </td><td> 70     </td><td>209     </td><td> 610    </td><td>190     </td><td>3529    </td><td>...     </td><td>1419    </td><td>1677    </td><td>1062    </td><td> 124.80 </td><td>1345    </td><td>1092.0  </td><td>  39    </td><td> 462    </td><td>242.75  </td><td>Control </td></tr>\n",
       "\t<tr><th scope=row>Control4_F1</th><td>8455    </td><td> 944    </td><td> 783    </td><td>86      </td><td>1868    </td><td> 82     </td><td>195     </td><td> 625    </td><td>317     </td><td>3614    </td><td>...     </td><td>1431    </td><td>1801    </td><td>1037    </td><td>-154.20 </td><td>1194    </td><td>-371.1  </td><td> 695    </td><td>  67    </td><td>330.25  </td><td>Control </td></tr>\n",
       "</tbody>\n",
       "</table>\n"
      ],
      "text/latex": [
       "\\begin{tabular}{r|llllllllllllllllllllllllllllll}\n",
       "  & ARPP21 & ATP6AP1L & B3GALT2 & C9orf116 & CALB1 & CCDC80 & CREB3L1 & CTXN3 & DACH1 & GABRA3 & ... & SYNJ2 & VSTM2L & OF\\_HPA1\\_T\\_AUC & OF\\_HPA1\\_Net\\_AUC & OF\\_HPA2\\_T\\_AUC & OF\\_HPA2\\_Net\\_AUC & OFA1\\_Total & OFA2\\_Total & Startle & Group\\\\\n",
       "\\hline\n",
       "\tBeta1\\_F1 & 3430     & 1607     & 2086     & 30       &  497     & 260      & 482      & 2023     & 133      & 6661     & ...      & 2651     & 1275     & 1695     & 1338.00  & 2269     & 1993.0   & 2631     &  263     & 492.43   & Beta    \\\\\n",
       "\tBeta2\\_F1 & 3193     & 1683     & 1751     & 32       &  489     & 136      & 386      & 1789     &  73      & 6050     & ...      & 3080     &  800     & 2901     & 1768.00  & 2336     & 1536.0   & 1417     &   43     & 712.38   & Beta    \\\\\n",
       "\tBeta3\\_F1 & 4427     & 2056     & 1261     & 14       &  364     & 125      & 346      & 1289     & 119      & 4921     & ...      & 2570     & 1412     & 1436     &  588.80  & 2045     & 1868.0   &  344     &  956     & 360.00   & Beta    \\\\\n",
       "\tBeta4\\_F1 & 3836     & 2555     & 1753     & 30       &  520     & 247      & 482      & 2737     & 129      & 5432     & ...      & 3420     &  803     & 2327     &  570.60  & 2821     & 1808.0   &  551     & 2203     & 148.38   & Beta    \\\\\n",
       "\tControl1\\_F1 & 9818     & 1733     &  935     & 95       & 2647     & 120      & 381      & 1277     & 393      & 4692     & ...      & 2713     & 2490     & 1729     & 1334.00  & 2701     &  -12.3   &  444     &  780     & 141.50   & Control \\\\\n",
       "\tControl2\\_F1 & 3802     &  777     & 1052     & 41       &  572     &  89      & 285      &  963     & 121      & 3407     & ...      & 1719     & 1160     & 1590     &   65.25  & 2598     & 1192.0   &  292     & 1091     & 190.50   & Control \\\\\n",
       "\tControl3\\_F1 & 5880     &  764     &  848     & 54       & 1008     &  70      & 209      &  610     & 190      & 3529     & ...      & 1419     & 1677     & 1062     &  124.80  & 1345     & 1092.0   &   39     &  462     & 242.75   & Control \\\\\n",
       "\tControl4\\_F1 & 8455     &  944     &  783     & 86       & 1868     &  82      & 195      &  625     & 317      & 3614     & ...      & 1431     & 1801     & 1037     & -154.20  & 1194     & -371.1   &  695     &   67     & 330.25   & Control \\\\\n",
       "\\end{tabular}\n"
      ],
      "text/markdown": [
       "\n",
       "| <!--/--> | ARPP21 | ATP6AP1L | B3GALT2 | C9orf116 | CALB1 | CCDC80 | CREB3L1 | CTXN3 | DACH1 | GABRA3 | ... | SYNJ2 | VSTM2L | OF_HPA1_T_AUC | OF_HPA1_Net_AUC | OF_HPA2_T_AUC | OF_HPA2_Net_AUC | OFA1_Total | OFA2_Total | Startle | Group | \n",
       "|---|---|---|---|---|---|---|---|\n",
       "| Beta1_F1 | 3430     | 1607     | 2086     | 30       |  497     | 260      | 482      | 2023     | 133      | 6661     | ...      | 2651     | 1275     | 1695     | 1338.00  | 2269     | 1993.0   | 2631     |  263     | 492.43   | Beta     | \n",
       "| Beta2_F1 | 3193     | 1683     | 1751     | 32       |  489     | 136      | 386      | 1789     |  73      | 6050     | ...      | 3080     |  800     | 2901     | 1768.00  | 2336     | 1536.0   | 1417     |   43     | 712.38   | Beta     | \n",
       "| Beta3_F1 | 4427     | 2056     | 1261     | 14       |  364     | 125      | 346      | 1289     | 119      | 4921     | ...      | 2570     | 1412     | 1436     |  588.80  | 2045     | 1868.0   |  344     |  956     | 360.00   | Beta     | \n",
       "| Beta4_F1 | 3836     | 2555     | 1753     | 30       |  520     | 247      | 482      | 2737     | 129      | 5432     | ...      | 3420     |  803     | 2327     |  570.60  | 2821     | 1808.0   |  551     | 2203     | 148.38   | Beta     | \n",
       "| Control1_F1 | 9818     | 1733     |  935     | 95       | 2647     | 120      | 381      | 1277     | 393      | 4692     | ...      | 2713     | 2490     | 1729     | 1334.00  | 2701     |  -12.3   |  444     |  780     | 141.50   | Control  | \n",
       "| Control2_F1 | 3802     |  777     | 1052     | 41       |  572     |  89      | 285      |  963     | 121      | 3407     | ...      | 1719     | 1160     | 1590     |   65.25  | 2598     | 1192.0   |  292     | 1091     | 190.50   | Control  | \n",
       "| Control3_F1 | 5880     |  764     |  848     | 54       | 1008     |  70      | 209      |  610     | 190      | 3529     | ...      | 1419     | 1677     | 1062     |  124.80  | 1345     | 1092.0   |   39     |  462     | 242.75   | Control  | \n",
       "| Control4_F1 | 8455     |  944     |  783     | 86       | 1868     |  82      | 195      |  625     | 317      | 3614     | ...      | 1431     | 1801     | 1037     | -154.20  | 1194     | -371.1   |  695     |   67     | 330.25   | Control  | \n",
       "\n",
       "\n"
      ],
      "text/plain": [
       "            ARPP21 ATP6AP1L B3GALT2 C9orf116 CALB1 CCDC80 CREB3L1 CTXN3 DACH1\n",
       "Beta1_F1    3430   1607     2086    30        497  260    482     2023  133  \n",
       "Beta2_F1    3193   1683     1751    32        489  136    386     1789   73  \n",
       "Beta3_F1    4427   2056     1261    14        364  125    346     1289  119  \n",
       "Beta4_F1    3836   2555     1753    30        520  247    482     2737  129  \n",
       "Control1_F1 9818   1733      935    95       2647  120    381     1277  393  \n",
       "Control2_F1 3802    777     1052    41        572   89    285      963  121  \n",
       "Control3_F1 5880    764      848    54       1008   70    209      610  190  \n",
       "Control4_F1 8455    944      783    86       1868   82    195      625  317  \n",
       "            GABRA3 ... SYNJ2 VSTM2L OF_HPA1_T_AUC OF_HPA1_Net_AUC OF_HPA2_T_AUC\n",
       "Beta1_F1    6661   ... 2651  1275   1695          1338.00         2269         \n",
       "Beta2_F1    6050   ... 3080   800   2901          1768.00         2336         \n",
       "Beta3_F1    4921   ... 2570  1412   1436           588.80         2045         \n",
       "Beta4_F1    5432   ... 3420   803   2327           570.60         2821         \n",
       "Control1_F1 4692   ... 2713  2490   1729          1334.00         2701         \n",
       "Control2_F1 3407   ... 1719  1160   1590            65.25         2598         \n",
       "Control3_F1 3529   ... 1419  1677   1062           124.80         1345         \n",
       "Control4_F1 3614   ... 1431  1801   1037          -154.20         1194         \n",
       "            OF_HPA2_Net_AUC OFA1_Total OFA2_Total Startle Group   \n",
       "Beta1_F1    1993.0          2631        263       492.43  Beta    \n",
       "Beta2_F1    1536.0          1417         43       712.38  Beta    \n",
       "Beta3_F1    1868.0           344        956       360.00  Beta    \n",
       "Beta4_F1    1808.0           551       2203       148.38  Beta    \n",
       "Control1_F1  -12.3           444        780       141.50  Control \n",
       "Control2_F1 1192.0           292       1091       190.50  Control \n",
       "Control3_F1 1092.0            39        462       242.75  Control \n",
       "Control4_F1 -371.1           695         67       330.25  Control "
      ]
     },
     "metadata": {},
     "output_type": "display_data"
    }
   ],
   "source": [
    "F1 = data[1:8,]\n",
    "F1"
   ]
  },
  {
   "cell_type": "code",
   "execution_count": 48,
   "metadata": {
    "collapsed": false
   },
   "outputs": [
    {
     "data": {
      "text/html": [
       "<table>\n",
       "<thead><tr><th></th><th scope=col>ARPP21</th><th scope=col>ATP6AP1L</th><th scope=col>B3GALT2</th><th scope=col>C9orf116</th><th scope=col>CALB1</th><th scope=col>CCDC80</th><th scope=col>CREB3L1</th><th scope=col>CTXN3</th><th scope=col>DACH1</th><th scope=col>GABRA3</th><th scope=col>...</th><th scope=col>SYNJ2</th><th scope=col>VSTM2L</th><th scope=col>OF_HPA1_T_AUC</th><th scope=col>OF_HPA1_Net_AUC</th><th scope=col>OF_HPA2_T_AUC</th><th scope=col>OF_HPA2_Net_AUC</th><th scope=col>OFA1_Total</th><th scope=col>OFA2_Total</th><th scope=col>Startle</th><th scope=col>Group</th></tr></thead>\n",
       "<tbody>\n",
       "\t<tr><th scope=row>Beta1_F3</th><td>3714    </td><td>2077    </td><td>1706    </td><td>48      </td><td> 322    </td><td>160     </td><td>169     </td><td>2408    </td><td> 74     </td><td>4620    </td><td>...     </td><td>3207    </td><td> 722    </td><td>3073    </td><td> 2234.00</td><td>3202.0  </td><td>1462.0  </td><td>  14.0  </td><td>  46.0  </td><td>182.50  </td><td>Beta    </td></tr>\n",
       "\t<tr><th scope=row>Beta2_F3</th><td>4842    </td><td>1961    </td><td>2071    </td><td>31      </td><td> 485    </td><td>219     </td><td>241     </td><td>2877    </td><td> 98     </td><td>4630    </td><td>...     </td><td>4017    </td><td> 782    </td><td>1872    </td><td>  988.25</td><td>1982.5  </td><td>1612.0  </td><td> 839.5  </td><td> 511.5  </td><td>287.13  </td><td>Beta    </td></tr>\n",
       "\t<tr><th scope=row>Beta3_F3</th><td>2968    </td><td>2090    </td><td>1788    </td><td>26      </td><td> 321    </td><td>164     </td><td>109     </td><td>2645    </td><td> 50     </td><td>4083    </td><td>...     </td><td>3097    </td><td> 521    </td><td>2108    </td><td>  410.70</td><td>2955.0  </td><td>2347.0  </td><td>2222.0  </td><td>3507.0  </td><td>305.00  </td><td>Beta    </td></tr>\n",
       "\t<tr><th scope=row>Beta4_F3</th><td>3752    </td><td>1422    </td><td>1718    </td><td>25      </td><td> 280    </td><td>149     </td><td>129     </td><td>2340    </td><td> 67     </td><td>2857    </td><td>...     </td><td>3463    </td><td> 546    </td><td>1288    </td><td>  540.20</td><td>2257.0  </td><td>1099.0  </td><td> 718.0  </td><td>  28.0  </td><td>686.38  </td><td>Beta    </td></tr>\n",
       "\t<tr><th scope=row>Control1_F3</th><td>4125    </td><td>1398    </td><td>1408    </td><td>71      </td><td> 432    </td><td>167     </td><td>103     </td><td>2060    </td><td>106     </td><td>3541    </td><td>...     </td><td>2892    </td><td> 774    </td><td>1408    </td><td>-1564.00</td><td>3293.0  </td><td>2357.0  </td><td>  34.0  </td><td>1638.0  </td><td>422.38  </td><td>Control </td></tr>\n",
       "\t<tr><th scope=row>Control2_F3</th><td>8464    </td><td>1265    </td><td> 773    </td><td>67      </td><td>1503    </td><td> 77     </td><td> 62     </td><td> 720    </td><td> 94     </td><td>2522    </td><td>...     </td><td>1796    </td><td>1475    </td><td>2079    </td><td> 1018.00</td><td>3254.0  </td><td>2652.0  </td><td>  39.0  </td><td>  33.0  </td><td>294.75  </td><td>Control </td></tr>\n",
       "\t<tr><th scope=row>Control3_F3</th><td>8318    </td><td>1532    </td><td>1293    </td><td>43      </td><td>1429    </td><td>100     </td><td> 57     </td><td>1661    </td><td>144     </td><td>2600    </td><td>...     </td><td>2646    </td><td>1090    </td><td>2087    </td><td> 1185.00</td><td>1614.0  </td><td> 932.3  </td><td>1086.0  </td><td> 242.0  </td><td>247.75  </td><td>Control </td></tr>\n",
       "\t<tr><th scope=row>Control4_F3</th><td>6903    </td><td>1050    </td><td> 778    </td><td>83      </td><td> 879    </td><td> 90     </td><td> 81     </td><td> 743    </td><td> 92     </td><td>2499    </td><td>...     </td><td>1916    </td><td>1310    </td><td>3124    </td><td>  826.20</td><td>4154.0  </td><td>2156.0  </td><td> 915.0  </td><td> 319.0  </td><td>603.00  </td><td>Control </td></tr>\n",
       "</tbody>\n",
       "</table>\n"
      ],
      "text/latex": [
       "\\begin{tabular}{r|llllllllllllllllllllllllllllll}\n",
       "  & ARPP21 & ATP6AP1L & B3GALT2 & C9orf116 & CALB1 & CCDC80 & CREB3L1 & CTXN3 & DACH1 & GABRA3 & ... & SYNJ2 & VSTM2L & OF\\_HPA1\\_T\\_AUC & OF\\_HPA1\\_Net\\_AUC & OF\\_HPA2\\_T\\_AUC & OF\\_HPA2\\_Net\\_AUC & OFA1\\_Total & OFA2\\_Total & Startle & Group\\\\\n",
       "\\hline\n",
       "\tBeta1\\_F3 & 3714     & 2077     & 1706     & 48       &  322     & 160      & 169      & 2408     &  74      & 4620     & ...      & 3207     &  722     & 3073     &  2234.00 & 3202.0   & 1462.0   &   14.0   &   46.0   & 182.50   & Beta    \\\\\n",
       "\tBeta2\\_F3 & 4842     & 1961     & 2071     & 31       &  485     & 219      & 241      & 2877     &  98      & 4630     & ...      & 4017     &  782     & 1872     &   988.25 & 1982.5   & 1612.0   &  839.5   &  511.5   & 287.13   & Beta    \\\\\n",
       "\tBeta3\\_F3 & 2968     & 2090     & 1788     & 26       &  321     & 164      & 109      & 2645     &  50      & 4083     & ...      & 3097     &  521     & 2108     &   410.70 & 2955.0   & 2347.0   & 2222.0   & 3507.0   & 305.00   & Beta    \\\\\n",
       "\tBeta4\\_F3 & 3752     & 1422     & 1718     & 25       &  280     & 149      & 129      & 2340     &  67      & 2857     & ...      & 3463     &  546     & 1288     &   540.20 & 2257.0   & 1099.0   &  718.0   &   28.0   & 686.38   & Beta    \\\\\n",
       "\tControl1\\_F3 & 4125     & 1398     & 1408     & 71       &  432     & 167      & 103      & 2060     & 106      & 3541     & ...      & 2892     &  774     & 1408     & -1564.00 & 3293.0   & 2357.0   &   34.0   & 1638.0   & 422.38   & Control \\\\\n",
       "\tControl2\\_F3 & 8464     & 1265     &  773     & 67       & 1503     &  77      &  62      &  720     &  94      & 2522     & ...      & 1796     & 1475     & 2079     &  1018.00 & 3254.0   & 2652.0   &   39.0   &   33.0   & 294.75   & Control \\\\\n",
       "\tControl3\\_F3 & 8318     & 1532     & 1293     & 43       & 1429     & 100      &  57      & 1661     & 144      & 2600     & ...      & 2646     & 1090     & 2087     &  1185.00 & 1614.0   &  932.3   & 1086.0   &  242.0   & 247.75   & Control \\\\\n",
       "\tControl4\\_F3 & 6903     & 1050     &  778     & 83       &  879     &  90      &  81      &  743     &  92      & 2499     & ...      & 1916     & 1310     & 3124     &   826.20 & 4154.0   & 2156.0   &  915.0   &  319.0   & 603.00   & Control \\\\\n",
       "\\end{tabular}\n"
      ],
      "text/markdown": [
       "\n",
       "| <!--/--> | ARPP21 | ATP6AP1L | B3GALT2 | C9orf116 | CALB1 | CCDC80 | CREB3L1 | CTXN3 | DACH1 | GABRA3 | ... | SYNJ2 | VSTM2L | OF_HPA1_T_AUC | OF_HPA1_Net_AUC | OF_HPA2_T_AUC | OF_HPA2_Net_AUC | OFA1_Total | OFA2_Total | Startle | Group | \n",
       "|---|---|---|---|---|---|---|---|\n",
       "| Beta1_F3 | 3714     | 2077     | 1706     | 48       |  322     | 160      | 169      | 2408     |  74      | 4620     | ...      | 3207     |  722     | 3073     |  2234.00 | 3202.0   | 1462.0   |   14.0   |   46.0   | 182.50   | Beta     | \n",
       "| Beta2_F3 | 4842     | 1961     | 2071     | 31       |  485     | 219      | 241      | 2877     |  98      | 4630     | ...      | 4017     |  782     | 1872     |   988.25 | 1982.5   | 1612.0   |  839.5   |  511.5   | 287.13   | Beta     | \n",
       "| Beta3_F3 | 2968     | 2090     | 1788     | 26       |  321     | 164      | 109      | 2645     |  50      | 4083     | ...      | 3097     |  521     | 2108     |   410.70 | 2955.0   | 2347.0   | 2222.0   | 3507.0   | 305.00   | Beta     | \n",
       "| Beta4_F3 | 3752     | 1422     | 1718     | 25       |  280     | 149      | 129      | 2340     |  67      | 2857     | ...      | 3463     |  546     | 1288     |   540.20 | 2257.0   | 1099.0   |  718.0   |   28.0   | 686.38   | Beta     | \n",
       "| Control1_F3 | 4125     | 1398     | 1408     | 71       |  432     | 167      | 103      | 2060     | 106      | 3541     | ...      | 2892     |  774     | 1408     | -1564.00 | 3293.0   | 2357.0   |   34.0   | 1638.0   | 422.38   | Control  | \n",
       "| Control2_F3 | 8464     | 1265     |  773     | 67       | 1503     |  77      |  62      |  720     |  94      | 2522     | ...      | 1796     | 1475     | 2079     |  1018.00 | 3254.0   | 2652.0   |   39.0   |   33.0   | 294.75   | Control  | \n",
       "| Control3_F3 | 8318     | 1532     | 1293     | 43       | 1429     | 100      |  57      | 1661     | 144      | 2600     | ...      | 2646     | 1090     | 2087     |  1185.00 | 1614.0   |  932.3   | 1086.0   |  242.0   | 247.75   | Control  | \n",
       "| Control4_F3 | 6903     | 1050     |  778     | 83       |  879     |  90      |  81      |  743     |  92      | 2499     | ...      | 1916     | 1310     | 3124     |   826.20 | 4154.0   | 2156.0   |  915.0   |  319.0   | 603.00   | Control  | \n",
       "\n",
       "\n"
      ],
      "text/plain": [
       "            ARPP21 ATP6AP1L B3GALT2 C9orf116 CALB1 CCDC80 CREB3L1 CTXN3 DACH1\n",
       "Beta1_F3    3714   2077     1706    48        322  160    169     2408   74  \n",
       "Beta2_F3    4842   1961     2071    31        485  219    241     2877   98  \n",
       "Beta3_F3    2968   2090     1788    26        321  164    109     2645   50  \n",
       "Beta4_F3    3752   1422     1718    25        280  149    129     2340   67  \n",
       "Control1_F3 4125   1398     1408    71        432  167    103     2060  106  \n",
       "Control2_F3 8464   1265      773    67       1503   77     62      720   94  \n",
       "Control3_F3 8318   1532     1293    43       1429  100     57     1661  144  \n",
       "Control4_F3 6903   1050      778    83        879   90     81      743   92  \n",
       "            GABRA3 ... SYNJ2 VSTM2L OF_HPA1_T_AUC OF_HPA1_Net_AUC OF_HPA2_T_AUC\n",
       "Beta1_F3    4620   ... 3207   722   3073           2234.00        3202.0       \n",
       "Beta2_F3    4630   ... 4017   782   1872            988.25        1982.5       \n",
       "Beta3_F3    4083   ... 3097   521   2108            410.70        2955.0       \n",
       "Beta4_F3    2857   ... 3463   546   1288            540.20        2257.0       \n",
       "Control1_F3 3541   ... 2892   774   1408          -1564.00        3293.0       \n",
       "Control2_F3 2522   ... 1796  1475   2079           1018.00        3254.0       \n",
       "Control3_F3 2600   ... 2646  1090   2087           1185.00        1614.0       \n",
       "Control4_F3 2499   ... 1916  1310   3124            826.20        4154.0       \n",
       "            OF_HPA2_Net_AUC OFA1_Total OFA2_Total Startle Group   \n",
       "Beta1_F3    1462.0            14.0       46.0     182.50  Beta    \n",
       "Beta2_F3    1612.0           839.5      511.5     287.13  Beta    \n",
       "Beta3_F3    2347.0          2222.0     3507.0     305.00  Beta    \n",
       "Beta4_F3    1099.0           718.0       28.0     686.38  Beta    \n",
       "Control1_F3 2357.0            34.0     1638.0     422.38  Control \n",
       "Control2_F3 2652.0            39.0       33.0     294.75  Control \n",
       "Control3_F3  932.3          1086.0      242.0     247.75  Control \n",
       "Control4_F3 2156.0           915.0      319.0     603.00  Control "
      ]
     },
     "metadata": {},
     "output_type": "display_data"
    }
   ],
   "source": [
    "F3 = data[17:24,]\n",
    "F3"
   ]
  },
  {
   "cell_type": "code",
   "execution_count": 63,
   "metadata": {
    "collapsed": false
   },
   "outputs": [
    {
     "data": {
      "text/html": [
       "<table>\n",
       "<thead><tr><th></th><th scope=col>ARPP21</th><th scope=col>ATP6AP1L</th><th scope=col>B3GALT2</th><th scope=col>C9orf116</th><th scope=col>CALB1</th><th scope=col>CCDC80</th><th scope=col>CREB3L1</th><th scope=col>CTXN3</th><th scope=col>DACH1</th><th scope=col>GABRA3</th><th scope=col>...</th><th scope=col>SYNJ2</th><th scope=col>VSTM2L</th><th scope=col>OF_HPA1_T_AUC</th><th scope=col>OF_HPA1_Net_AUC</th><th scope=col>OF_HPA2_T_AUC</th><th scope=col>OF_HPA2_Net_AUC</th><th scope=col>OFA1_Total</th><th scope=col>OFA2_Total</th><th scope=col>Startle</th><th scope=col>Group</th></tr></thead>\n",
       "<tbody>\n",
       "\t<tr><th scope=row>Beta1_F1</th><td>3430    </td><td>1607    </td><td>2086    </td><td>30      </td><td> 497    </td><td>260     </td><td>482     </td><td>2023    </td><td>133     </td><td>6661    </td><td>...     </td><td>2651    </td><td>1275    </td><td>1695    </td><td> 1338.00</td><td>2269.0  </td><td>1993.0  </td><td>2631.0  </td><td> 263.0  </td><td>492.43  </td><td>Beta    </td></tr>\n",
       "\t<tr><th scope=row>Beta2_F1</th><td>3193    </td><td>1683    </td><td>1751    </td><td>32      </td><td> 489    </td><td>136     </td><td>386     </td><td>1789    </td><td> 73     </td><td>6050    </td><td>...     </td><td>3080    </td><td> 800    </td><td>2901    </td><td> 1768.00</td><td>2336.0  </td><td>1536.0  </td><td>1417.0  </td><td>  43.0  </td><td>712.38  </td><td>Beta    </td></tr>\n",
       "\t<tr><th scope=row>Beta3_F1</th><td>4427    </td><td>2056    </td><td>1261    </td><td>14      </td><td> 364    </td><td>125     </td><td>346     </td><td>1289    </td><td>119     </td><td>4921    </td><td>...     </td><td>2570    </td><td>1412    </td><td>1436    </td><td>  588.80</td><td>2045.0  </td><td>1868.0  </td><td> 344.0  </td><td> 956.0  </td><td>360.00  </td><td>Beta    </td></tr>\n",
       "\t<tr><th scope=row>Beta4_F1</th><td>3836    </td><td>2555    </td><td>1753    </td><td>30      </td><td> 520    </td><td>247     </td><td>482     </td><td>2737    </td><td>129     </td><td>5432    </td><td>...     </td><td>3420    </td><td> 803    </td><td>2327    </td><td>  570.60</td><td>2821.0  </td><td>1808.0  </td><td> 551.0  </td><td>2203.0  </td><td>148.38  </td><td>Beta    </td></tr>\n",
       "\t<tr><th scope=row>Control1_F1</th><td>9818    </td><td>1733    </td><td> 935    </td><td>95      </td><td>2647    </td><td>120     </td><td>381     </td><td>1277    </td><td>393     </td><td>4692    </td><td>...     </td><td>2713    </td><td>2490    </td><td>1729    </td><td> 1334.00</td><td>2701.0  </td><td> -12.3  </td><td> 444.0  </td><td> 780.0  </td><td>141.50  </td><td>Control </td></tr>\n",
       "\t<tr><th scope=row>Control2_F1</th><td>3802    </td><td> 777    </td><td>1052    </td><td>41      </td><td> 572    </td><td> 89     </td><td>285     </td><td> 963    </td><td>121     </td><td>3407    </td><td>...     </td><td>1719    </td><td>1160    </td><td>1590    </td><td>   65.25</td><td>2598.0  </td><td>1192.0  </td><td> 292.0  </td><td>1091.0  </td><td>190.50  </td><td>Control </td></tr>\n",
       "\t<tr><th scope=row>Control3_F1</th><td>5880    </td><td> 764    </td><td> 848    </td><td>54      </td><td>1008    </td><td> 70     </td><td>209     </td><td> 610    </td><td>190     </td><td>3529    </td><td>...     </td><td>1419    </td><td>1677    </td><td>1062    </td><td>  124.80</td><td>1345.0  </td><td>1092.0  </td><td>  39.0  </td><td> 462.0  </td><td>242.75  </td><td>Control </td></tr>\n",
       "\t<tr><th scope=row>Control4_F1</th><td>8455    </td><td> 944    </td><td> 783    </td><td>86      </td><td>1868    </td><td> 82     </td><td>195     </td><td> 625    </td><td>317     </td><td>3614    </td><td>...     </td><td>1431    </td><td>1801    </td><td>1037    </td><td> -154.20</td><td>1194.0  </td><td>-371.1  </td><td> 695.0  </td><td>  67.0  </td><td>330.25  </td><td>Control </td></tr>\n",
       "\t<tr><th scope=row>Beta1_F3</th><td>3714    </td><td>2077    </td><td>1706    </td><td>48      </td><td> 322    </td><td>160     </td><td>169     </td><td>2408    </td><td> 74     </td><td>4620    </td><td>...     </td><td>3207    </td><td> 722    </td><td>3073    </td><td> 2234.00</td><td>3202.0  </td><td>1462.0  </td><td>  14.0  </td><td>  46.0  </td><td>182.50  </td><td>Beta    </td></tr>\n",
       "\t<tr><th scope=row>Beta2_F3</th><td>4842    </td><td>1961    </td><td>2071    </td><td>31      </td><td> 485    </td><td>219     </td><td>241     </td><td>2877    </td><td> 98     </td><td>4630    </td><td>...     </td><td>4017    </td><td> 782    </td><td>1872    </td><td>  988.25</td><td>1982.5  </td><td>1612.0  </td><td> 839.5  </td><td> 511.5  </td><td>287.13  </td><td>Beta    </td></tr>\n",
       "\t<tr><th scope=row>Beta3_F3</th><td>2968    </td><td>2090    </td><td>1788    </td><td>26      </td><td> 321    </td><td>164     </td><td>109     </td><td>2645    </td><td> 50     </td><td>4083    </td><td>...     </td><td>3097    </td><td> 521    </td><td>2108    </td><td>  410.70</td><td>2955.0  </td><td>2347.0  </td><td>2222.0  </td><td>3507.0  </td><td>305.00  </td><td>Beta    </td></tr>\n",
       "\t<tr><th scope=row>Beta4_F3</th><td>3752    </td><td>1422    </td><td>1718    </td><td>25      </td><td> 280    </td><td>149     </td><td>129     </td><td>2340    </td><td> 67     </td><td>2857    </td><td>...     </td><td>3463    </td><td> 546    </td><td>1288    </td><td>  540.20</td><td>2257.0  </td><td>1099.0  </td><td> 718.0  </td><td>  28.0  </td><td>686.38  </td><td>Beta    </td></tr>\n",
       "\t<tr><th scope=row>Control1_F3</th><td>4125    </td><td>1398    </td><td>1408    </td><td>71      </td><td> 432    </td><td>167     </td><td>103     </td><td>2060    </td><td>106     </td><td>3541    </td><td>...     </td><td>2892    </td><td> 774    </td><td>1408    </td><td>-1564.00</td><td>3293.0  </td><td>2357.0  </td><td>  34.0  </td><td>1638.0  </td><td>422.38  </td><td>Control </td></tr>\n",
       "\t<tr><th scope=row>Control2_F3</th><td>8464    </td><td>1265    </td><td> 773    </td><td>67      </td><td>1503    </td><td> 77     </td><td> 62     </td><td> 720    </td><td> 94     </td><td>2522    </td><td>...     </td><td>1796    </td><td>1475    </td><td>2079    </td><td> 1018.00</td><td>3254.0  </td><td>2652.0  </td><td>  39.0  </td><td>  33.0  </td><td>294.75  </td><td>Control </td></tr>\n",
       "\t<tr><th scope=row>Control3_F3</th><td>8318    </td><td>1532    </td><td>1293    </td><td>43      </td><td>1429    </td><td>100     </td><td> 57     </td><td>1661    </td><td>144     </td><td>2600    </td><td>...     </td><td>2646    </td><td>1090    </td><td>2087    </td><td> 1185.00</td><td>1614.0  </td><td> 932.3  </td><td>1086.0  </td><td> 242.0  </td><td>247.75  </td><td>Control </td></tr>\n",
       "\t<tr><th scope=row>Control4_F3</th><td>6903    </td><td>1050    </td><td> 778    </td><td>83      </td><td> 879    </td><td> 90     </td><td> 81     </td><td> 743    </td><td> 92     </td><td>2499    </td><td>...     </td><td>1916    </td><td>1310    </td><td>3124    </td><td>  826.20</td><td>4154.0  </td><td>2156.0  </td><td> 915.0  </td><td> 319.0  </td><td>603.00  </td><td>Control </td></tr>\n",
       "</tbody>\n",
       "</table>\n"
      ],
      "text/latex": [
       "\\begin{tabular}{r|llllllllllllllllllllllllllllll}\n",
       "  & ARPP21 & ATP6AP1L & B3GALT2 & C9orf116 & CALB1 & CCDC80 & CREB3L1 & CTXN3 & DACH1 & GABRA3 & ... & SYNJ2 & VSTM2L & OF\\_HPA1\\_T\\_AUC & OF\\_HPA1\\_Net\\_AUC & OF\\_HPA2\\_T\\_AUC & OF\\_HPA2\\_Net\\_AUC & OFA1\\_Total & OFA2\\_Total & Startle & Group\\\\\n",
       "\\hline\n",
       "\tBeta1\\_F1 & 3430     & 1607     & 2086     & 30       &  497     & 260      & 482      & 2023     & 133      & 6661     & ...      & 2651     & 1275     & 1695     &  1338.00 & 2269.0   & 1993.0   & 2631.0   &  263.0   & 492.43   & Beta    \\\\\n",
       "\tBeta2\\_F1 & 3193     & 1683     & 1751     & 32       &  489     & 136      & 386      & 1789     &  73      & 6050     & ...      & 3080     &  800     & 2901     &  1768.00 & 2336.0   & 1536.0   & 1417.0   &   43.0   & 712.38   & Beta    \\\\\n",
       "\tBeta3\\_F1 & 4427     & 2056     & 1261     & 14       &  364     & 125      & 346      & 1289     & 119      & 4921     & ...      & 2570     & 1412     & 1436     &   588.80 & 2045.0   & 1868.0   &  344.0   &  956.0   & 360.00   & Beta    \\\\\n",
       "\tBeta4\\_F1 & 3836     & 2555     & 1753     & 30       &  520     & 247      & 482      & 2737     & 129      & 5432     & ...      & 3420     &  803     & 2327     &   570.60 & 2821.0   & 1808.0   &  551.0   & 2203.0   & 148.38   & Beta    \\\\\n",
       "\tControl1\\_F1 & 9818     & 1733     &  935     & 95       & 2647     & 120      & 381      & 1277     & 393      & 4692     & ...      & 2713     & 2490     & 1729     &  1334.00 & 2701.0   &  -12.3   &  444.0   &  780.0   & 141.50   & Control \\\\\n",
       "\tControl2\\_F1 & 3802     &  777     & 1052     & 41       &  572     &  89      & 285      &  963     & 121      & 3407     & ...      & 1719     & 1160     & 1590     &    65.25 & 2598.0   & 1192.0   &  292.0   & 1091.0   & 190.50   & Control \\\\\n",
       "\tControl3\\_F1 & 5880     &  764     &  848     & 54       & 1008     &  70      & 209      &  610     & 190      & 3529     & ...      & 1419     & 1677     & 1062     &   124.80 & 1345.0   & 1092.0   &   39.0   &  462.0   & 242.75   & Control \\\\\n",
       "\tControl4\\_F1 & 8455     &  944     &  783     & 86       & 1868     &  82      & 195      &  625     & 317      & 3614     & ...      & 1431     & 1801     & 1037     &  -154.20 & 1194.0   & -371.1   &  695.0   &   67.0   & 330.25   & Control \\\\\n",
       "\tBeta1\\_F3 & 3714     & 2077     & 1706     & 48       &  322     & 160      & 169      & 2408     &  74      & 4620     & ...      & 3207     &  722     & 3073     &  2234.00 & 3202.0   & 1462.0   &   14.0   &   46.0   & 182.50   & Beta    \\\\\n",
       "\tBeta2\\_F3 & 4842     & 1961     & 2071     & 31       &  485     & 219      & 241      & 2877     &  98      & 4630     & ...      & 4017     &  782     & 1872     &   988.25 & 1982.5   & 1612.0   &  839.5   &  511.5   & 287.13   & Beta    \\\\\n",
       "\tBeta3\\_F3 & 2968     & 2090     & 1788     & 26       &  321     & 164      & 109      & 2645     &  50      & 4083     & ...      & 3097     &  521     & 2108     &   410.70 & 2955.0   & 2347.0   & 2222.0   & 3507.0   & 305.00   & Beta    \\\\\n",
       "\tBeta4\\_F3 & 3752     & 1422     & 1718     & 25       &  280     & 149      & 129      & 2340     &  67      & 2857     & ...      & 3463     &  546     & 1288     &   540.20 & 2257.0   & 1099.0   &  718.0   &   28.0   & 686.38   & Beta    \\\\\n",
       "\tControl1\\_F3 & 4125     & 1398     & 1408     & 71       &  432     & 167      & 103      & 2060     & 106      & 3541     & ...      & 2892     &  774     & 1408     & -1564.00 & 3293.0   & 2357.0   &   34.0   & 1638.0   & 422.38   & Control \\\\\n",
       "\tControl2\\_F3 & 8464     & 1265     &  773     & 67       & 1503     &  77      &  62      &  720     &  94      & 2522     & ...      & 1796     & 1475     & 2079     &  1018.00 & 3254.0   & 2652.0   &   39.0   &   33.0   & 294.75   & Control \\\\\n",
       "\tControl3\\_F3 & 8318     & 1532     & 1293     & 43       & 1429     & 100      &  57      & 1661     & 144      & 2600     & ...      & 2646     & 1090     & 2087     &  1185.00 & 1614.0   &  932.3   & 1086.0   &  242.0   & 247.75   & Control \\\\\n",
       "\tControl4\\_F3 & 6903     & 1050     &  778     & 83       &  879     &  90      &  81      &  743     &  92      & 2499     & ...      & 1916     & 1310     & 3124     &   826.20 & 4154.0   & 2156.0   &  915.0   &  319.0   & 603.00   & Control \\\\\n",
       "\\end{tabular}\n"
      ],
      "text/markdown": [
       "\n",
       "| <!--/--> | ARPP21 | ATP6AP1L | B3GALT2 | C9orf116 | CALB1 | CCDC80 | CREB3L1 | CTXN3 | DACH1 | GABRA3 | ... | SYNJ2 | VSTM2L | OF_HPA1_T_AUC | OF_HPA1_Net_AUC | OF_HPA2_T_AUC | OF_HPA2_Net_AUC | OFA1_Total | OFA2_Total | Startle | Group | \n",
       "|---|---|---|---|---|---|---|---|---|---|---|---|---|---|---|---|\n",
       "| Beta1_F1 | 3430     | 1607     | 2086     | 30       |  497     | 260      | 482      | 2023     | 133      | 6661     | ...      | 2651     | 1275     | 1695     |  1338.00 | 2269.0   | 1993.0   | 2631.0   |  263.0   | 492.43   | Beta     | \n",
       "| Beta2_F1 | 3193     | 1683     | 1751     | 32       |  489     | 136      | 386      | 1789     |  73      | 6050     | ...      | 3080     |  800     | 2901     |  1768.00 | 2336.0   | 1536.0   | 1417.0   |   43.0   | 712.38   | Beta     | \n",
       "| Beta3_F1 | 4427     | 2056     | 1261     | 14       |  364     | 125      | 346      | 1289     | 119      | 4921     | ...      | 2570     | 1412     | 1436     |   588.80 | 2045.0   | 1868.0   |  344.0   |  956.0   | 360.00   | Beta     | \n",
       "| Beta4_F1 | 3836     | 2555     | 1753     | 30       |  520     | 247      | 482      | 2737     | 129      | 5432     | ...      | 3420     |  803     | 2327     |   570.60 | 2821.0   | 1808.0   |  551.0   | 2203.0   | 148.38   | Beta     | \n",
       "| Control1_F1 | 9818     | 1733     |  935     | 95       | 2647     | 120      | 381      | 1277     | 393      | 4692     | ...      | 2713     | 2490     | 1729     |  1334.00 | 2701.0   |  -12.3   |  444.0   |  780.0   | 141.50   | Control  | \n",
       "| Control2_F1 | 3802     |  777     | 1052     | 41       |  572     |  89      | 285      |  963     | 121      | 3407     | ...      | 1719     | 1160     | 1590     |    65.25 | 2598.0   | 1192.0   |  292.0   | 1091.0   | 190.50   | Control  | \n",
       "| Control3_F1 | 5880     |  764     |  848     | 54       | 1008     |  70      | 209      |  610     | 190      | 3529     | ...      | 1419     | 1677     | 1062     |   124.80 | 1345.0   | 1092.0   |   39.0   |  462.0   | 242.75   | Control  | \n",
       "| Control4_F1 | 8455     |  944     |  783     | 86       | 1868     |  82      | 195      |  625     | 317      | 3614     | ...      | 1431     | 1801     | 1037     |  -154.20 | 1194.0   | -371.1   |  695.0   |   67.0   | 330.25   | Control  | \n",
       "| Beta1_F3 | 3714     | 2077     | 1706     | 48       |  322     | 160      | 169      | 2408     |  74      | 4620     | ...      | 3207     |  722     | 3073     |  2234.00 | 3202.0   | 1462.0   |   14.0   |   46.0   | 182.50   | Beta     | \n",
       "| Beta2_F3 | 4842     | 1961     | 2071     | 31       |  485     | 219      | 241      | 2877     |  98      | 4630     | ...      | 4017     |  782     | 1872     |   988.25 | 1982.5   | 1612.0   |  839.5   |  511.5   | 287.13   | Beta     | \n",
       "| Beta3_F3 | 2968     | 2090     | 1788     | 26       |  321     | 164      | 109      | 2645     |  50      | 4083     | ...      | 3097     |  521     | 2108     |   410.70 | 2955.0   | 2347.0   | 2222.0   | 3507.0   | 305.00   | Beta     | \n",
       "| Beta4_F3 | 3752     | 1422     | 1718     | 25       |  280     | 149      | 129      | 2340     |  67      | 2857     | ...      | 3463     |  546     | 1288     |   540.20 | 2257.0   | 1099.0   |  718.0   |   28.0   | 686.38   | Beta     | \n",
       "| Control1_F3 | 4125     | 1398     | 1408     | 71       |  432     | 167      | 103      | 2060     | 106      | 3541     | ...      | 2892     |  774     | 1408     | -1564.00 | 3293.0   | 2357.0   |   34.0   | 1638.0   | 422.38   | Control  | \n",
       "| Control2_F3 | 8464     | 1265     |  773     | 67       | 1503     |  77      |  62      |  720     |  94      | 2522     | ...      | 1796     | 1475     | 2079     |  1018.00 | 3254.0   | 2652.0   |   39.0   |   33.0   | 294.75   | Control  | \n",
       "| Control3_F3 | 8318     | 1532     | 1293     | 43       | 1429     | 100      |  57      | 1661     | 144      | 2600     | ...      | 2646     | 1090     | 2087     |  1185.00 | 1614.0   |  932.3   | 1086.0   |  242.0   | 247.75   | Control  | \n",
       "| Control4_F3 | 6903     | 1050     |  778     | 83       |  879     |  90      |  81      |  743     |  92      | 2499     | ...      | 1916     | 1310     | 3124     |   826.20 | 4154.0   | 2156.0   |  915.0   |  319.0   | 603.00   | Control  | \n",
       "\n",
       "\n"
      ],
      "text/plain": [
       "            ARPP21 ATP6AP1L B3GALT2 C9orf116 CALB1 CCDC80 CREB3L1 CTXN3 DACH1\n",
       "Beta1_F1    3430   1607     2086    30        497  260    482     2023  133  \n",
       "Beta2_F1    3193   1683     1751    32        489  136    386     1789   73  \n",
       "Beta3_F1    4427   2056     1261    14        364  125    346     1289  119  \n",
       "Beta4_F1    3836   2555     1753    30        520  247    482     2737  129  \n",
       "Control1_F1 9818   1733      935    95       2647  120    381     1277  393  \n",
       "Control2_F1 3802    777     1052    41        572   89    285      963  121  \n",
       "Control3_F1 5880    764      848    54       1008   70    209      610  190  \n",
       "Control4_F1 8455    944      783    86       1868   82    195      625  317  \n",
       "Beta1_F3    3714   2077     1706    48        322  160    169     2408   74  \n",
       "Beta2_F3    4842   1961     2071    31        485  219    241     2877   98  \n",
       "Beta3_F3    2968   2090     1788    26        321  164    109     2645   50  \n",
       "Beta4_F3    3752   1422     1718    25        280  149    129     2340   67  \n",
       "Control1_F3 4125   1398     1408    71        432  167    103     2060  106  \n",
       "Control2_F3 8464   1265      773    67       1503   77     62      720   94  \n",
       "Control3_F3 8318   1532     1293    43       1429  100     57     1661  144  \n",
       "Control4_F3 6903   1050      778    83        879   90     81      743   92  \n",
       "            GABRA3 ... SYNJ2 VSTM2L OF_HPA1_T_AUC OF_HPA1_Net_AUC OF_HPA2_T_AUC\n",
       "Beta1_F1    6661   ... 2651  1275   1695           1338.00        2269.0       \n",
       "Beta2_F1    6050   ... 3080   800   2901           1768.00        2336.0       \n",
       "Beta3_F1    4921   ... 2570  1412   1436            588.80        2045.0       \n",
       "Beta4_F1    5432   ... 3420   803   2327            570.60        2821.0       \n",
       "Control1_F1 4692   ... 2713  2490   1729           1334.00        2701.0       \n",
       "Control2_F1 3407   ... 1719  1160   1590             65.25        2598.0       \n",
       "Control3_F1 3529   ... 1419  1677   1062            124.80        1345.0       \n",
       "Control4_F1 3614   ... 1431  1801   1037           -154.20        1194.0       \n",
       "Beta1_F3    4620   ... 3207   722   3073           2234.00        3202.0       \n",
       "Beta2_F3    4630   ... 4017   782   1872            988.25        1982.5       \n",
       "Beta3_F3    4083   ... 3097   521   2108            410.70        2955.0       \n",
       "Beta4_F3    2857   ... 3463   546   1288            540.20        2257.0       \n",
       "Control1_F3 3541   ... 2892   774   1408          -1564.00        3293.0       \n",
       "Control2_F3 2522   ... 1796  1475   2079           1018.00        3254.0       \n",
       "Control3_F3 2600   ... 2646  1090   2087           1185.00        1614.0       \n",
       "Control4_F3 2499   ... 1916  1310   3124            826.20        4154.0       \n",
       "            OF_HPA2_Net_AUC OFA1_Total OFA2_Total Startle Group   \n",
       "Beta1_F1    1993.0          2631.0      263.0     492.43  Beta    \n",
       "Beta2_F1    1536.0          1417.0       43.0     712.38  Beta    \n",
       "Beta3_F1    1868.0           344.0      956.0     360.00  Beta    \n",
       "Beta4_F1    1808.0           551.0     2203.0     148.38  Beta    \n",
       "Control1_F1  -12.3           444.0      780.0     141.50  Control \n",
       "Control2_F1 1192.0           292.0     1091.0     190.50  Control \n",
       "Control3_F1 1092.0            39.0      462.0     242.75  Control \n",
       "Control4_F1 -371.1           695.0       67.0     330.25  Control \n",
       "Beta1_F3    1462.0            14.0       46.0     182.50  Beta    \n",
       "Beta2_F3    1612.0           839.5      511.5     287.13  Beta    \n",
       "Beta3_F3    2347.0          2222.0     3507.0     305.00  Beta    \n",
       "Beta4_F3    1099.0           718.0       28.0     686.38  Beta    \n",
       "Control1_F3 2357.0            34.0     1638.0     422.38  Control \n",
       "Control2_F3 2652.0            39.0       33.0     294.75  Control \n",
       "Control3_F3  932.3          1086.0      242.0     247.75  Control \n",
       "Control4_F3 2156.0           915.0      319.0     603.00  Control "
      ]
     },
     "metadata": {},
     "output_type": "display_data"
    }
   ],
   "source": [
    "F1F3<- rbind(F1,F3)\n",
    "F1F3"
   ]
  },
  {
   "cell_type": "code",
   "execution_count": 64,
   "metadata": {
    "collapsed": false
   },
   "outputs": [
    {
     "data": {
      "text/html": [
       "16"
      ],
      "text/latex": [
       "16"
      ],
      "text/markdown": [
       "16"
      ],
      "text/plain": [
       "[1] 16"
      ]
     },
     "metadata": {},
     "output_type": "display_data"
    }
   ],
   "source": [
    "nrow(F1F3)"
   ]
  },
  {
   "cell_type": "code",
   "execution_count": 73,
   "metadata": {
    "collapsed": false
   },
   "outputs": [
    {
     "data": {
      "text/html": [
       "<table>\n",
       "<thead><tr><th></th><th scope=col>Beta1_F1</th><th scope=col>Beta2_F1</th><th scope=col>Beta3_F1</th><th scope=col>Beta4_F1</th><th scope=col>Control1_F1</th><th scope=col>Control2_F1</th><th scope=col>Control3_F1</th><th scope=col>Control4_F1</th><th scope=col>Beta1_F3</th><th scope=col>Beta2_F3</th><th scope=col>Beta3_F3</th><th scope=col>Beta4_F3</th><th scope=col>Control1_F3</th><th scope=col>Control2_F3</th><th scope=col>Control3_F3</th><th scope=col>Control4_F3</th></tr></thead>\n",
       "<tbody>\n",
       "\t<tr><th scope=row>ARPP21</th><td>3430</td><td>3193</td><td>4427</td><td>3836</td><td>9818</td><td>3802</td><td>5880</td><td>8455</td><td>3714</td><td>4842</td><td>2968</td><td>3752</td><td>4125</td><td>8464</td><td>8318</td><td>6903</td></tr>\n",
       "\t<tr><th scope=row>ATP6AP1L</th><td>1607</td><td>1683</td><td>2056</td><td>2555</td><td>1733</td><td> 777</td><td> 764</td><td> 944</td><td>2077</td><td>1961</td><td>2090</td><td>1422</td><td>1398</td><td>1265</td><td>1532</td><td>1050</td></tr>\n",
       "\t<tr><th scope=row>B3GALT2</th><td>2086</td><td>1751</td><td>1261</td><td>1753</td><td> 935</td><td>1052</td><td> 848</td><td> 783</td><td>1706</td><td>2071</td><td>1788</td><td>1718</td><td>1408</td><td> 773</td><td>1293</td><td> 778</td></tr>\n",
       "\t<tr><th scope=row>C9orf116</th><td>  30</td><td>  32</td><td>  14</td><td>  30</td><td>  95</td><td>  41</td><td>  54</td><td>  86</td><td>  48</td><td>  31</td><td>  26</td><td>  25</td><td>  71</td><td>  67</td><td>  43</td><td>  83</td></tr>\n",
       "\t<tr><th scope=row>CALB1</th><td> 497</td><td> 489</td><td> 364</td><td> 520</td><td>2647</td><td> 572</td><td>1008</td><td>1868</td><td> 322</td><td> 485</td><td> 321</td><td> 280</td><td> 432</td><td>1503</td><td>1429</td><td> 879</td></tr>\n",
       "\t<tr><th scope=row>CCDC80</th><td> 260</td><td> 136</td><td> 125</td><td> 247</td><td> 120</td><td>  89</td><td>  70</td><td>  82</td><td> 160</td><td> 219</td><td> 164</td><td> 149</td><td> 167</td><td>  77</td><td> 100</td><td>  90</td></tr>\n",
       "</tbody>\n",
       "</table>\n"
      ],
      "text/latex": [
       "\\begin{tabular}{r|llllllllllllllll}\n",
       "  & Beta1\\_F1 & Beta2\\_F1 & Beta3\\_F1 & Beta4\\_F1 & Control1\\_F1 & Control2\\_F1 & Control3\\_F1 & Control4\\_F1 & Beta1\\_F3 & Beta2\\_F3 & Beta3\\_F3 & Beta4\\_F3 & Control1\\_F3 & Control2\\_F3 & Control3\\_F3 & Control4\\_F3\\\\\n",
       "\\hline\n",
       "\tARPP21 & 3430 & 3193 & 4427 & 3836 & 9818 & 3802 & 5880 & 8455 & 3714 & 4842 & 2968 & 3752 & 4125 & 8464 & 8318 & 6903\\\\\n",
       "\tATP6AP1L & 1607 & 1683 & 2056 & 2555 & 1733 &  777 &  764 &  944 & 2077 & 1961 & 2090 & 1422 & 1398 & 1265 & 1532 & 1050\\\\\n",
       "\tB3GALT2 & 2086 & 1751 & 1261 & 1753 &  935 & 1052 &  848 &  783 & 1706 & 2071 & 1788 & 1718 & 1408 &  773 & 1293 &  778\\\\\n",
       "\tC9orf116 &   30 &   32 &   14 &   30 &   95 &   41 &   54 &   86 &   48 &   31 &   26 &   25 &   71 &   67 &   43 &   83\\\\\n",
       "\tCALB1 &  497 &  489 &  364 &  520 & 2647 &  572 & 1008 & 1868 &  322 &  485 &  321 &  280 &  432 & 1503 & 1429 &  879\\\\\n",
       "\tCCDC80 &  260 &  136 &  125 &  247 &  120 &   89 &   70 &   82 &  160 &  219 &  164 &  149 &  167 &   77 &  100 &   90\\\\\n",
       "\\end{tabular}\n"
      ],
      "text/markdown": [
       "\n",
       "| <!--/--> | Beta1_F1 | Beta2_F1 | Beta3_F1 | Beta4_F1 | Control1_F1 | Control2_F1 | Control3_F1 | Control4_F1 | Beta1_F3 | Beta2_F3 | Beta3_F3 | Beta4_F3 | Control1_F3 | Control2_F3 | Control3_F3 | Control4_F3 | \n",
       "|---|---|---|---|---|---|\n",
       "| ARPP21 | 3430 | 3193 | 4427 | 3836 | 9818 | 3802 | 5880 | 8455 | 3714 | 4842 | 2968 | 3752 | 4125 | 8464 | 8318 | 6903 | \n",
       "| ATP6AP1L | 1607 | 1683 | 2056 | 2555 | 1733 |  777 |  764 |  944 | 2077 | 1961 | 2090 | 1422 | 1398 | 1265 | 1532 | 1050 | \n",
       "| B3GALT2 | 2086 | 1751 | 1261 | 1753 |  935 | 1052 |  848 |  783 | 1706 | 2071 | 1788 | 1718 | 1408 |  773 | 1293 |  778 | \n",
       "| C9orf116 |   30 |   32 |   14 |   30 |   95 |   41 |   54 |   86 |   48 |   31 |   26 |   25 |   71 |   67 |   43 |   83 | \n",
       "| CALB1 |  497 |  489 |  364 |  520 | 2647 |  572 | 1008 | 1868 |  322 |  485 |  321 |  280 |  432 | 1503 | 1429 |  879 | \n",
       "| CCDC80 |  260 |  136 |  125 |  247 |  120 |   89 |   70 |   82 |  160 |  219 |  164 |  149 |  167 |   77 |  100 |   90 | \n",
       "\n",
       "\n"
      ],
      "text/plain": [
       "         Beta1_F1 Beta2_F1 Beta3_F1 Beta4_F1 Control1_F1 Control2_F1\n",
       "ARPP21   3430     3193     4427     3836     9818        3802       \n",
       "ATP6AP1L 1607     1683     2056     2555     1733         777       \n",
       "B3GALT2  2086     1751     1261     1753      935        1052       \n",
       "C9orf116   30       32       14       30       95          41       \n",
       "CALB1     497      489      364      520     2647         572       \n",
       "CCDC80    260      136      125      247      120          89       \n",
       "         Control3_F1 Control4_F1 Beta1_F3 Beta2_F3 Beta3_F3 Beta4_F3\n",
       "ARPP21   5880        8455        3714     4842     2968     3752    \n",
       "ATP6AP1L  764         944        2077     1961     2090     1422    \n",
       "B3GALT2   848         783        1706     2071     1788     1718    \n",
       "C9orf116   54          86          48       31       26       25    \n",
       "CALB1    1008        1868         322      485      321      280    \n",
       "CCDC80     70          82         160      219      164      149    \n",
       "         Control1_F3 Control2_F3 Control3_F3 Control4_F3\n",
       "ARPP21   4125        8464        8318        6903       \n",
       "ATP6AP1L 1398        1265        1532        1050       \n",
       "B3GALT2  1408         773        1293         778       \n",
       "C9orf116   71          67          43          83       \n",
       "CALB1     432        1503        1429         879       \n",
       "CCDC80    167          77         100          90       "
      ]
     },
     "metadata": {},
     "output_type": "display_data"
    }
   ],
   "source": [
    "F1F3h<-(t(F1F3[,1:29]))\n",
    "head(F1F3h)"
   ]
  },
  {
   "cell_type": "code",
   "execution_count": 74,
   "metadata": {
    "collapsed": false
   },
   "outputs": [
    {
     "data": {
      "image/png": "[encoded data removed]",
      "text/plain": [
       "plot without title"
      ]
     },
     "metadata": {},
     "output_type": "display_data"
    }
   ],
   "source": [
    "heatmap3(F1F3h, Rowv = NULL, Colv = NULL,\n",
    "  distfun = function(x) as.dist(1 - cor(t(x), use = \"pa\")),\n",
    "  balanceColor = F,showColDendro = T,\n",
    "  showRowDendro = T, col = greenred(105), legendfun, method = \"complete\", ColAxisColors = 0,\n",
    "  RowAxisColors = 7, hclustfun = hclust, reorderfun = function(d, w)\n",
    "  reorder(d, w), add.expr, symm = FALSE,\n",
    "  scale = \"row\", na.rm = TRUE, \n",
    "  ColSideWidth = 0.4, \n",
    "  file = \"heatmap3.pdf\", topN = NA, filterFun = sd, margins = c(5, 5), lasRow = 2, lasCol = 2,\n",
    "  labRow =colnames(data), labCol = NULL , main = NULL, xlab = NULL, ylab = NULL,\n",
    "  keep.dendro = FALSE, verbose = getOption(\"verbose\"))\n",
    "      \n",
    "### Control2_F1 may be an outlier."
   ]
  },
  {
   "cell_type": "code",
   "execution_count": 102,
   "metadata": {
    "collapsed": false
   },
   "outputs": [
    {
     "data": {
      "text/html": [
       "<table>\n",
       "<thead><tr><th></th><th scope=col>ARPP21</th><th scope=col>ATP6AP1L</th><th scope=col>B3GALT2</th><th scope=col>C9orf116</th><th scope=col>CALB1</th><th scope=col>CCDC80</th><th scope=col>CREB3L1</th><th scope=col>CTXN3</th><th scope=col>DACH1</th><th scope=col>GABRA3</th><th scope=col>...</th><th scope=col>SPON1</th><th scope=col>SYNJ2</th><th scope=col>VSTM2L</th><th scope=col>OF_HPA1_T_AUC</th><th scope=col>OF_HPA1_Net_AUC</th><th scope=col>OF_HPA2_T_AUC</th><th scope=col>OF_HPA2_Net_AUC</th><th scope=col>OFA1_Total</th><th scope=col>OFA2_Total</th><th scope=col>Startle</th></tr></thead>\n",
       "<tbody>\n",
       "\t<tr><th scope=row>Beta1_F1</th><td>3430    </td><td>1607    </td><td>2086    </td><td>30      </td><td> 497    </td><td>260     </td><td>482     </td><td>2023    </td><td>133     </td><td>6661    </td><td>...     </td><td>5017    </td><td>2651    </td><td>1275    </td><td>1695    </td><td> 1338.00</td><td>2269.0  </td><td>1993.0  </td><td>2631.0  </td><td> 263.0  </td><td>492.43  </td></tr>\n",
       "\t<tr><th scope=row>Beta2_F1</th><td>3193    </td><td>1683    </td><td>1751    </td><td>32      </td><td> 489    </td><td>136     </td><td>386     </td><td>1789    </td><td> 73     </td><td>6050    </td><td>...     </td><td>5320    </td><td>3080    </td><td> 800    </td><td>2901    </td><td> 1768.00</td><td>2336.0  </td><td>1536.0  </td><td>1417.0  </td><td>  43.0  </td><td>712.38  </td></tr>\n",
       "\t<tr><th scope=row>Beta3_F1</th><td>4427    </td><td>2056    </td><td>1261    </td><td>14      </td><td> 364    </td><td>125     </td><td>346     </td><td>1289    </td><td>119     </td><td>4921    </td><td>...     </td><td>3018    </td><td>2570    </td><td>1412    </td><td>1436    </td><td>  588.80</td><td>2045.0  </td><td>1868.0  </td><td> 344.0  </td><td> 956.0  </td><td>360.00  </td></tr>\n",
       "\t<tr><th scope=row>Beta4_F1</th><td>3836    </td><td>2555    </td><td>1753    </td><td>30      </td><td> 520    </td><td>247     </td><td>482     </td><td>2737    </td><td>129     </td><td>5432    </td><td>...     </td><td>3635    </td><td>3420    </td><td> 803    </td><td>2327    </td><td>  570.60</td><td>2821.0  </td><td>1808.0  </td><td> 551.0  </td><td>2203.0  </td><td>148.38  </td></tr>\n",
       "\t<tr><th scope=row>Control1_F1</th><td>9818    </td><td>1733    </td><td> 935    </td><td>95      </td><td>2647    </td><td>120     </td><td>381     </td><td>1277    </td><td>393     </td><td>4692    </td><td>...     </td><td>3440    </td><td>2713    </td><td>2490    </td><td>1729    </td><td> 1334.00</td><td>2701.0  </td><td> -12.3  </td><td> 444.0  </td><td> 780.0  </td><td>141.50  </td></tr>\n",
       "\t<tr><th scope=row>Control3_F1</th><td>5880    </td><td> 764    </td><td> 848    </td><td>54      </td><td>1008    </td><td> 70     </td><td>209     </td><td> 610    </td><td>190     </td><td>3529    </td><td>...     </td><td>2659    </td><td>1419    </td><td>1677    </td><td>1062    </td><td>  124.80</td><td>1345.0  </td><td>1092.0  </td><td>  39.0  </td><td> 462.0  </td><td>242.75  </td></tr>\n",
       "\t<tr><th scope=row>Control4_F1</th><td>8455    </td><td> 944    </td><td> 783    </td><td>86      </td><td>1868    </td><td> 82     </td><td>195     </td><td> 625    </td><td>317     </td><td>3614    </td><td>...     </td><td>2326    </td><td>1431    </td><td>1801    </td><td>1037    </td><td> -154.20</td><td>1194.0  </td><td>-371.1  </td><td> 695.0  </td><td>  67.0  </td><td>330.25  </td></tr>\n",
       "\t<tr><th scope=row>Beta1_F3</th><td>3714    </td><td>2077    </td><td>1706    </td><td>48      </td><td> 322    </td><td>160     </td><td>169     </td><td>2408    </td><td> 74     </td><td>4620    </td><td>...     </td><td>5300    </td><td>3207    </td><td> 722    </td><td>3073    </td><td> 2234.00</td><td>3202.0  </td><td>1462.0  </td><td>  14.0  </td><td>  46.0  </td><td>182.50  </td></tr>\n",
       "\t<tr><th scope=row>Beta2_F3</th><td>4842    </td><td>1961    </td><td>2071    </td><td>31      </td><td> 485    </td><td>219     </td><td>241     </td><td>2877    </td><td> 98     </td><td>4630    </td><td>...     </td><td>5048    </td><td>4017    </td><td> 782    </td><td>1872    </td><td>  988.25</td><td>1982.5  </td><td>1612.0  </td><td> 839.5  </td><td> 511.5  </td><td>287.13  </td></tr>\n",
       "\t<tr><th scope=row>Beta3_F3</th><td>2968    </td><td>2090    </td><td>1788    </td><td>26      </td><td> 321    </td><td>164     </td><td>109     </td><td>2645    </td><td> 50     </td><td>4083    </td><td>...     </td><td>4624    </td><td>3097    </td><td> 521    </td><td>2108    </td><td>  410.70</td><td>2955.0  </td><td>2347.0  </td><td>2222.0  </td><td>3507.0  </td><td>305.00  </td></tr>\n",
       "\t<tr><th scope=row>Beta4_F3</th><td>3752    </td><td>1422    </td><td>1718    </td><td>25      </td><td> 280    </td><td>149     </td><td>129     </td><td>2340    </td><td> 67     </td><td>2857    </td><td>...     </td><td>4192    </td><td>3463    </td><td> 546    </td><td>1288    </td><td>  540.20</td><td>2257.0  </td><td>1099.0  </td><td> 718.0  </td><td>  28.0  </td><td>686.38  </td></tr>\n",
       "\t<tr><th scope=row>Control1_F3</th><td>4125    </td><td>1398    </td><td>1408    </td><td>71      </td><td> 432    </td><td>167     </td><td>103     </td><td>2060    </td><td>106     </td><td>3541    </td><td>...     </td><td>4669    </td><td>2892    </td><td> 774    </td><td>1408    </td><td>-1564.00</td><td>3293.0  </td><td>2357.0  </td><td>  34.0  </td><td>1638.0  </td><td>422.38  </td></tr>\n",
       "\t<tr><th scope=row>Control2_F3</th><td>8464    </td><td>1265    </td><td> 773    </td><td>67      </td><td>1503    </td><td> 77     </td><td> 62     </td><td> 720    </td><td> 94     </td><td>2522    </td><td>...     </td><td>2546    </td><td>1796    </td><td>1475    </td><td>2079    </td><td> 1018.00</td><td>3254.0  </td><td>2652.0  </td><td>  39.0  </td><td>  33.0  </td><td>294.75  </td></tr>\n",
       "\t<tr><th scope=row>Control3_F3</th><td>8318    </td><td>1532    </td><td>1293    </td><td>43      </td><td>1429    </td><td>100     </td><td> 57     </td><td>1661    </td><td>144     </td><td>2600    </td><td>...     </td><td>3428    </td><td>2646    </td><td>1090    </td><td>2087    </td><td> 1185.00</td><td>1614.0  </td><td> 932.3  </td><td>1086.0  </td><td> 242.0  </td><td>247.75  </td></tr>\n",
       "\t<tr><th scope=row>Control4_F3</th><td>6903    </td><td>1050    </td><td> 778    </td><td>83      </td><td> 879    </td><td> 90     </td><td> 81     </td><td> 743    </td><td> 92     </td><td>2499    </td><td>...     </td><td>2786    </td><td>1916    </td><td>1310    </td><td>3124    </td><td>  826.20</td><td>4154.0  </td><td>2156.0  </td><td> 915.0  </td><td> 319.0  </td><td>603.00  </td></tr>\n",
       "</tbody>\n",
       "</table>\n"
      ],
      "text/latex": [
       "\\begin{tabular}{r|lllllllllllllllllllllllllllll}\n",
       "  & ARPP21 & ATP6AP1L & B3GALT2 & C9orf116 & CALB1 & CCDC80 & CREB3L1 & CTXN3 & DACH1 & GABRA3 & ... & SPON1 & SYNJ2 & VSTM2L & OF\\_HPA1\\_T\\_AUC & OF\\_HPA1\\_Net\\_AUC & OF\\_HPA2\\_T\\_AUC & OF\\_HPA2\\_Net\\_AUC & OFA1\\_Total & OFA2\\_Total & Startle\\\\\n",
       "\\hline\n",
       "\tBeta1\\_F1 & 3430     & 1607     & 2086     & 30       &  497     & 260      & 482      & 2023     & 133      & 6661     & ...      & 5017     & 2651     & 1275     & 1695     &  1338.00 & 2269.0   & 1993.0   & 2631.0   &  263.0   & 492.43  \\\\\n",
       "\tBeta2\\_F1 & 3193     & 1683     & 1751     & 32       &  489     & 136      & 386      & 1789     &  73      & 6050     & ...      & 5320     & 3080     &  800     & 2901     &  1768.00 & 2336.0   & 1536.0   & 1417.0   &   43.0   & 712.38  \\\\\n",
       "\tBeta3\\_F1 & 4427     & 2056     & 1261     & 14       &  364     & 125      & 346      & 1289     & 119      & 4921     & ...      & 3018     & 2570     & 1412     & 1436     &   588.80 & 2045.0   & 1868.0   &  344.0   &  956.0   & 360.00  \\\\\n",
       "\tBeta4\\_F1 & 3836     & 2555     & 1753     & 30       &  520     & 247      & 482      & 2737     & 129      & 5432     & ...      & 3635     & 3420     &  803     & 2327     &   570.60 & 2821.0   & 1808.0   &  551.0   & 2203.0   & 148.38  \\\\\n",
       "\tControl1\\_F1 & 9818     & 1733     &  935     & 95       & 2647     & 120      & 381      & 1277     & 393      & 4692     & ...      & 3440     & 2713     & 2490     & 1729     &  1334.00 & 2701.0   &  -12.3   &  444.0   &  780.0   & 141.50  \\\\\n",
       "\tControl3\\_F1 & 5880     &  764     &  848     & 54       & 1008     &  70      & 209      &  610     & 190      & 3529     & ...      & 2659     & 1419     & 1677     & 1062     &   124.80 & 1345.0   & 1092.0   &   39.0   &  462.0   & 242.75  \\\\\n",
       "\tControl4\\_F1 & 8455     &  944     &  783     & 86       & 1868     &  82      & 195      &  625     & 317      & 3614     & ...      & 2326     & 1431     & 1801     & 1037     &  -154.20 & 1194.0   & -371.1   &  695.0   &   67.0   & 330.25  \\\\\n",
       "\tBeta1\\_F3 & 3714     & 2077     & 1706     & 48       &  322     & 160      & 169      & 2408     &  74      & 4620     & ...      & 5300     & 3207     &  722     & 3073     &  2234.00 & 3202.0   & 1462.0   &   14.0   &   46.0   & 182.50  \\\\\n",
       "\tBeta2\\_F3 & 4842     & 1961     & 2071     & 31       &  485     & 219      & 241      & 2877     &  98      & 4630     & ...      & 5048     & 4017     &  782     & 1872     &   988.25 & 1982.5   & 1612.0   &  839.5   &  511.5   & 287.13  \\\\\n",
       "\tBeta3\\_F3 & 2968     & 2090     & 1788     & 26       &  321     & 164      & 109      & 2645     &  50      & 4083     & ...      & 4624     & 3097     &  521     & 2108     &   410.70 & 2955.0   & 2347.0   & 2222.0   & 3507.0   & 305.00  \\\\\n",
       "\tBeta4\\_F3 & 3752     & 1422     & 1718     & 25       &  280     & 149      & 129      & 2340     &  67      & 2857     & ...      & 4192     & 3463     &  546     & 1288     &   540.20 & 2257.0   & 1099.0   &  718.0   &   28.0   & 686.38  \\\\\n",
       "\tControl1\\_F3 & 4125     & 1398     & 1408     & 71       &  432     & 167      & 103      & 2060     & 106      & 3541     & ...      & 4669     & 2892     &  774     & 1408     & -1564.00 & 3293.0   & 2357.0   &   34.0   & 1638.0   & 422.38  \\\\\n",
       "\tControl2\\_F3 & 8464     & 1265     &  773     & 67       & 1503     &  77      &  62      &  720     &  94      & 2522     & ...      & 2546     & 1796     & 1475     & 2079     &  1018.00 & 3254.0   & 2652.0   &   39.0   &   33.0   & 294.75  \\\\\n",
       "\tControl3\\_F3 & 8318     & 1532     & 1293     & 43       & 1429     & 100      &  57      & 1661     & 144      & 2600     & ...      & 3428     & 2646     & 1090     & 2087     &  1185.00 & 1614.0   &  932.3   & 1086.0   &  242.0   & 247.75  \\\\\n",
       "\tControl4\\_F3 & 6903     & 1050     &  778     & 83       &  879     &  90      &  81      &  743     &  92      & 2499     & ...      & 2786     & 1916     & 1310     & 3124     &   826.20 & 4154.0   & 2156.0   &  915.0   &  319.0   & 603.00  \\\\\n",
       "\\end{tabular}\n"
      ],
      "text/markdown": [
       "\n",
       "| <!--/--> | ARPP21 | ATP6AP1L | B3GALT2 | C9orf116 | CALB1 | CCDC80 | CREB3L1 | CTXN3 | DACH1 | GABRA3 | ... | SPON1 | SYNJ2 | VSTM2L | OF_HPA1_T_AUC | OF_HPA1_Net_AUC | OF_HPA2_T_AUC | OF_HPA2_Net_AUC | OFA1_Total | OFA2_Total | Startle | \n",
       "|---|---|---|---|---|---|---|---|---|---|---|---|---|---|---|\n",
       "| Beta1_F1 | 3430     | 1607     | 2086     | 30       |  497     | 260      | 482      | 2023     | 133      | 6661     | ...      | 5017     | 2651     | 1275     | 1695     |  1338.00 | 2269.0   | 1993.0   | 2631.0   |  263.0   | 492.43   | \n",
       "| Beta2_F1 | 3193     | 1683     | 1751     | 32       |  489     | 136      | 386      | 1789     |  73      | 6050     | ...      | 5320     | 3080     |  800     | 2901     |  1768.00 | 2336.0   | 1536.0   | 1417.0   |   43.0   | 712.38   | \n",
       "| Beta3_F1 | 4427     | 2056     | 1261     | 14       |  364     | 125      | 346      | 1289     | 119      | 4921     | ...      | 3018     | 2570     | 1412     | 1436     |   588.80 | 2045.0   | 1868.0   |  344.0   |  956.0   | 360.00   | \n",
       "| Beta4_F1 | 3836     | 2555     | 1753     | 30       |  520     | 247      | 482      | 2737     | 129      | 5432     | ...      | 3635     | 3420     |  803     | 2327     |   570.60 | 2821.0   | 1808.0   |  551.0   | 2203.0   | 148.38   | \n",
       "| Control1_F1 | 9818     | 1733     |  935     | 95       | 2647     | 120      | 381      | 1277     | 393      | 4692     | ...      | 3440     | 2713     | 2490     | 1729     |  1334.00 | 2701.0   |  -12.3   |  444.0   |  780.0   | 141.50   | \n",
       "| Control3_F1 | 5880     |  764     |  848     | 54       | 1008     |  70      | 209      |  610     | 190      | 3529     | ...      | 2659     | 1419     | 1677     | 1062     |   124.80 | 1345.0   | 1092.0   |   39.0   |  462.0   | 242.75   | \n",
       "| Control4_F1 | 8455     |  944     |  783     | 86       | 1868     |  82      | 195      |  625     | 317      | 3614     | ...      | 2326     | 1431     | 1801     | 1037     |  -154.20 | 1194.0   | -371.1   |  695.0   |   67.0   | 330.25   | \n",
       "| Beta1_F3 | 3714     | 2077     | 1706     | 48       |  322     | 160      | 169      | 2408     |  74      | 4620     | ...      | 5300     | 3207     |  722     | 3073     |  2234.00 | 3202.0   | 1462.0   |   14.0   |   46.0   | 182.50   | \n",
       "| Beta2_F3 | 4842     | 1961     | 2071     | 31       |  485     | 219      | 241      | 2877     |  98      | 4630     | ...      | 5048     | 4017     |  782     | 1872     |   988.25 | 1982.5   | 1612.0   |  839.5   |  511.5   | 287.13   | \n",
       "| Beta3_F3 | 2968     | 2090     | 1788     | 26       |  321     | 164      | 109      | 2645     |  50      | 4083     | ...      | 4624     | 3097     |  521     | 2108     |   410.70 | 2955.0   | 2347.0   | 2222.0   | 3507.0   | 305.00   | \n",
       "| Beta4_F3 | 3752     | 1422     | 1718     | 25       |  280     | 149      | 129      | 2340     |  67      | 2857     | ...      | 4192     | 3463     |  546     | 1288     |   540.20 | 2257.0   | 1099.0   |  718.0   |   28.0   | 686.38   | \n",
       "| Control1_F3 | 4125     | 1398     | 1408     | 71       |  432     | 167      | 103      | 2060     | 106      | 3541     | ...      | 4669     | 2892     |  774     | 1408     | -1564.00 | 3293.0   | 2357.0   |   34.0   | 1638.0   | 422.38   | \n",
       "| Control2_F3 | 8464     | 1265     |  773     | 67       | 1503     |  77      |  62      |  720     |  94      | 2522     | ...      | 2546     | 1796     | 1475     | 2079     |  1018.00 | 3254.0   | 2652.0   |   39.0   |   33.0   | 294.75   | \n",
       "| Control3_F3 | 8318     | 1532     | 1293     | 43       | 1429     | 100      |  57      | 1661     | 144      | 2600     | ...      | 3428     | 2646     | 1090     | 2087     |  1185.00 | 1614.0   |  932.3   | 1086.0   |  242.0   | 247.75   | \n",
       "| Control4_F3 | 6903     | 1050     |  778     | 83       |  879     |  90      |  81      |  743     |  92      | 2499     | ...      | 2786     | 1916     | 1310     | 3124     |   826.20 | 4154.0   | 2156.0   |  915.0   |  319.0   | 603.00   | \n",
       "\n",
       "\n"
      ],
      "text/plain": [
       "            ARPP21 ATP6AP1L B3GALT2 C9orf116 CALB1 CCDC80 CREB3L1 CTXN3 DACH1\n",
       "Beta1_F1    3430   1607     2086    30        497  260    482     2023  133  \n",
       "Beta2_F1    3193   1683     1751    32        489  136    386     1789   73  \n",
       "Beta3_F1    4427   2056     1261    14        364  125    346     1289  119  \n",
       "Beta4_F1    3836   2555     1753    30        520  247    482     2737  129  \n",
       "Control1_F1 9818   1733      935    95       2647  120    381     1277  393  \n",
       "Control3_F1 5880    764      848    54       1008   70    209      610  190  \n",
       "Control4_F1 8455    944      783    86       1868   82    195      625  317  \n",
       "Beta1_F3    3714   2077     1706    48        322  160    169     2408   74  \n",
       "Beta2_F3    4842   1961     2071    31        485  219    241     2877   98  \n",
       "Beta3_F3    2968   2090     1788    26        321  164    109     2645   50  \n",
       "Beta4_F3    3752   1422     1718    25        280  149    129     2340   67  \n",
       "Control1_F3 4125   1398     1408    71        432  167    103     2060  106  \n",
       "Control2_F3 8464   1265      773    67       1503   77     62      720   94  \n",
       "Control3_F3 8318   1532     1293    43       1429  100     57     1661  144  \n",
       "Control4_F3 6903   1050      778    83        879   90     81      743   92  \n",
       "            GABRA3 ... SPON1 SYNJ2 VSTM2L OF_HPA1_T_AUC OF_HPA1_Net_AUC\n",
       "Beta1_F1    6661   ... 5017  2651  1275   1695           1338.00       \n",
       "Beta2_F1    6050   ... 5320  3080   800   2901           1768.00       \n",
       "Beta3_F1    4921   ... 3018  2570  1412   1436            588.80       \n",
       "Beta4_F1    5432   ... 3635  3420   803   2327            570.60       \n",
       "Control1_F1 4692   ... 3440  2713  2490   1729           1334.00       \n",
       "Control3_F1 3529   ... 2659  1419  1677   1062            124.80       \n",
       "Control4_F1 3614   ... 2326  1431  1801   1037           -154.20       \n",
       "Beta1_F3    4620   ... 5300  3207   722   3073           2234.00       \n",
       "Beta2_F3    4630   ... 5048  4017   782   1872            988.25       \n",
       "Beta3_F3    4083   ... 4624  3097   521   2108            410.70       \n",
       "Beta4_F3    2857   ... 4192  3463   546   1288            540.20       \n",
       "Control1_F3 3541   ... 4669  2892   774   1408          -1564.00       \n",
       "Control2_F3 2522   ... 2546  1796  1475   2079           1018.00       \n",
       "Control3_F3 2600   ... 3428  2646  1090   2087           1185.00       \n",
       "Control4_F3 2499   ... 2786  1916  1310   3124            826.20       \n",
       "            OF_HPA2_T_AUC OF_HPA2_Net_AUC OFA1_Total OFA2_Total Startle\n",
       "Beta1_F1    2269.0        1993.0          2631.0      263.0     492.43 \n",
       "Beta2_F1    2336.0        1536.0          1417.0       43.0     712.38 \n",
       "Beta3_F1    2045.0        1868.0           344.0      956.0     360.00 \n",
       "Beta4_F1    2821.0        1808.0           551.0     2203.0     148.38 \n",
       "Control1_F1 2701.0         -12.3           444.0      780.0     141.50 \n",
       "Control3_F1 1345.0        1092.0            39.0      462.0     242.75 \n",
       "Control4_F1 1194.0        -371.1           695.0       67.0     330.25 \n",
       "Beta1_F3    3202.0        1462.0            14.0       46.0     182.50 \n",
       "Beta2_F3    1982.5        1612.0           839.5      511.5     287.13 \n",
       "Beta3_F3    2955.0        2347.0          2222.0     3507.0     305.00 \n",
       "Beta4_F3    2257.0        1099.0           718.0       28.0     686.38 \n",
       "Control1_F3 3293.0        2357.0            34.0     1638.0     422.38 \n",
       "Control2_F3 3254.0        2652.0            39.0       33.0     294.75 \n",
       "Control3_F3 1614.0         932.3          1086.0      242.0     247.75 \n",
       "Control4_F3 4154.0        2156.0           915.0      319.0     603.00 "
      ]
     },
     "metadata": {},
     "output_type": "display_data"
    }
   ],
   "source": [
    "F1F3h<- as.data.frame(F1F3h)\n",
    "F1F3hr<- within(F1F3h, rm(Control2_F1))\n",
    "F1F3t<- as.data.frame(t(F1F3hr))\n",
    "F1F3t"
   ]
  },
  {
   "cell_type": "code",
   "execution_count": 87,
   "metadata": {
    "collapsed": false
   },
   "outputs": [
    {
     "data": {
      "text/html": [
       "<ol class=list-inline>\n",
       "\t<li>'Beta1_F1'</li>\n",
       "\t<li>'Beta2_F1'</li>\n",
       "\t<li>'Beta3_F1'</li>\n",
       "\t<li>'Beta4_F1'</li>\n",
       "\t<li>'Control1_F1'</li>\n",
       "\t<li>'Control3_F1'</li>\n",
       "\t<li>'Control4_F1'</li>\n",
       "\t<li>'Beta1_F3'</li>\n",
       "\t<li>'Beta2_F3'</li>\n",
       "\t<li>'Beta3_F3'</li>\n",
       "\t<li>'Beta4_F3'</li>\n",
       "\t<li>'Control1_F3'</li>\n",
       "\t<li>'Control2_F3'</li>\n",
       "\t<li>'Control3_F3'</li>\n",
       "\t<li>'Control4_F3'</li>\n",
       "</ol>\n"
      ],
      "text/latex": [
       "\\begin{enumerate*}\n",
       "\\item 'Beta1\\_F1'\n",
       "\\item 'Beta2\\_F1'\n",
       "\\item 'Beta3\\_F1'\n",
       "\\item 'Beta4\\_F1'\n",
       "\\item 'Control1\\_F1'\n",
       "\\item 'Control3\\_F1'\n",
       "\\item 'Control4\\_F1'\n",
       "\\item 'Beta1\\_F3'\n",
       "\\item 'Beta2\\_F3'\n",
       "\\item 'Beta3\\_F3'\n",
       "\\item 'Beta4\\_F3'\n",
       "\\item 'Control1\\_F3'\n",
       "\\item 'Control2\\_F3'\n",
       "\\item 'Control3\\_F3'\n",
       "\\item 'Control4\\_F3'\n",
       "\\end{enumerate*}\n"
      ],
      "text/markdown": [
       "1. 'Beta1_F1'\n",
       "2. 'Beta2_F1'\n",
       "3. 'Beta3_F1'\n",
       "4. 'Beta4_F1'\n",
       "5. 'Control1_F1'\n",
       "6. 'Control3_F1'\n",
       "7. 'Control4_F1'\n",
       "8. 'Beta1_F3'\n",
       "9. 'Beta2_F3'\n",
       "10. 'Beta3_F3'\n",
       "11. 'Beta4_F3'\n",
       "12. 'Control1_F3'\n",
       "13. 'Control2_F3'\n",
       "14. 'Control3_F3'\n",
       "15. 'Control4_F3'\n",
       "\n",
       "\n"
      ],
      "text/plain": [
       " [1] \"Beta1_F1\"    \"Beta2_F1\"    \"Beta3_F1\"    \"Beta4_F1\"    \"Control1_F1\"\n",
       " [6] \"Control3_F1\" \"Control4_F1\" \"Beta1_F3\"    \"Beta2_F3\"    \"Beta3_F3\"   \n",
       "[11] \"Beta4_F3\"    \"Control1_F3\" \"Control2_F3\" \"Control3_F3\" \"Control4_F3\""
      ]
     },
     "metadata": {},
     "output_type": "display_data"
    }
   ],
   "source": [
    "colnames(F1F3hr)"
   ]
  },
  {
   "cell_type": "code",
   "execution_count": 88,
   "metadata": {
    "collapsed": false
   },
   "outputs": [
    {
     "data": {
      "image/png": "[encoded data removed]",
      "text/plain": [
       "plot without title"
      ]
     },
     "metadata": {},
     "output_type": "display_data"
    }
   ],
   "source": [
    "heatmap3(F1F3hr, Rowv = NULL, Colv = NULL,\n",
    "  distfun = function(x) as.dist(1 - cor(t(x), use = \"pa\")),\n",
    "  balanceColor = F,showColDendro = T,\n",
    "  showRowDendro = T, col = greenred(105), legendfun, method = \"complete\", ColAxisColors = 0,\n",
    "  RowAxisColors = 7, hclustfun = hclust, reorderfun = function(d, w)\n",
    "  reorder(d, w), add.expr, symm = FALSE,\n",
    "  scale = \"row\", na.rm = TRUE, \n",
    "  ColSideWidth = 0.4, \n",
    "  file = \"heatmap3.pdf\", topN = NA, filterFun = sd, margins = c(5, 5), lasRow = 2, lasCol = 2,\n",
    "  labRow =colnames(data), labCol = NULL , main = NULL, xlab = NULL, ylab = NULL,\n",
    "  keep.dendro = FALSE, verbose = getOption(\"verbose\"))"
   ]
  },
  {
   "cell_type": "code",
   "execution_count": 368,
   "metadata": {
    "collapsed": false
   },
   "outputs": [
    {
     "data": {
      "text/plain": [
       "\n",
       "Call:\n",
       "lm(formula = OFA1_Total ~ SYNJ2 + B3GALT2 + GARNL3 + GPR52, data = F1F3t)\n",
       "\n",
       "Residuals:\n",
       "    Min      1Q  Median      3Q     Max \n",
       "-598.48 -293.18    1.86  199.75 1033.66 \n",
       "\n",
       "Coefficients:\n",
       "             Estimate Std. Error t value Pr(>|t|)   \n",
       "(Intercept)  -42.9025  1082.4737  -0.040  0.96917   \n",
       "SYNJ2         -0.7120     0.4904  -1.452  0.17721   \n",
       "B3GALT2        3.4595     0.9331   3.708  0.00406 **\n",
       "GARNL3        -1.6454     1.3027  -1.263  0.23520   \n",
       "GPR52          3.3023     3.9109   0.844  0.41820   \n",
       "---\n",
       "Signif. codes:  0 '***' 0.001 '**' 0.01 '*' 0.05 '.' 0.1 ' ' 1\n",
       "\n",
       "Residual standard error: 566.5 on 10 degrees of freedom\n",
       "Multiple R-squared:  0.6281,\tAdjusted R-squared:  0.4794 \n",
       "F-statistic: 4.223 on 4 and 10 DF,  p-value: 0.02945\n"
      ]
     },
     "metadata": {},
     "output_type": "display_data"
    }
   ],
   "source": [
    "model = lm(OFA1_Total ~ SYNJ2+B3GALT2+GARNL3+Pdyn, data=F1F3t)\n",
    "summary(model)\n",
    "### Here we see that a model can be made that fits across F1 and F3 when Control2_F1 is removed as an outlier"
   ]
  },
  {
   "cell_type": "code",
   "execution_count": 227,
   "metadata": {
    "collapsed": false
   },
   "outputs": [
    {
     "data": {
      "text/html": [
       "<table>\n",
       "<thead><tr><th></th><th scope=col>SYNJ2</th><th scope=col>B3GALT2</th><th scope=col>GARNL3</th><th scope=col>Pdyn</th><th scope=col>OFA1_Total</th></tr></thead>\n",
       "<tbody>\n",
       "\t<tr><th scope=row>Beta1_F1</th><td>2651</td><td>2086</td><td>1683</td><td> 254</td><td>2631</td></tr>\n",
       "\t<tr><th scope=row>Beta2_F1</th><td>3080</td><td>1751</td><td>1792</td><td> 362</td><td>1417</td></tr>\n",
       "\t<tr><th scope=row>Beta3_F1</th><td>2570</td><td>1261</td><td>1366</td><td> 168</td><td> 344</td></tr>\n",
       "\t<tr><th scope=row>Beta4_F1</th><td>3420</td><td>1753</td><td>1813</td><td> 437</td><td> 551</td></tr>\n",
       "\t<tr><th scope=row>Control1_F1</th><td>2713</td><td> 935</td><td>1140</td><td>1733</td><td> 444</td></tr>\n",
       "\t<tr><th scope=row>Control3_F1</th><td>1419</td><td> 848</td><td> 928</td><td> 615</td><td>  39</td></tr>\n",
       "</tbody>\n",
       "</table>\n"
      ],
      "text/latex": [
       "\\begin{tabular}{r|lllll}\n",
       "  & SYNJ2 & B3GALT2 & GARNL3 & Pdyn & OFA1\\_Total\\\\\n",
       "\\hline\n",
       "\tBeta1\\_F1 & 2651 & 2086 & 1683 &  254 & 2631\\\\\n",
       "\tBeta2\\_F1 & 3080 & 1751 & 1792 &  362 & 1417\\\\\n",
       "\tBeta3\\_F1 & 2570 & 1261 & 1366 &  168 &  344\\\\\n",
       "\tBeta4\\_F1 & 3420 & 1753 & 1813 &  437 &  551\\\\\n",
       "\tControl1\\_F1 & 2713 &  935 & 1140 & 1733 &  444\\\\\n",
       "\tControl3\\_F1 & 1419 &  848 &  928 &  615 &   39\\\\\n",
       "\\end{tabular}\n"
      ],
      "text/markdown": [
       "\n",
       "| <!--/--> | SYNJ2 | B3GALT2 | GARNL3 | Pdyn | OFA1_Total | \n",
       "|---|---|---|---|---|---|\n",
       "| Beta1_F1 | 2651 | 2086 | 1683 |  254 | 2631 | \n",
       "| Beta2_F1 | 3080 | 1751 | 1792 |  362 | 1417 | \n",
       "| Beta3_F1 | 2570 | 1261 | 1366 |  168 |  344 | \n",
       "| Beta4_F1 | 3420 | 1753 | 1813 |  437 |  551 | \n",
       "| Control1_F1 | 2713 |  935 | 1140 | 1733 |  444 | \n",
       "| Control3_F1 | 1419 |  848 |  928 |  615 |   39 | \n",
       "\n",
       "\n"
      ],
      "text/plain": [
       "            SYNJ2 B3GALT2 GARNL3 Pdyn OFA1_Total\n",
       "Beta1_F1    2651  2086    1683    254 2631      \n",
       "Beta2_F1    3080  1751    1792    362 1417      \n",
       "Beta3_F1    2570  1261    1366    168  344      \n",
       "Beta4_F1    3420  1753    1813    437  551      \n",
       "Control1_F1 2713   935    1140   1733  444      \n",
       "Control3_F1 1419   848     928    615   39      "
      ]
     },
     "metadata": {},
     "output_type": "display_data"
    }
   ],
   "source": [
    "input <- F1F3t[,c(\"SYNJ2\",\"B3GALT2\",\"GARNL3\",\"Pdyn\",\"OFA1_Total\")]\n",
    "head(input)"
   ]
  },
  {
   "cell_type": "code",
   "execution_count": 246,
   "metadata": {
    "collapsed": false
   },
   "outputs": [
    {
     "data": {
      "text/html": [
       "<table>\n",
       "<thead><tr><th></th><th scope=col>SYNJ2</th><th scope=col>B3GALT2</th><th scope=col>GARNL3</th><th scope=col>Pdyn</th><th scope=col>OFA1_Total</th><th scope=col>Predicted</th></tr></thead>\n",
       "<tbody>\n",
       "\t<tr><th scope=row>Beta1_F1</th><td>2651      </td><td>2086      </td><td>1683      </td><td> 254      </td><td>2631.0    </td><td>2612.76330</td></tr>\n",
       "\t<tr><th scope=row>Beta2_F1</th><td>3080      </td><td>1751      </td><td>1792      </td><td> 362      </td><td>1417.0    </td><td>1020.33594</td></tr>\n",
       "\t<tr><th scope=row>Beta3_F1</th><td>2570      </td><td>1261      </td><td>1366      </td><td> 168      </td><td> 344.0    </td><td> 312.22225</td></tr>\n",
       "\t<tr><th scope=row>Beta4_F1</th><td>3420      </td><td>1753      </td><td>1813      </td><td> 437      </td><td> 551.0    </td><td> 794.50786</td></tr>\n",
       "\t<tr><th scope=row>Control1_F1</th><td>2713      </td><td> 935      </td><td>1140      </td><td>1733      </td><td> 444.0    </td><td> 279.62534</td></tr>\n",
       "\t<tr><th scope=row>Control3_F1</th><td>1419      </td><td> 848      </td><td> 928      </td><td> 615      </td><td>  39.0    </td><td> 664.67128</td></tr>\n",
       "\t<tr><th scope=row>Control4_F1</th><td>1431      </td><td> 783      </td><td> 944      </td><td>1178      </td><td> 695.0    </td><td> 692.66622</td></tr>\n",
       "\t<tr><th scope=row>Beta1_F3</th><td>3207      </td><td>1706      </td><td>1856      </td><td> 223      </td><td>  14.0    </td><td> 593.85331</td></tr>\n",
       "\t<tr><th scope=row>Beta2_F3</th><td>4017      </td><td>2071      </td><td>1968      </td><td> 365      </td><td> 839.5    </td><td>1179.34507</td></tr>\n",
       "\t<tr><th scope=row>Beta3_F3</th><td>3097      </td><td>1788      </td><td>1709      </td><td> 278      </td><td>2222.0    </td><td>1237.85401</td></tr>\n",
       "\t<tr><th scope=row>Beta4_F3</th><td>3463      </td><td>1718      </td><td>1525      </td><td> 215      </td><td> 718.0    </td><td>1029.13521</td></tr>\n",
       "\t<tr><th scope=row>Control1_F3</th><td>2892      </td><td>1408      </td><td>1752      </td><td> 276      </td><td>  34.0    </td><td> -14.71842</td></tr>\n",
       "\t<tr><th scope=row>Control2_F3</th><td>1796      </td><td> 773      </td><td> 819      </td><td>1016      </td><td>  39.0    </td><td> 539.47743</td></tr>\n",
       "\t<tr><th scope=row>Control3_F3</th><td>2646      </td><td>1293      </td><td>1236      </td><td> 844      </td><td>1086.0    </td><td> 944.15442</td></tr>\n",
       "\t<tr><th scope=row>Control4_F3</th><td>1916      </td><td> 778      </td><td> 904      </td><td> 581      </td><td> 915.0    </td><td> 102.60678</td></tr>\n",
       "</tbody>\n",
       "</table>\n"
      ],
      "text/latex": [
       "\\begin{tabular}{r|llllll}\n",
       "  & SYNJ2 & B3GALT2 & GARNL3 & Pdyn & OFA1\\_Total & Predicted\\\\\n",
       "\\hline\n",
       "\tBeta1\\_F1 & 2651       & 2086       & 1683       &  254       & 2631.0     & 2612.76330\\\\\n",
       "\tBeta2\\_F1 & 3080       & 1751       & 1792       &  362       & 1417.0     & 1020.33594\\\\\n",
       "\tBeta3\\_F1 & 2570       & 1261       & 1366       &  168       &  344.0     &  312.22225\\\\\n",
       "\tBeta4\\_F1 & 3420       & 1753       & 1813       &  437       &  551.0     &  794.50786\\\\\n",
       "\tControl1\\_F1 & 2713       &  935       & 1140       & 1733       &  444.0     &  279.62534\\\\\n",
       "\tControl3\\_F1 & 1419       &  848       &  928       &  615       &   39.0     &  664.67128\\\\\n",
       "\tControl4\\_F1 & 1431       &  783       &  944       & 1178       &  695.0     &  692.66622\\\\\n",
       "\tBeta1\\_F3 & 3207       & 1706       & 1856       &  223       &   14.0     &  593.85331\\\\\n",
       "\tBeta2\\_F3 & 4017       & 2071       & 1968       &  365       &  839.5     & 1179.34507\\\\\n",
       "\tBeta3\\_F3 & 3097       & 1788       & 1709       &  278       & 2222.0     & 1237.85401\\\\\n",
       "\tBeta4\\_F3 & 3463       & 1718       & 1525       &  215       &  718.0     & 1029.13521\\\\\n",
       "\tControl1\\_F3 & 2892       & 1408       & 1752       &  276       &   34.0     &  -14.71842\\\\\n",
       "\tControl2\\_F3 & 1796       &  773       &  819       & 1016       &   39.0     &  539.47743\\\\\n",
       "\tControl3\\_F3 & 2646       & 1293       & 1236       &  844       & 1086.0     &  944.15442\\\\\n",
       "\tControl4\\_F3 & 1916       &  778       &  904       &  581       &  915.0     &  102.60678\\\\\n",
       "\\end{tabular}\n"
      ],
      "text/markdown": [
       "\n",
       "| <!--/--> | SYNJ2 | B3GALT2 | GARNL3 | Pdyn | OFA1_Total | Predicted | \n",
       "|---|---|---|---|---|---|---|---|---|---|---|---|---|---|---|\n",
       "| Beta1_F1 | 2651       | 2086       | 1683       |  254       | 2631.0     | 2612.76330 | \n",
       "| Beta2_F1 | 3080       | 1751       | 1792       |  362       | 1417.0     | 1020.33594 | \n",
       "| Beta3_F1 | 2570       | 1261       | 1366       |  168       |  344.0     |  312.22225 | \n",
       "| Beta4_F1 | 3420       | 1753       | 1813       |  437       |  551.0     |  794.50786 | \n",
       "| Control1_F1 | 2713       |  935       | 1140       | 1733       |  444.0     |  279.62534 | \n",
       "| Control3_F1 | 1419       |  848       |  928       |  615       |   39.0     |  664.67128 | \n",
       "| Control4_F1 | 1431       |  783       |  944       | 1178       |  695.0     |  692.66622 | \n",
       "| Beta1_F3 | 3207       | 1706       | 1856       |  223       |   14.0     |  593.85331 | \n",
       "| Beta2_F3 | 4017       | 2071       | 1968       |  365       |  839.5     | 1179.34507 | \n",
       "| Beta3_F3 | 3097       | 1788       | 1709       |  278       | 2222.0     | 1237.85401 | \n",
       "| Beta4_F3 | 3463       | 1718       | 1525       |  215       |  718.0     | 1029.13521 | \n",
       "| Control1_F3 | 2892       | 1408       | 1752       |  276       |   34.0     |  -14.71842 | \n",
       "| Control2_F3 | 1796       |  773       |  819       | 1016       |   39.0     |  539.47743 | \n",
       "| Control3_F3 | 2646       | 1293       | 1236       |  844       | 1086.0     |  944.15442 | \n",
       "| Control4_F3 | 1916       |  778       |  904       |  581       |  915.0     |  102.60678 | \n",
       "\n",
       "\n"
      ],
      "text/plain": [
       "            SYNJ2 B3GALT2 GARNL3 Pdyn OFA1_Total Predicted \n",
       "Beta1_F1    2651  2086    1683    254 2631.0     2612.76330\n",
       "Beta2_F1    3080  1751    1792    362 1417.0     1020.33594\n",
       "Beta3_F1    2570  1261    1366    168  344.0      312.22225\n",
       "Beta4_F1    3420  1753    1813    437  551.0      794.50786\n",
       "Control1_F1 2713   935    1140   1733  444.0      279.62534\n",
       "Control3_F1 1419   848     928    615   39.0      664.67128\n",
       "Control4_F1 1431   783     944   1178  695.0      692.66622\n",
       "Beta1_F3    3207  1706    1856    223   14.0      593.85331\n",
       "Beta2_F3    4017  2071    1968    365  839.5     1179.34507\n",
       "Beta3_F3    3097  1788    1709    278 2222.0     1237.85401\n",
       "Beta4_F3    3463  1718    1525    215  718.0     1029.13521\n",
       "Control1_F3 2892  1408    1752    276   34.0      -14.71842\n",
       "Control2_F3 1796   773     819   1016   39.0      539.47743\n",
       "Control3_F3 2646  1293    1236    844 1086.0      944.15442\n",
       "Control4_F3 1916   778     904    581  915.0      102.60678"
      ]
     },
     "metadata": {},
     "output_type": "display_data"
    }
   ],
   "source": [
    "input['Predicted'] = fitted.values(model)\n",
    "\n",
    "input    "
   ]
  },
  {
   "cell_type": "code",
   "execution_count": 306,
   "metadata": {
    "collapsed": false
   },
   "outputs": [],
   "source": [
    "loo <-input[-15,]\n",
    "\n",
    "model_cv = lm(OFA1_Total ~ SYNJ2+B3GALT2+GARNL3+Pdyn, data=loo)\n"
   ]
  },
  {
   "cell_type": "code",
   "execution_count": 307,
   "metadata": {
    "collapsed": false
   },
   "outputs": [
    {
     "name": "stdout",
     "output_type": "stream",
     "text": [
      "(Intercept) \n",
      "  -984.7239 \n"
     ]
    }
   ],
   "source": [
    "a <- coef(model_cv)[1]\n",
    "print(a)\n",
    "\n",
    "XSYNJ2 <- coef(model_cv)[2]\n",
    "XB3GALT2 <- coef(model_cv)[3]\n",
    "XGARNL3<-coef(model_cv)[4]\n",
    "XPdyn<-coef(model_cv)[5]"
   ]
  },
  {
   "cell_type": "code",
   "execution_count": 262,
   "metadata": {
    "collapsed": true
   },
   "outputs": [],
   "source": [
    "Beta1_F1p= a+XSYNJ2*2651+XB3GALT2*2086+XGARNL3*1683+XPdyn*254"
   ]
  },
  {
   "cell_type": "code",
   "execution_count": 266,
   "metadata": {
    "collapsed": false
   },
   "outputs": [],
   "source": [
    "Beta2_F1p= a+XSYNJ2*3080+XB3GALT2*1751+XGARNL3*1792+XPdyn*362"
   ]
  },
  {
   "cell_type": "code",
   "execution_count": 269,
   "metadata": {
    "collapsed": true
   },
   "outputs": [],
   "source": [
    "Beta3_F1p= a+XSYNJ2*2570+XB3GALT2*1261+XGARNL3*1366+XPdyn*168"
   ]
  },
  {
   "cell_type": "code",
   "execution_count": 272,
   "metadata": {
    "collapsed": true
   },
   "outputs": [],
   "source": [
    "Beta4_F1p= a+XSYNJ2*3420+XB3GALT2*1753+XGARNL3*1813+XPdyn*437"
   ]
  },
  {
   "cell_type": "code",
   "execution_count": 275,
   "metadata": {
    "collapsed": true
   },
   "outputs": [],
   "source": [
    "Control1_F1p= a+XSYNJ2*2713+XB3GALT2*935+XGARNL3*1140+XPdyn*1733"
   ]
  },
  {
   "cell_type": "code",
   "execution_count": 281,
   "metadata": {
    "collapsed": true
   },
   "outputs": [],
   "source": [
    "Control3_F1p= a+XSYNJ2*1419+XB3GALT2*848+XGARNL3*928+XPdyn*615"
   ]
  },
  {
   "cell_type": "code",
   "execution_count": 284,
   "metadata": {
    "collapsed": true
   },
   "outputs": [],
   "source": [
    "Control4_F1p= a+XSYNJ2*1431+XB3GALT2*783+XGARNL3*944+XPdyn*1178"
   ]
  },
  {
   "cell_type": "code",
   "execution_count": 287,
   "metadata": {
    "collapsed": true
   },
   "outputs": [],
   "source": [
    "Beta1_F3p = a+XSYNJ2*3207+XB3GALT2*1706+XGARNL3*1856+XPdyn*223\n"
   ]
  },
  {
   "cell_type": "code",
   "execution_count": 290,
   "metadata": {
    "collapsed": true
   },
   "outputs": [],
   "source": [
    "Beta2_F3p = a+XSYNJ2*4017+XB3GALT2*2071+XGARNL3*1968+XPdyn*365"
   ]
  },
  {
   "cell_type": "code",
   "execution_count": 293,
   "metadata": {
    "collapsed": true
   },
   "outputs": [],
   "source": [
    "Beta3_F3p = a+XSYNJ2*3097+XB3GALT2*1788+XGARNL3*1709+XPdyn*278"
   ]
  },
  {
   "cell_type": "code",
   "execution_count": 296,
   "metadata": {
    "collapsed": true
   },
   "outputs": [],
   "source": [
    " Beta4_F3p = a+XSYNJ2*3463+XB3GALT2*1718+XGARNL3*1525+XPdyn*215\n"
   ]
  },
  {
   "cell_type": "code",
   "execution_count": 299,
   "metadata": {
    "collapsed": true
   },
   "outputs": [],
   "source": [
    "Control1_F3p = a+XSYNJ2*2892+XB3GALT2*1408+XGARNL3*1752+XPdyn*276"
   ]
  },
  {
   "cell_type": "code",
   "execution_count": 302,
   "metadata": {
    "collapsed": true
   },
   "outputs": [],
   "source": [
    "Control2_F3p = a+XSYNJ2*1796+XB3GALT2*773+XGARNL3*819+XPdyn*1016"
   ]
  },
  {
   "cell_type": "code",
   "execution_count": 305,
   "metadata": {
    "collapsed": true
   },
   "outputs": [],
   "source": [
    "Control3_F3p = a+XSYNJ2*2646+XB3GALT2*1293+XGARNL3*1236+XPdyn*844"
   ]
  },
  {
   "cell_type": "code",
   "execution_count": 308,
   "metadata": {
    "collapsed": true
   },
   "outputs": [],
   "source": [
    "Control4_F3p = a+XSYNJ2*1916+XB3GALT2*778+XGARNL3*904+XPdyn*581"
   ]
  },
  {
   "cell_type": "code",
   "execution_count": 309,
   "metadata": {
    "collapsed": true
   },
   "outputs": [],
   "source": [
    "Predicted_CV = c(Beta1_F1p,Beta2_F1p,Beta3_F1p,Beta4_F1p,Control1_F1p,Control3_F1p,Control4_F1p,Beta1_F3p,Beta2_F3p,Beta3_F3p,Beta4_F3p,Control1_F3p,Control2_F3p,Control3_F3p,Control4_F3p)"
   ]
  },
  {
   "cell_type": "code",
   "execution_count": 337,
   "metadata": {
    "collapsed": false
   },
   "outputs": [
    {
     "data": {
      "text/html": [
       "<table>\n",
       "<thead><tr><th></th><th scope=col>SYNJ2</th><th scope=col>B3GALT2</th><th scope=col>GARNL3</th><th scope=col>Pdyn</th><th scope=col>OFA1_Total</th><th scope=col>Predicted</th><th scope=col>Predicted_</th><th scope=col>Predicted_CV</th><th scope=col>Group</th></tr></thead>\n",
       "<tbody>\n",
       "\t<tr><th scope=row>Beta1_F1</th><td>2651      </td><td>2086      </td><td>1683      </td><td> 254      </td><td>2631.0    </td><td>2612.76330</td><td>2564.8243 </td><td>2564.8243 </td><td>Beta      </td></tr>\n",
       "\t<tr><th scope=row>Beta2_F1</th><td>3080      </td><td>1751      </td><td>1792      </td><td> 362      </td><td>1417.0    </td><td>1020.33594</td><td> 943.3668 </td><td> 943.3668 </td><td>Beta      </td></tr>\n",
       "\t<tr><th scope=row>Beta3_F1</th><td>2570      </td><td>1261      </td><td>1366      </td><td> 168      </td><td> 344.0    </td><td> 312.22225</td><td> 301.5498 </td><td> 301.5498 </td><td>Beta      </td></tr>\n",
       "\t<tr><th scope=row>Beta4_F1</th><td>3420      </td><td>1753      </td><td>1813      </td><td> 437      </td><td> 551.0    </td><td> 794.50786</td><td> 839.0248 </td><td> 839.0248 </td><td>Beta      </td></tr>\n",
       "\t<tr><th scope=row>Control1_F1</th><td>2713      </td><td> 935      </td><td>1140      </td><td>1733      </td><td> 444.0    </td><td> 279.62534</td><td>-115.7818 </td><td>-115.7818 </td><td>Control   </td></tr>\n",
       "\t<tr><th scope=row>Control3_F1</th><td>1419      </td><td> 848      </td><td> 928      </td><td> 615      </td><td>  39.0    </td><td> 664.67128</td><td> 942.7189 </td><td> 942.7189 </td><td>Control   </td></tr>\n",
       "\t<tr><th scope=row>Control4_F1</th><td>1431      </td><td> 783      </td><td> 944      </td><td>1178      </td><td> 695.0    </td><td> 692.66622</td><td> 691.1863 </td><td> 691.1863 </td><td>Control   </td></tr>\n",
       "\t<tr><th scope=row>Beta1_F3</th><td>3207      </td><td>1706      </td><td>1856      </td><td> 223      </td><td>  14.0    </td><td> 593.85331</td><td> 765.1185 </td><td> 765.1185 </td><td>Beta      </td></tr>\n",
       "\t<tr><th scope=row>Beta2_F3</th><td>4017      </td><td>2071      </td><td>1968      </td><td> 365      </td><td> 839.5    </td><td>1179.34507</td><td>1331.1558 </td><td>1331.1558 </td><td>Beta      </td></tr>\n",
       "\t<tr><th scope=row>Beta3_F3</th><td>3097      </td><td>1788      </td><td>1709      </td><td> 278      </td><td>2222.0    </td><td>1237.85401</td><td>1102.5064 </td><td>1102.5064 </td><td>Beta      </td></tr>\n",
       "\t<tr><th scope=row>Beta4_F3</th><td>3463      </td><td>1718      </td><td>1525      </td><td> 215      </td><td> 718.0    </td><td>1029.13521</td><td>1298.6854 </td><td>1298.6854 </td><td>Beta      </td></tr>\n",
       "\t<tr><th scope=row>Control1_F3</th><td>2892      </td><td>1408      </td><td>1752      </td><td> 276      </td><td>  34.0    </td><td> -14.71842</td><td> -53.8840 </td><td> -53.8840 </td><td>Control   </td></tr>\n",
       "\t<tr><th scope=row>Control2_F3</th><td>1796      </td><td> 773      </td><td> 819      </td><td>1016      </td><td>  39.0    </td><td> 539.47743</td><td> 702.7214 </td><td> 702.7214 </td><td>Control   </td></tr>\n",
       "\t<tr><th scope=row>Control3_F3</th><td>2646      </td><td>1293      </td><td>1236      </td><td> 844      </td><td>1086.0    </td><td> 944.15442</td><td> 917.7471 </td><td> 917.7471 </td><td>Control   </td></tr>\n",
       "\t<tr><th scope=row>Control4_F3</th><td>1916      </td><td> 778      </td><td> 904      </td><td> 581      </td><td> 915.0    </td><td> 102.60678</td><td>-305.8727 </td><td>-305.8727 </td><td>Control   </td></tr>\n",
       "</tbody>\n",
       "</table>\n"
      ],
      "text/latex": [
       "\\begin{tabular}{r|lllllllll}\n",
       "  & SYNJ2 & B3GALT2 & GARNL3 & Pdyn & OFA1\\_Total & Predicted & Predicted\\_ & Predicted\\_CV & Group\\\\\n",
       "\\hline\n",
       "\tBeta1\\_F1 & 2651       & 2086       & 1683       &  254       & 2631.0     & 2612.76330 & 2564.8243  & 2564.8243  & Beta      \\\\\n",
       "\tBeta2\\_F1 & 3080       & 1751       & 1792       &  362       & 1417.0     & 1020.33594 &  943.3668  &  943.3668  & Beta      \\\\\n",
       "\tBeta3\\_F1 & 2570       & 1261       & 1366       &  168       &  344.0     &  312.22225 &  301.5498  &  301.5498  & Beta      \\\\\n",
       "\tBeta4\\_F1 & 3420       & 1753       & 1813       &  437       &  551.0     &  794.50786 &  839.0248  &  839.0248  & Beta      \\\\\n",
       "\tControl1\\_F1 & 2713       &  935       & 1140       & 1733       &  444.0     &  279.62534 & -115.7818  & -115.7818  & Control   \\\\\n",
       "\tControl3\\_F1 & 1419       &  848       &  928       &  615       &   39.0     &  664.67128 &  942.7189  &  942.7189  & Control   \\\\\n",
       "\tControl4\\_F1 & 1431       &  783       &  944       & 1178       &  695.0     &  692.66622 &  691.1863  &  691.1863  & Control   \\\\\n",
       "\tBeta1\\_F3 & 3207       & 1706       & 1856       &  223       &   14.0     &  593.85331 &  765.1185  &  765.1185  & Beta      \\\\\n",
       "\tBeta2\\_F3 & 4017       & 2071       & 1968       &  365       &  839.5     & 1179.34507 & 1331.1558  & 1331.1558  & Beta      \\\\\n",
       "\tBeta3\\_F3 & 3097       & 1788       & 1709       &  278       & 2222.0     & 1237.85401 & 1102.5064  & 1102.5064  & Beta      \\\\\n",
       "\tBeta4\\_F3 & 3463       & 1718       & 1525       &  215       &  718.0     & 1029.13521 & 1298.6854  & 1298.6854  & Beta      \\\\\n",
       "\tControl1\\_F3 & 2892       & 1408       & 1752       &  276       &   34.0     &  -14.71842 &  -53.8840  &  -53.8840  & Control   \\\\\n",
       "\tControl2\\_F3 & 1796       &  773       &  819       & 1016       &   39.0     &  539.47743 &  702.7214  &  702.7214  & Control   \\\\\n",
       "\tControl3\\_F3 & 2646       & 1293       & 1236       &  844       & 1086.0     &  944.15442 &  917.7471  &  917.7471  & Control   \\\\\n",
       "\tControl4\\_F3 & 1916       &  778       &  904       &  581       &  915.0     &  102.60678 & -305.8727  & -305.8727  & Control   \\\\\n",
       "\\end{tabular}\n"
      ],
      "text/markdown": [
       "\n",
       "| <!--/--> | SYNJ2 | B3GALT2 | GARNL3 | Pdyn | OFA1_Total | Predicted | Predicted_ | Predicted_CV | Group | \n",
       "|---|---|---|---|---|---|---|---|---|---|---|---|---|---|---|\n",
       "| Beta1_F1 | 2651       | 2086       | 1683       |  254       | 2631.0     | 2612.76330 | 2564.8243  | 2564.8243  | Beta       | \n",
       "| Beta2_F1 | 3080       | 1751       | 1792       |  362       | 1417.0     | 1020.33594 |  943.3668  |  943.3668  | Beta       | \n",
       "| Beta3_F1 | 2570       | 1261       | 1366       |  168       |  344.0     |  312.22225 |  301.5498  |  301.5498  | Beta       | \n",
       "| Beta4_F1 | 3420       | 1753       | 1813       |  437       |  551.0     |  794.50786 |  839.0248  |  839.0248  | Beta       | \n",
       "| Control1_F1 | 2713       |  935       | 1140       | 1733       |  444.0     |  279.62534 | -115.7818  | -115.7818  | Control    | \n",
       "| Control3_F1 | 1419       |  848       |  928       |  615       |   39.0     |  664.67128 |  942.7189  |  942.7189  | Control    | \n",
       "| Control4_F1 | 1431       |  783       |  944       | 1178       |  695.0     |  692.66622 |  691.1863  |  691.1863  | Control    | \n",
       "| Beta1_F3 | 3207       | 1706       | 1856       |  223       |   14.0     |  593.85331 |  765.1185  |  765.1185  | Beta       | \n",
       "| Beta2_F3 | 4017       | 2071       | 1968       |  365       |  839.5     | 1179.34507 | 1331.1558  | 1331.1558  | Beta       | \n",
       "| Beta3_F3 | 3097       | 1788       | 1709       |  278       | 2222.0     | 1237.85401 | 1102.5064  | 1102.5064  | Beta       | \n",
       "| Beta4_F3 | 3463       | 1718       | 1525       |  215       |  718.0     | 1029.13521 | 1298.6854  | 1298.6854  | Beta       | \n",
       "| Control1_F3 | 2892       | 1408       | 1752       |  276       |   34.0     |  -14.71842 |  -53.8840  |  -53.8840  | Control    | \n",
       "| Control2_F3 | 1796       |  773       |  819       | 1016       |   39.0     |  539.47743 |  702.7214  |  702.7214  | Control    | \n",
       "| Control3_F3 | 2646       | 1293       | 1236       |  844       | 1086.0     |  944.15442 |  917.7471  |  917.7471  | Control    | \n",
       "| Control4_F3 | 1916       |  778       |  904       |  581       |  915.0     |  102.60678 | -305.8727  | -305.8727  | Control    | \n",
       "\n",
       "\n"
      ],
      "text/plain": [
       "            SYNJ2 B3GALT2 GARNL3 Pdyn OFA1_Total Predicted  Predicted_\n",
       "Beta1_F1    2651  2086    1683    254 2631.0     2612.76330 2564.8243 \n",
       "Beta2_F1    3080  1751    1792    362 1417.0     1020.33594  943.3668 \n",
       "Beta3_F1    2570  1261    1366    168  344.0      312.22225  301.5498 \n",
       "Beta4_F1    3420  1753    1813    437  551.0      794.50786  839.0248 \n",
       "Control1_F1 2713   935    1140   1733  444.0      279.62534 -115.7818 \n",
       "Control3_F1 1419   848     928    615   39.0      664.67128  942.7189 \n",
       "Control4_F1 1431   783     944   1178  695.0      692.66622  691.1863 \n",
       "Beta1_F3    3207  1706    1856    223   14.0      593.85331  765.1185 \n",
       "Beta2_F3    4017  2071    1968    365  839.5     1179.34507 1331.1558 \n",
       "Beta3_F3    3097  1788    1709    278 2222.0     1237.85401 1102.5064 \n",
       "Beta4_F3    3463  1718    1525    215  718.0     1029.13521 1298.6854 \n",
       "Control1_F3 2892  1408    1752    276   34.0      -14.71842  -53.8840 \n",
       "Control2_F3 1796   773     819   1016   39.0      539.47743  702.7214 \n",
       "Control3_F3 2646  1293    1236    844 1086.0      944.15442  917.7471 \n",
       "Control4_F3 1916   778     904    581  915.0      102.60678 -305.8727 \n",
       "            Predicted_CV Group  \n",
       "Beta1_F1    2564.8243    Beta   \n",
       "Beta2_F1     943.3668    Beta   \n",
       "Beta3_F1     301.5498    Beta   \n",
       "Beta4_F1     839.0248    Beta   \n",
       "Control1_F1 -115.7818    Control\n",
       "Control3_F1  942.7189    Control\n",
       "Control4_F1  691.1863    Control\n",
       "Beta1_F3     765.1185    Beta   \n",
       "Beta2_F3    1331.1558    Beta   \n",
       "Beta3_F3    1102.5064    Beta   \n",
       "Beta4_F3    1298.6854    Beta   \n",
       "Control1_F3  -53.8840    Control\n",
       "Control2_F3  702.7214    Control\n",
       "Control3_F3  917.7471    Control\n",
       "Control4_F3 -305.8727    Control"
      ]
     },
     "metadata": {},
     "output_type": "display_data"
    }
   ],
   "source": [
    "input['Predicted_CV']= Predicted_CV\n",
    "Group = c('Beta','Beta','Beta','Beta','Control','Control','Control','Beta','Beta','Beta','Beta','Control','Control','Control','Control')\n",
    "input['Group']= Group\n",
    "input"
   ]
  },
  {
   "cell_type": "code",
   "execution_count": 343,
   "metadata": {
    "collapsed": false,
    "scrolled": false
   },
   "outputs": [
    {
     "data": {},
     "metadata": {},
     "output_type": "display_data"
    },
    {
     "data": {
      "image/png": "[encoded data removed]",
      "text/plain": [
       "plot without title"
      ]
     },
     "metadata": {},
     "output_type": "display_data"
    }
   ],
   "source": [
    "p <- ggplot(input,aes(OFA1_Total,Predicted))\n",
    "p + geom_point(size = 4, color= 'navy') +\n",
    "    geom_smooth(method='lm', se = FALSE)"
   ]
  },
  {
   "cell_type": "code",
   "execution_count": null,
   "metadata": {
    "collapsed": true
   },
   "outputs": [],
   "source": []
  },
  {
   "cell_type": "code",
   "execution_count": null,
   "metadata": {
    "collapsed": true
   },
   "outputs": [],
   "source": []
  },
  {
   "cell_type": "code",
   "execution_count": null,
   "metadata": {
    "collapsed": true
   },
   "outputs": [],
   "source": []
  },
  {
   "cell_type": "code",
   "execution_count": 342,
   "metadata": {
    "collapsed": false
   },
   "outputs": [
    {
     "data": {},
     "metadata": {},
     "output_type": "display_data"
    },
    {
     "data": {
      "image/png": "[encoded data removed]",
      "text/plain": [
       "plot without title"
      ]
     },
     "metadata": {},
     "output_type": "display_data"
    }
   ],
   "source": [
    "p <- ggplot(input,aes(OFA1_Total,Predicted_CV))\n",
    "p + geom_point(size = 4, color = 'darkgreen') +\n",
    "    geom_smooth(method='lm', se = FALSE)"
   ]
  },
  {
   "cell_type": "code",
   "execution_count": 330,
   "metadata": {
    "collapsed": false
   },
   "outputs": [
    {
     "data": {
      "text/plain": [
       "\n",
       "Call:\n",
       "lm(formula = Predicted_CV ~ OFA1_Total, data = input)\n",
       "\n",
       "Residuals:\n",
       "     Min       1Q   Median       3Q      Max \n",
       "-1165.79  -329.00   -38.05   461.99   742.72 \n",
       "\n",
       "Coefficients:\n",
       "            Estimate Std. Error t value Pr(>|t|)  \n",
       "(Intercept) 346.8624   211.7118   1.638    0.125  \n",
       "OFA1_Total    0.5607     0.1921   2.918    0.012 *\n",
       "---\n",
       "Signif. codes:  0 '***' 0.001 '**' 0.01 '*' 0.05 '.' 0.1 ' ' 1\n",
       "\n",
       "Residual standard error: 564.4 on 13 degrees of freedom\n",
       "Multiple R-squared:  0.3958,\tAdjusted R-squared:  0.3493 \n",
       "F-statistic: 8.516 on 1 and 13 DF,  p-value: 0.01198\n"
      ]
     },
     "metadata": {},
     "output_type": "display_data"
    }
   ],
   "source": [
    "test = lm(Predicted_CV~OFA1_Total, data=input)\n",
    "summary(test)"
   ]
  },
  {
   "cell_type": "code",
   "execution_count": 352,
   "metadata": {
    "collapsed": false
   },
   "outputs": [
    {
     "data": {
      "text/plain": [
       "\n",
       "\tPearson's product-moment correlation\n",
       "\n",
       "data:  Predicted and OFA1_Total\n",
       "t = 4.8317, df = 13, p-value = 0.0003277\n",
       "alternative hypothesis: true correlation is not equal to 0\n",
       "95 percent confidence interval:\n",
       " 0.4905999 0.9313446\n",
       "sample estimates:\n",
       "      cor \n",
       "0.8014463 \n"
      ]
     },
     "metadata": {},
     "output_type": "display_data"
    }
   ],
   "source": [
    "cor.test(~Predicted+ OFA1_Total, data=input)"
   ]
  },
  {
   "cell_type": "code",
   "execution_count": 350,
   "metadata": {
    "collapsed": false,
    "scrolled": true
   },
   "outputs": [
    {
     "data": {
      "text/plain": [
       "\n",
       "\tPearson's product-moment correlation\n",
       "\n",
       "data:  Predicted_CV and OFA1_Total\n",
       "t = 2.9182, df = 13, p-value = 0.01198\n",
       "alternative hypothesis: true correlation is not equal to 0\n",
       "95 percent confidence interval:\n",
       " 0.1724302 0.8631976\n",
       "sample estimates:\n",
       "      cor \n",
       "0.6291229 \n"
      ]
     },
     "metadata": {},
     "output_type": "display_data"
    }
   ],
   "source": [
    "cor.test(~Predicted_CV+ OFA1_Total, data=input)"
   ]
  },
  {
   "cell_type": "code",
   "execution_count": 351,
   "metadata": {
    "collapsed": false
   },
   "outputs": [
    {
     "data": {
      "text/plain": [
       "\n",
       "\tPearson's product-moment correlation\n",
       "\n",
       "data:  Predicted and OFA1_Total\n",
       "t = 4.8317, df = 13, p-value = 0.0003277\n",
       "alternative hypothesis: true correlation is not equal to 0\n",
       "95 percent confidence interval:\n",
       " 0.4905999 0.9313446\n",
       "sample estimates:\n",
       "      cor \n",
       "0.8014463 \n"
      ]
     },
     "metadata": {},
     "output_type": "display_data"
    }
   ],
   "source": []
  },
  {
   "cell_type": "code",
   "execution_count": null,
   "metadata": {
    "collapsed": true
   },
   "outputs": [],
   "source": []
  },
  {
   "cell_type": "code",
   "execution_count": 250,
   "metadata": {
    "collapsed": false
   },
   "outputs": [
    {
     "data": {
      "text/html": [
       "<table>\n",
       "<thead><tr><th></th><th scope=col>SYNJ2</th><th scope=col>B3GALT2</th><th scope=col>GARNL3</th><th scope=col>Pdyn</th><th scope=col>OFA1_Total</th><th scope=col>Predicted</th></tr></thead>\n",
       "<tbody>\n",
       "\t<tr><th scope=row>Beta1_F1</th><td>2651      </td><td>2086      </td><td>1683      </td><td> 254      </td><td>2631.0    </td><td>2612.76330</td></tr>\n",
       "\t<tr><th scope=row>Beta2_F1</th><td>3080      </td><td>1751      </td><td>1792      </td><td> 362      </td><td>1417.0    </td><td>1020.33594</td></tr>\n",
       "\t<tr><th scope=row>Beta3_F1</th><td>2570      </td><td>1261      </td><td>1366      </td><td> 168      </td><td> 344.0    </td><td> 312.22225</td></tr>\n",
       "\t<tr><th scope=row>Beta4_F1</th><td>3420      </td><td>1753      </td><td>1813      </td><td> 437      </td><td> 551.0    </td><td> 794.50786</td></tr>\n",
       "\t<tr><th scope=row>Control1_F1</th><td>2713      </td><td> 935      </td><td>1140      </td><td>1733      </td><td> 444.0    </td><td> 279.62534</td></tr>\n",
       "\t<tr><th scope=row>Control3_F1</th><td>1419      </td><td> 848      </td><td> 928      </td><td> 615      </td><td>  39.0    </td><td> 664.67128</td></tr>\n",
       "\t<tr><th scope=row>Control4_F1</th><td>1431      </td><td> 783      </td><td> 944      </td><td>1178      </td><td> 695.0    </td><td> 692.66622</td></tr>\n",
       "\t<tr><th scope=row>Beta1_F3</th><td>3207      </td><td>1706      </td><td>1856      </td><td> 223      </td><td>  14.0    </td><td> 593.85331</td></tr>\n",
       "\t<tr><th scope=row>Beta2_F3</th><td>4017      </td><td>2071      </td><td>1968      </td><td> 365      </td><td> 839.5    </td><td>1179.34507</td></tr>\n",
       "\t<tr><th scope=row>Beta3_F3</th><td>3097      </td><td>1788      </td><td>1709      </td><td> 278      </td><td>2222.0    </td><td>1237.85401</td></tr>\n",
       "\t<tr><th scope=row>Beta4_F3</th><td>3463      </td><td>1718      </td><td>1525      </td><td> 215      </td><td> 718.0    </td><td>1029.13521</td></tr>\n",
       "\t<tr><th scope=row>Control1_F3</th><td>2892      </td><td>1408      </td><td>1752      </td><td> 276      </td><td>  34.0    </td><td> -14.71842</td></tr>\n",
       "\t<tr><th scope=row>Control2_F3</th><td>1796      </td><td> 773      </td><td> 819      </td><td>1016      </td><td>  39.0    </td><td> 539.47743</td></tr>\n",
       "\t<tr><th scope=row>Control3_F3</th><td>2646      </td><td>1293      </td><td>1236      </td><td> 844      </td><td>1086.0    </td><td> 944.15442</td></tr>\n",
       "\t<tr><th scope=row>Control4_F3</th><td>1916      </td><td> 778      </td><td> 904      </td><td> 581      </td><td> 915.0    </td><td> 102.60678</td></tr>\n",
       "</tbody>\n",
       "</table>\n"
      ],
      "text/latex": [
       "\\begin{tabular}{r|llllll}\n",
       "  & SYNJ2 & B3GALT2 & GARNL3 & Pdyn & OFA1\\_Total & Predicted\\\\\n",
       "\\hline\n",
       "\tBeta1\\_F1 & 2651       & 2086       & 1683       &  254       & 2631.0     & 2612.76330\\\\\n",
       "\tBeta2\\_F1 & 3080       & 1751       & 1792       &  362       & 1417.0     & 1020.33594\\\\\n",
       "\tBeta3\\_F1 & 2570       & 1261       & 1366       &  168       &  344.0     &  312.22225\\\\\n",
       "\tBeta4\\_F1 & 3420       & 1753       & 1813       &  437       &  551.0     &  794.50786\\\\\n",
       "\tControl1\\_F1 & 2713       &  935       & 1140       & 1733       &  444.0     &  279.62534\\\\\n",
       "\tControl3\\_F1 & 1419       &  848       &  928       &  615       &   39.0     &  664.67128\\\\\n",
       "\tControl4\\_F1 & 1431       &  783       &  944       & 1178       &  695.0     &  692.66622\\\\\n",
       "\tBeta1\\_F3 & 3207       & 1706       & 1856       &  223       &   14.0     &  593.85331\\\\\n",
       "\tBeta2\\_F3 & 4017       & 2071       & 1968       &  365       &  839.5     & 1179.34507\\\\\n",
       "\tBeta3\\_F3 & 3097       & 1788       & 1709       &  278       & 2222.0     & 1237.85401\\\\\n",
       "\tBeta4\\_F3 & 3463       & 1718       & 1525       &  215       &  718.0     & 1029.13521\\\\\n",
       "\tControl1\\_F3 & 2892       & 1408       & 1752       &  276       &   34.0     &  -14.71842\\\\\n",
       "\tControl2\\_F3 & 1796       &  773       &  819       & 1016       &   39.0     &  539.47743\\\\\n",
       "\tControl3\\_F3 & 2646       & 1293       & 1236       &  844       & 1086.0     &  944.15442\\\\\n",
       "\tControl4\\_F3 & 1916       &  778       &  904       &  581       &  915.0     &  102.60678\\\\\n",
       "\\end{tabular}\n"
      ],
      "text/markdown": [
       "\n",
       "| <!--/--> | SYNJ2 | B3GALT2 | GARNL3 | Pdyn | OFA1_Total | Predicted | \n",
       "|---|---|---|---|---|---|---|---|---|---|---|---|---|---|---|\n",
       "| Beta1_F1 | 2651       | 2086       | 1683       |  254       | 2631.0     | 2612.76330 | \n",
       "| Beta2_F1 | 3080       | 1751       | 1792       |  362       | 1417.0     | 1020.33594 | \n",
       "| Beta3_F1 | 2570       | 1261       | 1366       |  168       |  344.0     |  312.22225 | \n",
       "| Beta4_F1 | 3420       | 1753       | 1813       |  437       |  551.0     |  794.50786 | \n",
       "| Control1_F1 | 2713       |  935       | 1140       | 1733       |  444.0     |  279.62534 | \n",
       "| Control3_F1 | 1419       |  848       |  928       |  615       |   39.0     |  664.67128 | \n",
       "| Control4_F1 | 1431       |  783       |  944       | 1178       |  695.0     |  692.66622 | \n",
       "| Beta1_F3 | 3207       | 1706       | 1856       |  223       |   14.0     |  593.85331 | \n",
       "| Beta2_F3 | 4017       | 2071       | 1968       |  365       |  839.5     | 1179.34507 | \n",
       "| Beta3_F3 | 3097       | 1788       | 1709       |  278       | 2222.0     | 1237.85401 | \n",
       "| Beta4_F3 | 3463       | 1718       | 1525       |  215       |  718.0     | 1029.13521 | \n",
       "| Control1_F3 | 2892       | 1408       | 1752       |  276       |   34.0     |  -14.71842 | \n",
       "| Control2_F3 | 1796       |  773       |  819       | 1016       |   39.0     |  539.47743 | \n",
       "| Control3_F3 | 2646       | 1293       | 1236       |  844       | 1086.0     |  944.15442 | \n",
       "| Control4_F3 | 1916       |  778       |  904       |  581       |  915.0     |  102.60678 | \n",
       "\n",
       "\n"
      ],
      "text/plain": [
       "            SYNJ2 B3GALT2 GARNL3 Pdyn OFA1_Total Predicted \n",
       "Beta1_F1    2651  2086    1683    254 2631.0     2612.76330\n",
       "Beta2_F1    3080  1751    1792    362 1417.0     1020.33594\n",
       "Beta3_F1    2570  1261    1366    168  344.0      312.22225\n",
       "Beta4_F1    3420  1753    1813    437  551.0      794.50786\n",
       "Control1_F1 2713   935    1140   1733  444.0      279.62534\n",
       "Control3_F1 1419   848     928    615   39.0      664.67128\n",
       "Control4_F1 1431   783     944   1178  695.0      692.66622\n",
       "Beta1_F3    3207  1706    1856    223   14.0      593.85331\n",
       "Beta2_F3    4017  2071    1968    365  839.5     1179.34507\n",
       "Beta3_F3    3097  1788    1709    278 2222.0     1237.85401\n",
       "Beta4_F3    3463  1718    1525    215  718.0     1029.13521\n",
       "Control1_F3 2892  1408    1752    276   34.0      -14.71842\n",
       "Control2_F3 1796   773     819   1016   39.0      539.47743\n",
       "Control3_F3 2646  1293    1236    844 1086.0      944.15442\n",
       "Control4_F3 1916   778     904    581  915.0      102.60678"
      ]
     },
     "metadata": {},
     "output_type": "display_data"
    }
   ],
   "source": [
    "input2 = "
   ]
  },
  {
   "cell_type": "code",
   "execution_count": null,
   "metadata": {
    "collapsed": true
   },
   "outputs": [],
   "source": []
  },
  {
   "cell_type": "code",
   "execution_count": null,
   "metadata": {
    "collapsed": true
   },
   "outputs": [],
   "source": []
  },
  {
   "cell_type": "code",
   "execution_count": null,
   "metadata": {
    "collapsed": true
   },
   "outputs": [],
   "source": []
  },
  {
   "cell_type": "code",
   "execution_count": null,
   "metadata": {
    "collapsed": true
   },
   "outputs": [],
   "source": []
  },
  {
   "cell_type": "code",
   "execution_count": null,
   "metadata": {
    "collapsed": true
   },
   "outputs": [],
   "source": []
  },
  {
   "cell_type": "code",
   "execution_count": 226,
   "metadata": {
    "collapsed": false
   },
   "outputs": [
    {
     "data": {
      "text/plain": [
       "\n",
       "Call:\n",
       "lm(formula = OFA1_Total ~ CCDC80 + PAPPA2 + GLRA3 + PLA2G2C, \n",
       "    data = F1F3t)\n",
       "\n",
       "Residuals:\n",
       "     Min       1Q   Median       3Q      Max \n",
       "-1193.91  -209.16   -82.31   219.18  1160.64 \n",
       "\n",
       "Coefficients:\n",
       "            Estimate Std. Error t value Pr(>|t|)  \n",
       "(Intercept) 1818.015   1002.352   1.814   0.0998 .\n",
       "CCDC80        17.242      5.652   3.051   0.0122 *\n",
       "PAPPA2       -21.841      8.304  -2.630   0.0252 *\n",
       "GLRA3         22.187     11.589   1.914   0.0846 .\n",
       "PLA2G2C      -13.835      5.775  -2.396   0.0376 *\n",
       "---\n",
       "Signif. codes:  0 '***' 0.001 '**' 0.01 '*' 0.05 '.' 0.1 ' ' 1\n",
       "\n",
       "Residual standard error: 626.6 on 10 degrees of freedom\n",
       "Multiple R-squared:  0.545,\tAdjusted R-squared:  0.363 \n",
       "F-statistic: 2.994 on 4 and 10 DF,  p-value: 0.07266\n"
      ]
     },
     "metadata": {},
     "output_type": "display_data"
    }
   ],
   "source": [
    "model3 = lm(OFA1_Total ~ CCDC80+PAPPA2+GLRA3+PLA2G2C, data= F1F3t)\n",
    "summary(model3)"
   ]
  },
  {
   "cell_type": "code",
   "execution_count": null,
   "metadata": {
    "collapsed": true
   },
   "outputs": [],
   "source": []
  },
  {
   "cell_type": "code",
   "execution_count": null,
   "metadata": {
    "collapsed": true
   },
   "outputs": [],
   "source": [
    "### Now to test the second hypothesis, that a model can be fit across all 3 generations if outliers are removed"
   ]
  },
  {
   "cell_type": "code",
   "execution_count": 182,
   "metadata": {
    "collapsed": false
   },
   "outputs": [
    {
     "data": {
      "text/html": [
       "<table>\n",
       "<thead><tr><th></th><th scope=col>ARPP21</th><th scope=col>ATP6AP1L</th><th scope=col>B3GALT2</th><th scope=col>C9orf116</th><th scope=col>CALB1</th><th scope=col>CCDC80</th><th scope=col>CREB3L1</th><th scope=col>CTXN3</th><th scope=col>DACH1</th><th scope=col>GABRA3</th><th scope=col>...</th><th scope=col>SYNJ2</th><th scope=col>VSTM2L</th><th scope=col>OF_HPA1_T_AUC</th><th scope=col>OF_HPA1_Net_AUC</th><th scope=col>OF_HPA2_T_AUC</th><th scope=col>OF_HPA2_Net_AUC</th><th scope=col>OFA1_Total</th><th scope=col>OFA2_Total</th><th scope=col>Startle</th><th scope=col>Group</th></tr></thead>\n",
       "<tbody>\n",
       "\t<tr><th scope=row>Beta1_F1</th><td>3430    </td><td>1607    </td><td>2086    </td><td>30      </td><td> 497    </td><td>260     </td><td>482     </td><td>2023    </td><td>133     </td><td>6661    </td><td>...     </td><td>2651    </td><td>1275    </td><td>1695    </td><td>1338.00 </td><td>2269    </td><td>1993.0  </td><td>2631    </td><td> 263    </td><td>492.43  </td><td>Beta    </td></tr>\n",
       "\t<tr><th scope=row>Beta2_F1</th><td>3193    </td><td>1683    </td><td>1751    </td><td>32      </td><td> 489    </td><td>136     </td><td>386     </td><td>1789    </td><td> 73     </td><td>6050    </td><td>...     </td><td>3080    </td><td> 800    </td><td>2901    </td><td>1768.00 </td><td>2336    </td><td>1536.0  </td><td>1417    </td><td>  43    </td><td>712.38  </td><td>Beta    </td></tr>\n",
       "\t<tr><th scope=row>Beta3_F1</th><td>4427    </td><td>2056    </td><td>1261    </td><td>14      </td><td> 364    </td><td>125     </td><td>346     </td><td>1289    </td><td>119     </td><td>4921    </td><td>...     </td><td>2570    </td><td>1412    </td><td>1436    </td><td> 588.80 </td><td>2045    </td><td>1868.0  </td><td> 344    </td><td> 956    </td><td>360.00  </td><td>Beta    </td></tr>\n",
       "\t<tr><th scope=row>Beta4_F1</th><td>3836    </td><td>2555    </td><td>1753    </td><td>30      </td><td> 520    </td><td>247     </td><td>482     </td><td>2737    </td><td>129     </td><td>5432    </td><td>...     </td><td>3420    </td><td> 803    </td><td>2327    </td><td> 570.60 </td><td>2821    </td><td>1808.0  </td><td> 551    </td><td>2203    </td><td>148.38  </td><td>Beta    </td></tr>\n",
       "\t<tr><th scope=row>Control1_F1</th><td>9818    </td><td>1733    </td><td> 935    </td><td>95      </td><td>2647    </td><td>120     </td><td>381     </td><td>1277    </td><td>393     </td><td>4692    </td><td>...     </td><td>2713    </td><td>2490    </td><td>1729    </td><td>1334.00 </td><td>2701    </td><td> -12.3  </td><td> 444    </td><td> 780    </td><td>141.50  </td><td>Control </td></tr>\n",
       "\t<tr><th scope=row>Control2_F1</th><td>3802    </td><td> 777    </td><td>1052    </td><td>41      </td><td> 572    </td><td> 89     </td><td>285     </td><td> 963    </td><td>121     </td><td>3407    </td><td>...     </td><td>1719    </td><td>1160    </td><td>1590    </td><td>  65.25 </td><td>2598    </td><td>1192.0  </td><td> 292    </td><td>1091    </td><td>190.50  </td><td>Control </td></tr>\n",
       "</tbody>\n",
       "</table>\n"
      ],
      "text/latex": [
       "\\begin{tabular}{r|llllllllllllllllllllllllllllll}\n",
       "  & ARPP21 & ATP6AP1L & B3GALT2 & C9orf116 & CALB1 & CCDC80 & CREB3L1 & CTXN3 & DACH1 & GABRA3 & ... & SYNJ2 & VSTM2L & OF\\_HPA1\\_T\\_AUC & OF\\_HPA1\\_Net\\_AUC & OF\\_HPA2\\_T\\_AUC & OF\\_HPA2\\_Net\\_AUC & OFA1\\_Total & OFA2\\_Total & Startle & Group\\\\\n",
       "\\hline\n",
       "\tBeta1\\_F1 & 3430     & 1607     & 2086     & 30       &  497     & 260      & 482      & 2023     & 133      & 6661     & ...      & 2651     & 1275     & 1695     & 1338.00  & 2269     & 1993.0   & 2631     &  263     & 492.43   & Beta    \\\\\n",
       "\tBeta2\\_F1 & 3193     & 1683     & 1751     & 32       &  489     & 136      & 386      & 1789     &  73      & 6050     & ...      & 3080     &  800     & 2901     & 1768.00  & 2336     & 1536.0   & 1417     &   43     & 712.38   & Beta    \\\\\n",
       "\tBeta3\\_F1 & 4427     & 2056     & 1261     & 14       &  364     & 125      & 346      & 1289     & 119      & 4921     & ...      & 2570     & 1412     & 1436     &  588.80  & 2045     & 1868.0   &  344     &  956     & 360.00   & Beta    \\\\\n",
       "\tBeta4\\_F1 & 3836     & 2555     & 1753     & 30       &  520     & 247      & 482      & 2737     & 129      & 5432     & ...      & 3420     &  803     & 2327     &  570.60  & 2821     & 1808.0   &  551     & 2203     & 148.38   & Beta    \\\\\n",
       "\tControl1\\_F1 & 9818     & 1733     &  935     & 95       & 2647     & 120      & 381      & 1277     & 393      & 4692     & ...      & 2713     & 2490     & 1729     & 1334.00  & 2701     &  -12.3   &  444     &  780     & 141.50   & Control \\\\\n",
       "\tControl2\\_F1 & 3802     &  777     & 1052     & 41       &  572     &  89      & 285      &  963     & 121      & 3407     & ...      & 1719     & 1160     & 1590     &   65.25  & 2598     & 1192.0   &  292     & 1091     & 190.50   & Control \\\\\n",
       "\\end{tabular}\n"
      ],
      "text/markdown": [
       "\n",
       "| <!--/--> | ARPP21 | ATP6AP1L | B3GALT2 | C9orf116 | CALB1 | CCDC80 | CREB3L1 | CTXN3 | DACH1 | GABRA3 | ... | SYNJ2 | VSTM2L | OF_HPA1_T_AUC | OF_HPA1_Net_AUC | OF_HPA2_T_AUC | OF_HPA2_Net_AUC | OFA1_Total | OFA2_Total | Startle | Group | \n",
       "|---|---|---|---|---|---|\n",
       "| Beta1_F1 | 3430     | 1607     | 2086     | 30       |  497     | 260      | 482      | 2023     | 133      | 6661     | ...      | 2651     | 1275     | 1695     | 1338.00  | 2269     | 1993.0   | 2631     |  263     | 492.43   | Beta     | \n",
       "| Beta2_F1 | 3193     | 1683     | 1751     | 32       |  489     | 136      | 386      | 1789     |  73      | 6050     | ...      | 3080     |  800     | 2901     | 1768.00  | 2336     | 1536.0   | 1417     |   43     | 712.38   | Beta     | \n",
       "| Beta3_F1 | 4427     | 2056     | 1261     | 14       |  364     | 125      | 346      | 1289     | 119      | 4921     | ...      | 2570     | 1412     | 1436     |  588.80  | 2045     | 1868.0   |  344     |  956     | 360.00   | Beta     | \n",
       "| Beta4_F1 | 3836     | 2555     | 1753     | 30       |  520     | 247      | 482      | 2737     | 129      | 5432     | ...      | 3420     |  803     | 2327     |  570.60  | 2821     | 1808.0   |  551     | 2203     | 148.38   | Beta     | \n",
       "| Control1_F1 | 9818     | 1733     |  935     | 95       | 2647     | 120      | 381      | 1277     | 393      | 4692     | ...      | 2713     | 2490     | 1729     | 1334.00  | 2701     |  -12.3   |  444     |  780     | 141.50   | Control  | \n",
       "| Control2_F1 | 3802     |  777     | 1052     | 41       |  572     |  89      | 285      |  963     | 121      | 3407     | ...      | 1719     | 1160     | 1590     |   65.25  | 2598     | 1192.0   |  292     | 1091     | 190.50   | Control  | \n",
       "\n",
       "\n"
      ],
      "text/plain": [
       "            ARPP21 ATP6AP1L B3GALT2 C9orf116 CALB1 CCDC80 CREB3L1 CTXN3 DACH1\n",
       "Beta1_F1    3430   1607     2086    30        497  260    482     2023  133  \n",
       "Beta2_F1    3193   1683     1751    32        489  136    386     1789   73  \n",
       "Beta3_F1    4427   2056     1261    14        364  125    346     1289  119  \n",
       "Beta4_F1    3836   2555     1753    30        520  247    482     2737  129  \n",
       "Control1_F1 9818   1733      935    95       2647  120    381     1277  393  \n",
       "Control2_F1 3802    777     1052    41        572   89    285      963  121  \n",
       "            GABRA3 ... SYNJ2 VSTM2L OF_HPA1_T_AUC OF_HPA1_Net_AUC OF_HPA2_T_AUC\n",
       "Beta1_F1    6661   ... 2651  1275   1695          1338.00         2269         \n",
       "Beta2_F1    6050   ... 3080   800   2901          1768.00         2336         \n",
       "Beta3_F1    4921   ... 2570  1412   1436           588.80         2045         \n",
       "Beta4_F1    5432   ... 3420   803   2327           570.60         2821         \n",
       "Control1_F1 4692   ... 2713  2490   1729          1334.00         2701         \n",
       "Control2_F1 3407   ... 1719  1160   1590            65.25         2598         \n",
       "            OF_HPA2_Net_AUC OFA1_Total OFA2_Total Startle Group   \n",
       "Beta1_F1    1993.0          2631        263       492.43  Beta    \n",
       "Beta2_F1    1536.0          1417         43       712.38  Beta    \n",
       "Beta3_F1    1868.0           344        956       360.00  Beta    \n",
       "Beta4_F1    1808.0           551       2203       148.38  Beta    \n",
       "Control1_F1  -12.3           444        780       141.50  Control \n",
       "Control2_F1 1192.0           292       1091       190.50  Control "
      ]
     },
     "metadata": {},
     "output_type": "display_data"
    },
    {
     "data": {
      "text/html": [
       "24"
      ],
      "text/latex": [
       "24"
      ],
      "text/markdown": [
       "24"
      ],
      "text/plain": [
       "[1] 24"
      ]
     },
     "metadata": {},
     "output_type": "display_data"
    }
   ],
   "source": [
    "head(data)\n",
    "nrow(data)"
   ]
  },
  {
   "cell_type": "code",
   "execution_count": 198,
   "metadata": {
    "collapsed": false
   },
   "outputs": [
    {
     "data": {
      "text/html": [
       "<table>\n",
       "<thead><tr><th></th><th scope=col>Beta1_F1</th><th scope=col>Beta2_F1</th><th scope=col>Beta3_F1</th><th scope=col>Beta4_F1</th><th scope=col>Control1_F1</th><th scope=col>Control3_F1</th><th scope=col>Control4_F1</th><th scope=col>Beta1_F2</th><th scope=col>Beta3_F2</th><th scope=col>Control1_F2</th><th scope=col>...</th><th scope=col>Control3_F2</th><th scope=col>Control4_F2</th><th scope=col>Beta1_F3</th><th scope=col>Beta2_F3</th><th scope=col>Beta3_F3</th><th scope=col>Beta4_F3</th><th scope=col>Control1_F3</th><th scope=col>Control2_F3</th><th scope=col>Control3_F3</th><th scope=col>Control4_F3</th></tr></thead>\n",
       "<tbody>\n",
       "\t<tr><th scope=row>ARPP21</th><td>3430</td><td>3193</td><td>4427</td><td>3836</td><td>9818</td><td>5880</td><td>8455</td><td>3505</td><td>2481</td><td>3632</td><td>... </td><td>3737</td><td>4255</td><td>3714</td><td>4842</td><td>2968</td><td>3752</td><td>4125</td><td>8464</td><td>8318</td><td>6903</td></tr>\n",
       "\t<tr><th scope=row>ATP6AP1L</th><td>1607</td><td>1683</td><td>2056</td><td>2555</td><td>1733</td><td> 764</td><td> 944</td><td>2110</td><td>1515</td><td>2185</td><td>... </td><td>2169</td><td>1991</td><td>2077</td><td>1961</td><td>2090</td><td>1422</td><td>1398</td><td>1265</td><td>1532</td><td>1050</td></tr>\n",
       "\t<tr><th scope=row>B3GALT2</th><td>2086</td><td>1751</td><td>1261</td><td>1753</td><td> 935</td><td> 848</td><td> 783</td><td>2129</td><td>1662</td><td>1105</td><td>... </td><td>1004</td><td> 933</td><td>1706</td><td>2071</td><td>1788</td><td>1718</td><td>1408</td><td> 773</td><td>1293</td><td> 778</td></tr>\n",
       "\t<tr><th scope=row>C9orf116</th><td>  30</td><td>  32</td><td>  14</td><td>  30</td><td>  95</td><td>  54</td><td>  86</td><td>  26</td><td>  23</td><td>  35</td><td>... </td><td>  54</td><td>  49</td><td>  48</td><td>  31</td><td>  26</td><td>  25</td><td>  71</td><td>  67</td><td>  43</td><td>  83</td></tr>\n",
       "\t<tr><th scope=row>CALB1</th><td> 497</td><td> 489</td><td> 364</td><td> 520</td><td>2647</td><td>1008</td><td>1868</td><td> 272</td><td> 258</td><td> 390</td><td>... </td><td> 634</td><td> 653</td><td> 322</td><td> 485</td><td> 321</td><td> 280</td><td> 432</td><td>1503</td><td>1429</td><td> 879</td></tr>\n",
       "\t<tr><th scope=row>CCDC80</th><td> 260</td><td> 136</td><td> 125</td><td> 247</td><td> 120</td><td>  70</td><td>  82</td><td> 259</td><td> 203</td><td> 113</td><td>... </td><td>  57</td><td>  64</td><td> 160</td><td> 219</td><td> 164</td><td> 149</td><td> 167</td><td>  77</td><td> 100</td><td>  90</td></tr>\n",
       "</tbody>\n",
       "</table>\n"
      ],
      "text/latex": [
       "\\begin{tabular}{r|lllllllllllllllllllll}\n",
       "  & Beta1\\_F1 & Beta2\\_F1 & Beta3\\_F1 & Beta4\\_F1 & Control1\\_F1 & Control3\\_F1 & Control4\\_F1 & Beta1\\_F2 & Beta3\\_F2 & Control1\\_F2 & ... & Control3\\_F2 & Control4\\_F2 & Beta1\\_F3 & Beta2\\_F3 & Beta3\\_F3 & Beta4\\_F3 & Control1\\_F3 & Control2\\_F3 & Control3\\_F3 & Control4\\_F3\\\\\n",
       "\\hline\n",
       "\tARPP21 & 3430 & 3193 & 4427 & 3836 & 9818 & 5880 & 8455 & 3505 & 2481 & 3632 & ...  & 3737 & 4255 & 3714 & 4842 & 2968 & 3752 & 4125 & 8464 & 8318 & 6903\\\\\n",
       "\tATP6AP1L & 1607 & 1683 & 2056 & 2555 & 1733 &  764 &  944 & 2110 & 1515 & 2185 & ...  & 2169 & 1991 & 2077 & 1961 & 2090 & 1422 & 1398 & 1265 & 1532 & 1050\\\\\n",
       "\tB3GALT2 & 2086 & 1751 & 1261 & 1753 &  935 &  848 &  783 & 2129 & 1662 & 1105 & ...  & 1004 &  933 & 1706 & 2071 & 1788 & 1718 & 1408 &  773 & 1293 &  778\\\\\n",
       "\tC9orf116 &   30 &   32 &   14 &   30 &   95 &   54 &   86 &   26 &   23 &   35 & ...  &   54 &   49 &   48 &   31 &   26 &   25 &   71 &   67 &   43 &   83\\\\\n",
       "\tCALB1 &  497 &  489 &  364 &  520 & 2647 & 1008 & 1868 &  272 &  258 &  390 & ...  &  634 &  653 &  322 &  485 &  321 &  280 &  432 & 1503 & 1429 &  879\\\\\n",
       "\tCCDC80 &  260 &  136 &  125 &  247 &  120 &   70 &   82 &  259 &  203 &  113 & ...  &   57 &   64 &  160 &  219 &  164 &  149 &  167 &   77 &  100 &   90\\\\\n",
       "\\end{tabular}\n"
      ],
      "text/markdown": [
       "\n",
       "| <!--/--> | Beta1_F1 | Beta2_F1 | Beta3_F1 | Beta4_F1 | Control1_F1 | Control3_F1 | Control4_F1 | Beta1_F2 | Beta3_F2 | Control1_F2 | ... | Control3_F2 | Control4_F2 | Beta1_F3 | Beta2_F3 | Beta3_F3 | Beta4_F3 | Control1_F3 | Control2_F3 | Control3_F3 | Control4_F3 | \n",
       "|---|---|---|---|---|---|\n",
       "| ARPP21 | 3430 | 3193 | 4427 | 3836 | 9818 | 5880 | 8455 | 3505 | 2481 | 3632 | ...  | 3737 | 4255 | 3714 | 4842 | 2968 | 3752 | 4125 | 8464 | 8318 | 6903 | \n",
       "| ATP6AP1L | 1607 | 1683 | 2056 | 2555 | 1733 |  764 |  944 | 2110 | 1515 | 2185 | ...  | 2169 | 1991 | 2077 | 1961 | 2090 | 1422 | 1398 | 1265 | 1532 | 1050 | \n",
       "| B3GALT2 | 2086 | 1751 | 1261 | 1753 |  935 |  848 |  783 | 2129 | 1662 | 1105 | ...  | 1004 |  933 | 1706 | 2071 | 1788 | 1718 | 1408 |  773 | 1293 |  778 | \n",
       "| C9orf116 |   30 |   32 |   14 |   30 |   95 |   54 |   86 |   26 |   23 |   35 | ...  |   54 |   49 |   48 |   31 |   26 |   25 |   71 |   67 |   43 |   83 | \n",
       "| CALB1 |  497 |  489 |  364 |  520 | 2647 | 1008 | 1868 |  272 |  258 |  390 | ...  |  634 |  653 |  322 |  485 |  321 |  280 |  432 | 1503 | 1429 |  879 | \n",
       "| CCDC80 |  260 |  136 |  125 |  247 |  120 |   70 |   82 |  259 |  203 |  113 | ...  |   57 |   64 |  160 |  219 |  164 |  149 |  167 |   77 |  100 |   90 | \n",
       "\n",
       "\n"
      ],
      "text/plain": [
       "         Beta1_F1 Beta2_F1 Beta3_F1 Beta4_F1 Control1_F1 Control3_F1\n",
       "ARPP21   3430     3193     4427     3836     9818        5880       \n",
       "ATP6AP1L 1607     1683     2056     2555     1733         764       \n",
       "B3GALT2  2086     1751     1261     1753      935         848       \n",
       "C9orf116   30       32       14       30       95          54       \n",
       "CALB1     497      489      364      520     2647        1008       \n",
       "CCDC80    260      136      125      247      120          70       \n",
       "         Control4_F1 Beta1_F2 Beta3_F2 Control1_F2 ... Control3_F2 Control4_F2\n",
       "ARPP21   8455        3505     2481     3632        ... 3737        4255       \n",
       "ATP6AP1L  944        2110     1515     2185        ... 2169        1991       \n",
       "B3GALT2   783        2129     1662     1105        ... 1004         933       \n",
       "C9orf116   86          26       23       35        ...   54          49       \n",
       "CALB1    1868         272      258      390        ...  634         653       \n",
       "CCDC80     82         259      203      113        ...   57          64       \n",
       "         Beta1_F3 Beta2_F3 Beta3_F3 Beta4_F3 Control1_F3 Control2_F3\n",
       "ARPP21   3714     4842     2968     3752     4125        8464       \n",
       "ATP6AP1L 2077     1961     2090     1422     1398        1265       \n",
       "B3GALT2  1706     2071     1788     1718     1408         773       \n",
       "C9orf116   48       31       26       25       71          67       \n",
       "CALB1     322      485      321      280      432        1503       \n",
       "CCDC80    160      219      164      149      167          77       \n",
       "         Control3_F3 Control4_F3\n",
       "ARPP21   8318        6903       \n",
       "ATP6AP1L 1532        1050       \n",
       "B3GALT2  1293         778       \n",
       "C9orf116   43          83       \n",
       "CALB1    1429         879       \n",
       "CCDC80    100          90       "
      ]
     },
     "metadata": {},
     "output_type": "display_data"
    }
   ],
   "source": [
    "datah<-as.data.frame(datah)\n",
    "data_orm <- within(datah, rm(Beta2_F2,Beta4_F2,Control2_F1))\n",
    "head(data_orm)\n",
    "\n",
    "data_ormt<- as.data.frame(t(data_orm))\n",
    "\n",
    "\n"
   ]
  },
  {
   "cell_type": "code",
   "execution_count": 206,
   "metadata": {
    "collapsed": false
   },
   "outputs": [
    {
     "data": {
      "image/png": "[encoded data removed]",
      "text/plain": [
       "plot without title"
      ]
     },
     "metadata": {},
     "output_type": "display_data"
    }
   ],
   "source": [
    "heatmap3(data_orm, Rowv = NULL, Colv = NULL,\n",
    "  distfun = function(x) as.dist(1 - cor(t(x), use = \"pa\")),\n",
    "  balanceColor = F,showColDendro = T,\n",
    "  showRowDendro = T, col = greenred(105), legendfun, method = \"complete\", ColAxisColors = 0,\n",
    "  RowAxisColors = 7, hclustfun = hclust, reorderfun = function(d, w)\n",
    "  reorder(d, w), add.expr, symm = FALSE,\n",
    "  scale = \"row\", na.rm = TRUE, \n",
    "  ColSideWidth = 0.4, \n",
    "  file = \"heatmap3.pdf\", topN = NA, filterFun = sd, margins = c(5, 5), lasRow = 2, lasCol = 2,\n",
    "  labRow =row.names(data_orm), labCol = NULL , main = NULL, xlab = NULL, ylab = NULL,\n",
    "  keep.dendro = FALSE, verbose = getOption(\"verbose\"))"
   ]
  },
  {
   "cell_type": "code",
   "execution_count": null,
   "metadata": {
    "collapsed": false,
    "scrolled": false
   },
   "outputs": [],
   "source": []
  },
  {
   "cell_type": "code",
   "execution_count": 366,
   "metadata": {
    "collapsed": false,
    "scrolled": true
   },
   "outputs": [
    {
     "data": {
      "text/plain": [
       "\n",
       "Call:\n",
       "lm(formula = OFA1_Total ~ SYNJ2 + B3GALT2 + GARNL3 + Pdyn, data = data_ormt)\n",
       "\n",
       "Residuals:\n",
       "    Min      1Q  Median      3Q     Max \n",
       "-949.97 -309.16  -45.02  335.71  859.80 \n",
       "\n",
       "Coefficients:\n",
       "            Estimate Std. Error t value Pr(>|t|)    \n",
       "(Intercept) 838.4180   815.9639   1.028 0.319461    \n",
       "SYNJ2        -0.5940     0.3472  -1.711 0.106392    \n",
       "B3GALT2       3.4397     0.8427   4.082 0.000869 ***\n",
       "GARNL3       -2.2623     1.1085  -2.041 0.058106 .  \n",
       "Pdyn          0.2862     0.4378   0.654 0.522534    \n",
       "---\n",
       "Signif. codes:  0 '***' 0.001 '**' 0.01 '*' 0.05 '.' 0.1 ' ' 1\n",
       "\n",
       "Residual standard error: 589 on 16 degrees of freedom\n",
       "Multiple R-squared:  0.5358,\tAdjusted R-squared:  0.4197 \n",
       "F-statistic: 4.617 on 4 and 16 DF,  p-value: 0.0114\n"
      ]
     },
     "metadata": {},
     "output_type": "display_data"
    }
   ],
   "source": [
    "model2 = lm(OFA1_Total ~ SYNJ2+B3GALT2+GARNL3+Pdyn, data= data_ormt)\n",
    "summary(model2)\n",
    "### The model that fit F1 and F3 holds when F2 is added, even with 'outliers' removed,\n",
    "### suggesting that these are the genes that are playing a strong role in influencing\n",
    "### the Open Field Activity Across 3 generations "
   ]
  },
  {
   "cell_type": "code",
   "execution_count": 353,
   "metadata": {
    "collapsed": false
   },
   "outputs": [
    {
     "data": {
      "text/html": [
       "<table>\n",
       "<thead><tr><th></th><th scope=col>ARPP21</th><th scope=col>ATP6AP1L</th><th scope=col>B3GALT2</th><th scope=col>C9orf116</th><th scope=col>CALB1</th><th scope=col>CCDC80</th><th scope=col>CREB3L1</th><th scope=col>CTXN3</th><th scope=col>DACH1</th><th scope=col>GABRA3</th><th scope=col>...</th><th scope=col>SYNJ2</th><th scope=col>VSTM2L</th><th scope=col>OF_HPA1_T_AUC</th><th scope=col>OF_HPA1_Net_AUC</th><th scope=col>OF_HPA2_T_AUC</th><th scope=col>OF_HPA2_Net_AUC</th><th scope=col>OFA1_Total</th><th scope=col>OFA2_Total</th><th scope=col>Startle</th><th scope=col>Group</th></tr></thead>\n",
       "<tbody>\n",
       "\t<tr><th scope=row>Beta1_F2</th><td>3505    </td><td>2110    </td><td>2129    </td><td>26      </td><td>272     </td><td>259     </td><td>357     </td><td>2425    </td><td> 78     </td><td>6454    </td><td>...     </td><td>3471    </td><td>1025    </td><td>3270    </td><td>1406.0  </td><td>2273    </td><td>1206    </td><td>1621    </td><td>1533    </td><td>200.63  </td><td>Beta    </td></tr>\n",
       "\t<tr><th scope=row>Beta2_F2</th><td>3005    </td><td>1667    </td><td>1099    </td><td>37      </td><td>399     </td><td> 81     </td><td>175     </td><td>1139    </td><td> 97     </td><td>4949    </td><td>...     </td><td>2084    </td><td>1025    </td><td>3691    </td><td>2769.0  </td><td>3221    </td><td>2810    </td><td>1738    </td><td>2297    </td><td>473.63  </td><td>Beta    </td></tr>\n",
       "\t<tr><th scope=row>Beta3_F2</th><td>2481    </td><td>1515    </td><td>1662    </td><td>23      </td><td>258     </td><td>203     </td><td>533     </td><td>2305    </td><td> 78     </td><td>5799    </td><td>...     </td><td>3877    </td><td> 754    </td><td>2499    </td><td>2070.0  </td><td>3643    </td><td>3183    </td><td>1385    </td><td>1541    </td><td>495.75  </td><td>Beta    </td></tr>\n",
       "\t<tr><th scope=row>Beta4_F2</th><td>2625    </td><td>1438    </td><td>1269    </td><td>24      </td><td>265     </td><td>124     </td><td>238     </td><td>1508    </td><td> 60     </td><td>4261    </td><td>...     </td><td>1936    </td><td> 949    </td><td>3829    </td><td>2962.0  </td><td>3815    </td><td>2892    </td><td>1765    </td><td>1881    </td><td>256.38  </td><td>Beta    </td></tr>\n",
       "\t<tr><th scope=row>Control1_F2</th><td>3632    </td><td>2185    </td><td>1105    </td><td>35      </td><td>390     </td><td>113     </td><td>239     </td><td>1262    </td><td> 96     </td><td>6279    </td><td>...     </td><td>2224    </td><td>1363    </td><td>1601    </td><td>-177.3  </td><td>2545    </td><td>2198    </td><td> 826    </td><td> 897    </td><td>196.63  </td><td>Control </td></tr>\n",
       "\t<tr><th scope=row>Control2_F2</th><td>3864    </td><td>1814    </td><td>1094    </td><td>48      </td><td>690     </td><td> 64     </td><td>132     </td><td> 888    </td><td>105     </td><td>6338    </td><td>...     </td><td>1585    </td><td>1178    </td><td>3688    </td><td>1542.0  </td><td>3058    </td><td>2535    </td><td>1582    </td><td>1442    </td><td>185.63  </td><td>Control </td></tr>\n",
       "\t<tr><th scope=row>Control3_F2</th><td>3737    </td><td>2169    </td><td>1004    </td><td>54      </td><td>634     </td><td> 57     </td><td>139     </td><td> 700    </td><td>113     </td><td>6491    </td><td>...     </td><td>1656    </td><td>1367    </td><td>2640    </td><td>2191.0  </td><td>3986    </td><td>3318    </td><td>2306    </td><td> 123    </td><td>231.25  </td><td>Control </td></tr>\n",
       "\t<tr><th scope=row>Control4_F2</th><td>4255    </td><td>1991    </td><td> 933    </td><td>49      </td><td>653     </td><td> 64     </td><td>116     </td><td> 973    </td><td>125     </td><td>6111    </td><td>...     </td><td>1665    </td><td>1345    </td><td>3731    </td><td>-174.7  </td><td>3894    </td><td>2916    </td><td>1341    </td><td>2149    </td><td>397.38  </td><td>Control </td></tr>\n",
       "</tbody>\n",
       "</table>\n"
      ],
      "text/latex": [
       "\\begin{tabular}{r|llllllllllllllllllllllllllllll}\n",
       "  & ARPP21 & ATP6AP1L & B3GALT2 & C9orf116 & CALB1 & CCDC80 & CREB3L1 & CTXN3 & DACH1 & GABRA3 & ... & SYNJ2 & VSTM2L & OF\\_HPA1\\_T\\_AUC & OF\\_HPA1\\_Net\\_AUC & OF\\_HPA2\\_T\\_AUC & OF\\_HPA2\\_Net\\_AUC & OFA1\\_Total & OFA2\\_Total & Startle & Group\\\\\n",
       "\\hline\n",
       "\tBeta1\\_F2 & 3505     & 2110     & 2129     & 26       & 272      & 259      & 357      & 2425     &  78      & 6454     & ...      & 3471     & 1025     & 3270     & 1406.0   & 2273     & 1206     & 1621     & 1533     & 200.63   & Beta    \\\\\n",
       "\tBeta2\\_F2 & 3005     & 1667     & 1099     & 37       & 399      &  81      & 175      & 1139     &  97      & 4949     & ...      & 2084     & 1025     & 3691     & 2769.0   & 3221     & 2810     & 1738     & 2297     & 473.63   & Beta    \\\\\n",
       "\tBeta3\\_F2 & 2481     & 1515     & 1662     & 23       & 258      & 203      & 533      & 2305     &  78      & 5799     & ...      & 3877     &  754     & 2499     & 2070.0   & 3643     & 3183     & 1385     & 1541     & 495.75   & Beta    \\\\\n",
       "\tBeta4\\_F2 & 2625     & 1438     & 1269     & 24       & 265      & 124      & 238      & 1508     &  60      & 4261     & ...      & 1936     &  949     & 3829     & 2962.0   & 3815     & 2892     & 1765     & 1881     & 256.38   & Beta    \\\\\n",
       "\tControl1\\_F2 & 3632     & 2185     & 1105     & 35       & 390      & 113      & 239      & 1262     &  96      & 6279     & ...      & 2224     & 1363     & 1601     & -177.3   & 2545     & 2198     &  826     &  897     & 196.63   & Control \\\\\n",
       "\tControl2\\_F2 & 3864     & 1814     & 1094     & 48       & 690      &  64      & 132      &  888     & 105      & 6338     & ...      & 1585     & 1178     & 3688     & 1542.0   & 3058     & 2535     & 1582     & 1442     & 185.63   & Control \\\\\n",
       "\tControl3\\_F2 & 3737     & 2169     & 1004     & 54       & 634      &  57      & 139      &  700     & 113      & 6491     & ...      & 1656     & 1367     & 2640     & 2191.0   & 3986     & 3318     & 2306     &  123     & 231.25   & Control \\\\\n",
       "\tControl4\\_F2 & 4255     & 1991     &  933     & 49       & 653      &  64      & 116      &  973     & 125      & 6111     & ...      & 1665     & 1345     & 3731     & -174.7   & 3894     & 2916     & 1341     & 2149     & 397.38   & Control \\\\\n",
       "\\end{tabular}\n"
      ],
      "text/markdown": [
       "\n",
       "| <!--/--> | ARPP21 | ATP6AP1L | B3GALT2 | C9orf116 | CALB1 | CCDC80 | CREB3L1 | CTXN3 | DACH1 | GABRA3 | ... | SYNJ2 | VSTM2L | OF_HPA1_T_AUC | OF_HPA1_Net_AUC | OF_HPA2_T_AUC | OF_HPA2_Net_AUC | OFA1_Total | OFA2_Total | Startle | Group | \n",
       "|---|---|---|---|---|---|---|---|\n",
       "| Beta1_F2 | 3505     | 2110     | 2129     | 26       | 272      | 259      | 357      | 2425     |  78      | 6454     | ...      | 3471     | 1025     | 3270     | 1406.0   | 2273     | 1206     | 1621     | 1533     | 200.63   | Beta     | \n",
       "| Beta2_F2 | 3005     | 1667     | 1099     | 37       | 399      |  81      | 175      | 1139     |  97      | 4949     | ...      | 2084     | 1025     | 3691     | 2769.0   | 3221     | 2810     | 1738     | 2297     | 473.63   | Beta     | \n",
       "| Beta3_F2 | 2481     | 1515     | 1662     | 23       | 258      | 203      | 533      | 2305     |  78      | 5799     | ...      | 3877     |  754     | 2499     | 2070.0   | 3643     | 3183     | 1385     | 1541     | 495.75   | Beta     | \n",
       "| Beta4_F2 | 2625     | 1438     | 1269     | 24       | 265      | 124      | 238      | 1508     |  60      | 4261     | ...      | 1936     |  949     | 3829     | 2962.0   | 3815     | 2892     | 1765     | 1881     | 256.38   | Beta     | \n",
       "| Control1_F2 | 3632     | 2185     | 1105     | 35       | 390      | 113      | 239      | 1262     |  96      | 6279     | ...      | 2224     | 1363     | 1601     | -177.3   | 2545     | 2198     |  826     |  897     | 196.63   | Control  | \n",
       "| Control2_F2 | 3864     | 1814     | 1094     | 48       | 690      |  64      | 132      |  888     | 105      | 6338     | ...      | 1585     | 1178     | 3688     | 1542.0   | 3058     | 2535     | 1582     | 1442     | 185.63   | Control  | \n",
       "| Control3_F2 | 3737     | 2169     | 1004     | 54       | 634      |  57      | 139      |  700     | 113      | 6491     | ...      | 1656     | 1367     | 2640     | 2191.0   | 3986     | 3318     | 2306     |  123     | 231.25   | Control  | \n",
       "| Control4_F2 | 4255     | 1991     |  933     | 49       | 653      |  64      | 116      |  973     | 125      | 6111     | ...      | 1665     | 1345     | 3731     | -174.7   | 3894     | 2916     | 1341     | 2149     | 397.38   | Control  | \n",
       "\n",
       "\n"
      ],
      "text/plain": [
       "            ARPP21 ATP6AP1L B3GALT2 C9orf116 CALB1 CCDC80 CREB3L1 CTXN3 DACH1\n",
       "Beta1_F2    3505   2110     2129    26       272   259    357     2425   78  \n",
       "Beta2_F2    3005   1667     1099    37       399    81    175     1139   97  \n",
       "Beta3_F2    2481   1515     1662    23       258   203    533     2305   78  \n",
       "Beta4_F2    2625   1438     1269    24       265   124    238     1508   60  \n",
       "Control1_F2 3632   2185     1105    35       390   113    239     1262   96  \n",
       "Control2_F2 3864   1814     1094    48       690    64    132      888  105  \n",
       "Control3_F2 3737   2169     1004    54       634    57    139      700  113  \n",
       "Control4_F2 4255   1991      933    49       653    64    116      973  125  \n",
       "            GABRA3 ... SYNJ2 VSTM2L OF_HPA1_T_AUC OF_HPA1_Net_AUC OF_HPA2_T_AUC\n",
       "Beta1_F2    6454   ... 3471  1025   3270          1406.0          2273         \n",
       "Beta2_F2    4949   ... 2084  1025   3691          2769.0          3221         \n",
       "Beta3_F2    5799   ... 3877   754   2499          2070.0          3643         \n",
       "Beta4_F2    4261   ... 1936   949   3829          2962.0          3815         \n",
       "Control1_F2 6279   ... 2224  1363   1601          -177.3          2545         \n",
       "Control2_F2 6338   ... 1585  1178   3688          1542.0          3058         \n",
       "Control3_F2 6491   ... 1656  1367   2640          2191.0          3986         \n",
       "Control4_F2 6111   ... 1665  1345   3731          -174.7          3894         \n",
       "            OF_HPA2_Net_AUC OFA1_Total OFA2_Total Startle Group   \n",
       "Beta1_F2    1206            1621       1533       200.63  Beta    \n",
       "Beta2_F2    2810            1738       2297       473.63  Beta    \n",
       "Beta3_F2    3183            1385       1541       495.75  Beta    \n",
       "Beta4_F2    2892            1765       1881       256.38  Beta    \n",
       "Control1_F2 2198             826        897       196.63  Control \n",
       "Control2_F2 2535            1582       1442       185.63  Control \n",
       "Control3_F2 3318            2306        123       231.25  Control \n",
       "Control4_F2 2916            1341       2149       397.38  Control "
      ]
     },
     "metadata": {},
     "output_type": "display_data"
    }
   ],
   "source": [
    "F2 = data[9:16,]\n",
    "F2"
   ]
  },
  {
   "cell_type": "code",
   "execution_count": 391,
   "metadata": {
    "collapsed": false,
    "scrolled": true
   },
   "outputs": [
    {
     "data": {
      "text/plain": [
       "\n",
       "Call:\n",
       "lm(formula = OFA1_Total ~ SYNJ2 + B3GALT2 + GARNL3 + Pdyn, data = F2_orm)\n",
       "\n",
       "Residuals:\n",
       "   Beta1_F2    Beta3_F2 Control1_F2 Control2_F2 Control3_F2 Control4_F2 \n",
       "     -11.58       21.03      -39.86       44.37      -24.90       10.94 \n",
       "\n",
       "Coefficients:\n",
       "             Estimate Std. Error t value Pr(>|t|)  \n",
       "(Intercept) 455.86042  261.96167   1.740   0.3320  \n",
       "SYNJ2         0.30927    0.08858   3.492   0.1776  \n",
       "B3GALT2       2.30450    0.24947   9.238   0.0686 .\n",
       "GARNL3       -2.58977    0.29847  -8.677   0.0730 .\n",
       "Pdyn          1.41002    0.17505   8.055   0.0786 .\n",
       "---\n",
       "Signif. codes:  0 '***' 0.001 '**' 0.01 '*' 0.05 '.' 0.1 ' ' 1\n",
       "\n",
       "Residual standard error: 69.81 on 1 degrees of freedom\n",
       "Multiple R-squared:  0.9958,\tAdjusted R-squared:  0.979 \n",
       "F-statistic: 59.42 on 4 and 1 DF,  p-value: 0.09696\n"
      ]
     },
     "metadata": {},
     "output_type": "display_data"
    }
   ],
   "source": [
    "\n",
    "\n",
    "data_orm <- within(datah, rm(Beta2_F2,Beta4_F2,Control2_F1))\n",
    "#head(data_orm)\n",
    "F2_orm = data_orm[,8:13]\n",
    "F2_orm = as.data.frame(t(F2_orm))\n",
    "\n",
    "\n",
    "model_F2c = lm(OFA1_Total ~ SYNJ2+B3GALT2+GARNL3+Pdyn, data= F2_orm)\n",
    "summary(model_F2c)"
   ]
  },
  {
   "cell_type": "code",
   "execution_count": 377,
   "metadata": {
    "collapsed": false
   },
   "outputs": [
    {
     "data": {
      "text/plain": [
       "\n",
       "Call:\n",
       "lm(formula = OFA1_Total ~ SYNJ2 + B3GALT2 + GARNL3 + Pdyn, data = F3)\n",
       "\n",
       "Residuals:\n",
       "   Beta1_F3    Beta2_F3    Beta3_F3    Beta4_F3 Control1_F3 Control2_F3 \n",
       "     -683.8       257.2       346.3      -371.1       200.3      -567.7 \n",
       "Control3_F3 Control4_F3 \n",
       "      334.1       484.7 \n",
       "\n",
       "Coefficients:\n",
       "             Estimate Std. Error t value Pr(>|t|)\n",
       "(Intercept) 3267.7332  2537.3039   1.288    0.288\n",
       "SYNJ2         -2.4964     1.7203  -1.451    0.243\n",
       "B3GALT2        6.4007     3.1301   2.045    0.133\n",
       "GARNL3        -2.8621     1.9654  -1.456    0.241\n",
       "Pdyn          -0.7689     1.5170  -0.507    0.647\n",
       "\n",
       "Residual standard error: 707.2 on 3 degrees of freedom\n",
       "Multiple R-squared:  0.6127,\tAdjusted R-squared:  0.09624 \n",
       "F-statistic: 1.186 on 4 and 3 DF,  p-value: 0.4626\n"
      ]
     },
     "metadata": {},
     "output_type": "display_data"
    }
   ],
   "source": [
    "model_F3 = lm(OFA1_Total ~ SYNJ2+B3GALT2+GARNL3+Pdyn, data= F3)\n",
    "summary(model_F3)"
   ]
  },
  {
   "cell_type": "code",
   "execution_count": 394,
   "metadata": {
    "collapsed": false
   },
   "outputs": [
    {
     "data": {
      "text/html": [
       "<table>\n",
       "<thead><tr><th></th><th scope=col>ARPP21</th><th scope=col>ATP6AP1L</th><th scope=col>B3GALT2</th><th scope=col>C9orf116</th><th scope=col>CALB1</th><th scope=col>CCDC80</th><th scope=col>CREB3L1</th><th scope=col>CTXN3</th><th scope=col>DACH1</th><th scope=col>GABRA3</th><th scope=col>...</th><th scope=col>SPON1</th><th scope=col>SYNJ2</th><th scope=col>VSTM2L</th><th scope=col>OF_HPA1_T_AUC</th><th scope=col>OF_HPA1_Net_AUC</th><th scope=col>OF_HPA2_T_AUC</th><th scope=col>OF_HPA2_Net_AUC</th><th scope=col>OFA1_Total</th><th scope=col>OFA2_Total</th><th scope=col>Startle</th></tr></thead>\n",
       "<tbody>\n",
       "\t<tr><th scope=row>Beta1_F1</th><td>3430  </td><td>1607  </td><td>2086  </td><td>30    </td><td> 497  </td><td>260   </td><td>482   </td><td>2023  </td><td>133   </td><td>6661  </td><td>...   </td><td>5017  </td><td>2651  </td><td>1275  </td><td>1695  </td><td>1338.0</td><td>2269  </td><td>1993.0</td><td>2631  </td><td> 263  </td><td>492.43</td></tr>\n",
       "\t<tr><th scope=row>Beta2_F1</th><td>3193  </td><td>1683  </td><td>1751  </td><td>32    </td><td> 489  </td><td>136   </td><td>386   </td><td>1789  </td><td> 73   </td><td>6050  </td><td>...   </td><td>5320  </td><td>3080  </td><td> 800  </td><td>2901  </td><td>1768.0</td><td>2336  </td><td>1536.0</td><td>1417  </td><td>  43  </td><td>712.38</td></tr>\n",
       "\t<tr><th scope=row>Beta3_F1</th><td>4427  </td><td>2056  </td><td>1261  </td><td>14    </td><td> 364  </td><td>125   </td><td>346   </td><td>1289  </td><td>119   </td><td>4921  </td><td>...   </td><td>3018  </td><td>2570  </td><td>1412  </td><td>1436  </td><td> 588.8</td><td>2045  </td><td>1868.0</td><td> 344  </td><td> 956  </td><td>360.00</td></tr>\n",
       "\t<tr><th scope=row>Beta4_F1</th><td>3836  </td><td>2555  </td><td>1753  </td><td>30    </td><td> 520  </td><td>247   </td><td>482   </td><td>2737  </td><td>129   </td><td>5432  </td><td>...   </td><td>3635  </td><td>3420  </td><td> 803  </td><td>2327  </td><td> 570.6</td><td>2821  </td><td>1808.0</td><td> 551  </td><td>2203  </td><td>148.38</td></tr>\n",
       "\t<tr><th scope=row>Control1_F1</th><td>9818  </td><td>1733  </td><td> 935  </td><td>95    </td><td>2647  </td><td>120   </td><td>381   </td><td>1277  </td><td>393   </td><td>4692  </td><td>...   </td><td>3440  </td><td>2713  </td><td>2490  </td><td>1729  </td><td>1334.0</td><td>2701  </td><td> -12.3</td><td> 444  </td><td> 780  </td><td>141.50</td></tr>\n",
       "\t<tr><th scope=row>Control3_F1</th><td>5880  </td><td> 764  </td><td> 848  </td><td>54    </td><td>1008  </td><td> 70   </td><td>209   </td><td> 610  </td><td>190   </td><td>3529  </td><td>...   </td><td>2659  </td><td>1419  </td><td>1677  </td><td>1062  </td><td> 124.8</td><td>1345  </td><td>1092.0</td><td>  39  </td><td> 462  </td><td>242.75</td></tr>\n",
       "\t<tr><th scope=row>Control4_F1</th><td>8455  </td><td> 944  </td><td> 783  </td><td>86    </td><td>1868  </td><td> 82   </td><td>195   </td><td> 625  </td><td>317   </td><td>3614  </td><td>...   </td><td>2326  </td><td>1431  </td><td>1801  </td><td>1037  </td><td>-154.2</td><td>1194  </td><td>-371.1</td><td> 695  </td><td>  67  </td><td>330.25</td></tr>\n",
       "</tbody>\n",
       "</table>\n"
      ],
      "text/latex": [
       "\\begin{tabular}{r|lllllllllllllllllllllllllllll}\n",
       "  & ARPP21 & ATP6AP1L & B3GALT2 & C9orf116 & CALB1 & CCDC80 & CREB3L1 & CTXN3 & DACH1 & GABRA3 & ... & SPON1 & SYNJ2 & VSTM2L & OF\\_HPA1\\_T\\_AUC & OF\\_HPA1\\_Net\\_AUC & OF\\_HPA2\\_T\\_AUC & OF\\_HPA2\\_Net\\_AUC & OFA1\\_Total & OFA2\\_Total & Startle\\\\\n",
       "\\hline\n",
       "\tBeta1\\_F1 & 3430   & 1607   & 2086   & 30     &  497   & 260    & 482    & 2023   & 133    & 6661   & ...    & 5017   & 2651   & 1275   & 1695   & 1338.0 & 2269   & 1993.0 & 2631   &  263   & 492.43\\\\\n",
       "\tBeta2\\_F1 & 3193   & 1683   & 1751   & 32     &  489   & 136    & 386    & 1789   &  73    & 6050   & ...    & 5320   & 3080   &  800   & 2901   & 1768.0 & 2336   & 1536.0 & 1417   &   43   & 712.38\\\\\n",
       "\tBeta3\\_F1 & 4427   & 2056   & 1261   & 14     &  364   & 125    & 346    & 1289   & 119    & 4921   & ...    & 3018   & 2570   & 1412   & 1436   &  588.8 & 2045   & 1868.0 &  344   &  956   & 360.00\\\\\n",
       "\tBeta4\\_F1 & 3836   & 2555   & 1753   & 30     &  520   & 247    & 482    & 2737   & 129    & 5432   & ...    & 3635   & 3420   &  803   & 2327   &  570.6 & 2821   & 1808.0 &  551   & 2203   & 148.38\\\\\n",
       "\tControl1\\_F1 & 9818   & 1733   &  935   & 95     & 2647   & 120    & 381    & 1277   & 393    & 4692   & ...    & 3440   & 2713   & 2490   & 1729   & 1334.0 & 2701   &  -12.3 &  444   &  780   & 141.50\\\\\n",
       "\tControl3\\_F1 & 5880   &  764   &  848   & 54     & 1008   &  70    & 209    &  610   & 190    & 3529   & ...    & 2659   & 1419   & 1677   & 1062   &  124.8 & 1345   & 1092.0 &   39   &  462   & 242.75\\\\\n",
       "\tControl4\\_F1 & 8455   &  944   &  783   & 86     & 1868   &  82    & 195    &  625   & 317    & 3614   & ...    & 2326   & 1431   & 1801   & 1037   & -154.2 & 1194   & -371.1 &  695   &   67   & 330.25\\\\\n",
       "\\end{tabular}\n"
      ],
      "text/markdown": [
       "\n",
       "| <!--/--> | ARPP21 | ATP6AP1L | B3GALT2 | C9orf116 | CALB1 | CCDC80 | CREB3L1 | CTXN3 | DACH1 | GABRA3 | ... | SPON1 | SYNJ2 | VSTM2L | OF_HPA1_T_AUC | OF_HPA1_Net_AUC | OF_HPA2_T_AUC | OF_HPA2_Net_AUC | OFA1_Total | OFA2_Total | Startle | \n",
       "|---|---|---|---|---|---|---|\n",
       "| Beta1_F1 | 3430   | 1607   | 2086   | 30     |  497   | 260    | 482    | 2023   | 133    | 6661   | ...    | 5017   | 2651   | 1275   | 1695   | 1338.0 | 2269   | 1993.0 | 2631   |  263   | 492.43 | \n",
       "| Beta2_F1 | 3193   | 1683   | 1751   | 32     |  489   | 136    | 386    | 1789   |  73    | 6050   | ...    | 5320   | 3080   |  800   | 2901   | 1768.0 | 2336   | 1536.0 | 1417   |   43   | 712.38 | \n",
       "| Beta3_F1 | 4427   | 2056   | 1261   | 14     |  364   | 125    | 346    | 1289   | 119    | 4921   | ...    | 3018   | 2570   | 1412   | 1436   |  588.8 | 2045   | 1868.0 |  344   |  956   | 360.00 | \n",
       "| Beta4_F1 | 3836   | 2555   | 1753   | 30     |  520   | 247    | 482    | 2737   | 129    | 5432   | ...    | 3635   | 3420   |  803   | 2327   |  570.6 | 2821   | 1808.0 |  551   | 2203   | 148.38 | \n",
       "| Control1_F1 | 9818   | 1733   |  935   | 95     | 2647   | 120    | 381    | 1277   | 393    | 4692   | ...    | 3440   | 2713   | 2490   | 1729   | 1334.0 | 2701   |  -12.3 |  444   |  780   | 141.50 | \n",
       "| Control3_F1 | 5880   |  764   |  848   | 54     | 1008   |  70    | 209    |  610   | 190    | 3529   | ...    | 2659   | 1419   | 1677   | 1062   |  124.8 | 1345   | 1092.0 |   39   |  462   | 242.75 | \n",
       "| Control4_F1 | 8455   |  944   |  783   | 86     | 1868   |  82    | 195    |  625   | 317    | 3614   | ...    | 2326   | 1431   | 1801   | 1037   | -154.2 | 1194   | -371.1 |  695   |   67   | 330.25 | \n",
       "\n",
       "\n"
      ],
      "text/plain": [
       "            ARPP21 ATP6AP1L B3GALT2 C9orf116 CALB1 CCDC80 CREB3L1 CTXN3 DACH1\n",
       "Beta1_F1    3430   1607     2086    30        497  260    482     2023  133  \n",
       "Beta2_F1    3193   1683     1751    32        489  136    386     1789   73  \n",
       "Beta3_F1    4427   2056     1261    14        364  125    346     1289  119  \n",
       "Beta4_F1    3836   2555     1753    30        520  247    482     2737  129  \n",
       "Control1_F1 9818   1733      935    95       2647  120    381     1277  393  \n",
       "Control3_F1 5880    764      848    54       1008   70    209      610  190  \n",
       "Control4_F1 8455    944      783    86       1868   82    195      625  317  \n",
       "            GABRA3 ... SPON1 SYNJ2 VSTM2L OF_HPA1_T_AUC OF_HPA1_Net_AUC\n",
       "Beta1_F1    6661   ... 5017  2651  1275   1695          1338.0         \n",
       "Beta2_F1    6050   ... 5320  3080   800   2901          1768.0         \n",
       "Beta3_F1    4921   ... 3018  2570  1412   1436           588.8         \n",
       "Beta4_F1    5432   ... 3635  3420   803   2327           570.6         \n",
       "Control1_F1 4692   ... 3440  2713  2490   1729          1334.0         \n",
       "Control3_F1 3529   ... 2659  1419  1677   1062           124.8         \n",
       "Control4_F1 3614   ... 2326  1431  1801   1037          -154.2         \n",
       "            OF_HPA2_T_AUC OF_HPA2_Net_AUC OFA1_Total OFA2_Total Startle\n",
       "Beta1_F1    2269          1993.0          2631        263       492.43 \n",
       "Beta2_F1    2336          1536.0          1417         43       712.38 \n",
       "Beta3_F1    2045          1868.0           344        956       360.00 \n",
       "Beta4_F1    2821          1808.0           551       2203       148.38 \n",
       "Control1_F1 2701           -12.3           444        780       141.50 \n",
       "Control3_F1 1345          1092.0            39        462       242.75 \n",
       "Control4_F1 1194          -371.1           695         67       330.25 "
      ]
     },
     "metadata": {},
     "output_type": "display_data"
    },
    {
     "data": {
      "text/plain": [
       "\n",
       "Call:\n",
       "lm(formula = OFA1_Total ~ SYNJ2 + B3GALT2 + GARNL3 + Pdyn, data = F1_orm)\n",
       "\n",
       "Residuals:\n",
       "   Beta1_F1    Beta2_F1    Beta3_F1    Beta4_F1 Control1_F1 Control3_F1 \n",
       "      43.98      228.94      267.89     -409.28       57.96     -288.75 \n",
       "Control4_F1 \n",
       "      99.27 \n",
       "\n",
       "Coefficients:\n",
       "              Estimate Std. Error t value Pr(>|t|)\n",
       "(Intercept) -1295.2121  1343.1192  -0.964    0.437\n",
       "SYNJ2          -0.8539     0.8152  -1.048    0.405\n",
       "B3GALT2         3.2144     1.3339   2.410    0.138\n",
       "GARNL3         -0.4649     3.0014  -0.155    0.891\n",
       "Pdyn            0.8785     0.5333   1.647    0.241\n",
       "\n",
       "Residual standard error: 441.7 on 2 degrees of freedom\n",
       "Multiple R-squared:  0.9166,\tAdjusted R-squared:  0.7499 \n",
       "F-statistic: 5.498 on 4 and 2 DF,  p-value: 0.1598\n"
      ]
     },
     "metadata": {},
     "output_type": "display_data"
    }
   ],
   "source": [
    "F1_orm = data_orm[,1:7]\n",
    "F1_orm = as.data.frame(t(F1_orm))\n",
    "\n",
    "F1_orm\n",
    "\n",
    "model_F1c = lm(OFA1_Total ~ SYNJ2+B3GALT2+GARNL3+Pdyn, data= F1_orm)\n",
    "summary(model_F1c)"
   ]
  },
  {
   "cell_type": "code",
   "execution_count": null,
   "metadata": {
    "collapsed": true
   },
   "outputs": [],
   "source": []
  },
  {
   "cell_type": "code",
   "execution_count": null,
   "metadata": {
    "collapsed": true
   },
   "outputs": [],
   "source": []
  },
  {
   "cell_type": "code",
   "execution_count": null,
   "metadata": {
    "collapsed": true
   },
   "outputs": [],
   "source": []
  },
  {
   "cell_type": "code",
   "execution_count": null,
   "metadata": {
    "collapsed": true
   },
   "outputs": [],
   "source": []
  },
  {
   "cell_type": "code",
   "execution_count": null,
   "metadata": {
    "collapsed": true
   },
   "outputs": [],
   "source": []
  },
  {
   "cell_type": "code",
   "execution_count": 107,
   "metadata": {
    "collapsed": false
   },
   "outputs": [
    {
     "data": {
      "text/html": [
       "TRUE"
      ],
      "text/latex": [
       "TRUE"
      ],
      "text/markdown": [
       "TRUE"
      ],
      "text/plain": [
       "[1] TRUE"
      ]
     },
     "metadata": {},
     "output_type": "display_data"
    }
   ],
   "source": [
    "is.data.frame(F1F3t)"
   ]
  },
  {
   "cell_type": "code",
   "execution_count": 108,
   "metadata": {
    "collapsed": false
   },
   "outputs": [
    {
     "data": {
      "text/html": [
       "<table>\n",
       "<thead><tr><th></th><th scope=col>ARPP21</th><th scope=col>ATP6AP1L</th><th scope=col>B3GALT2</th><th scope=col>C9orf116</th><th scope=col>CALB1</th><th scope=col>CCDC80</th><th scope=col>CREB3L1</th><th scope=col>CTXN3</th><th scope=col>DACH1</th><th scope=col>GABRA3</th><th scope=col>...</th><th scope=col>SPON1</th><th scope=col>SYNJ2</th><th scope=col>VSTM2L</th><th scope=col>OF_HPA1_T_AUC</th><th scope=col>OF_HPA1_Net_AUC</th><th scope=col>OF_HPA2_T_AUC</th><th scope=col>OF_HPA2_Net_AUC</th><th scope=col>OFA1_Total</th><th scope=col>OFA2_Total</th><th scope=col>Startle</th></tr></thead>\n",
       "<tbody>\n",
       "\t<tr><th scope=row>Beta1_F1</th><td>3430    </td><td>1607    </td><td>2086    </td><td>30      </td><td> 497    </td><td>260     </td><td>482     </td><td>2023    </td><td>133     </td><td>6661    </td><td>...     </td><td>5017    </td><td>2651    </td><td>1275    </td><td>1695    </td><td> 1338.00</td><td>2269.0  </td><td>1993.0  </td><td>2631.0  </td><td> 263.0  </td><td>492.43  </td></tr>\n",
       "\t<tr><th scope=row>Beta2_F1</th><td>3193    </td><td>1683    </td><td>1751    </td><td>32      </td><td> 489    </td><td>136     </td><td>386     </td><td>1789    </td><td> 73     </td><td>6050    </td><td>...     </td><td>5320    </td><td>3080    </td><td> 800    </td><td>2901    </td><td> 1768.00</td><td>2336.0  </td><td>1536.0  </td><td>1417.0  </td><td>  43.0  </td><td>712.38  </td></tr>\n",
       "\t<tr><th scope=row>Beta3_F1</th><td>4427    </td><td>2056    </td><td>1261    </td><td>14      </td><td> 364    </td><td>125     </td><td>346     </td><td>1289    </td><td>119     </td><td>4921    </td><td>...     </td><td>3018    </td><td>2570    </td><td>1412    </td><td>1436    </td><td>  588.80</td><td>2045.0  </td><td>1868.0  </td><td> 344.0  </td><td> 956.0  </td><td>360.00  </td></tr>\n",
       "\t<tr><th scope=row>Beta4_F1</th><td>3836    </td><td>2555    </td><td>1753    </td><td>30      </td><td> 520    </td><td>247     </td><td>482     </td><td>2737    </td><td>129     </td><td>5432    </td><td>...     </td><td>3635    </td><td>3420    </td><td> 803    </td><td>2327    </td><td>  570.60</td><td>2821.0  </td><td>1808.0  </td><td> 551.0  </td><td>2203.0  </td><td>148.38  </td></tr>\n",
       "\t<tr><th scope=row>Control1_F1</th><td>9818    </td><td>1733    </td><td> 935    </td><td>95      </td><td>2647    </td><td>120     </td><td>381     </td><td>1277    </td><td>393     </td><td>4692    </td><td>...     </td><td>3440    </td><td>2713    </td><td>2490    </td><td>1729    </td><td> 1334.00</td><td>2701.0  </td><td> -12.3  </td><td> 444.0  </td><td> 780.0  </td><td>141.50  </td></tr>\n",
       "\t<tr><th scope=row>Control3_F1</th><td>5880    </td><td> 764    </td><td> 848    </td><td>54      </td><td>1008    </td><td> 70     </td><td>209     </td><td> 610    </td><td>190     </td><td>3529    </td><td>...     </td><td>2659    </td><td>1419    </td><td>1677    </td><td>1062    </td><td>  124.80</td><td>1345.0  </td><td>1092.0  </td><td>  39.0  </td><td> 462.0  </td><td>242.75  </td></tr>\n",
       "\t<tr><th scope=row>Control4_F1</th><td>8455    </td><td> 944    </td><td> 783    </td><td>86      </td><td>1868    </td><td> 82     </td><td>195     </td><td> 625    </td><td>317     </td><td>3614    </td><td>...     </td><td>2326    </td><td>1431    </td><td>1801    </td><td>1037    </td><td> -154.20</td><td>1194.0  </td><td>-371.1  </td><td> 695.0  </td><td>  67.0  </td><td>330.25  </td></tr>\n",
       "\t<tr><th scope=row>Beta1_F3</th><td>3714    </td><td>2077    </td><td>1706    </td><td>48      </td><td> 322    </td><td>160     </td><td>169     </td><td>2408    </td><td> 74     </td><td>4620    </td><td>...     </td><td>5300    </td><td>3207    </td><td> 722    </td><td>3073    </td><td> 2234.00</td><td>3202.0  </td><td>1462.0  </td><td>  14.0  </td><td>  46.0  </td><td>182.50  </td></tr>\n",
       "\t<tr><th scope=row>Beta2_F3</th><td>4842    </td><td>1961    </td><td>2071    </td><td>31      </td><td> 485    </td><td>219     </td><td>241     </td><td>2877    </td><td> 98     </td><td>4630    </td><td>...     </td><td>5048    </td><td>4017    </td><td> 782    </td><td>1872    </td><td>  988.25</td><td>1982.5  </td><td>1612.0  </td><td> 839.5  </td><td> 511.5  </td><td>287.13  </td></tr>\n",
       "\t<tr><th scope=row>Beta3_F3</th><td>2968    </td><td>2090    </td><td>1788    </td><td>26      </td><td> 321    </td><td>164     </td><td>109     </td><td>2645    </td><td> 50     </td><td>4083    </td><td>...     </td><td>4624    </td><td>3097    </td><td> 521    </td><td>2108    </td><td>  410.70</td><td>2955.0  </td><td>2347.0  </td><td>2222.0  </td><td>3507.0  </td><td>305.00  </td></tr>\n",
       "\t<tr><th scope=row>Beta4_F3</th><td>3752    </td><td>1422    </td><td>1718    </td><td>25      </td><td> 280    </td><td>149     </td><td>129     </td><td>2340    </td><td> 67     </td><td>2857    </td><td>...     </td><td>4192    </td><td>3463    </td><td> 546    </td><td>1288    </td><td>  540.20</td><td>2257.0  </td><td>1099.0  </td><td> 718.0  </td><td>  28.0  </td><td>686.38  </td></tr>\n",
       "\t<tr><th scope=row>Control1_F3</th><td>4125    </td><td>1398    </td><td>1408    </td><td>71      </td><td> 432    </td><td>167     </td><td>103     </td><td>2060    </td><td>106     </td><td>3541    </td><td>...     </td><td>4669    </td><td>2892    </td><td> 774    </td><td>1408    </td><td>-1564.00</td><td>3293.0  </td><td>2357.0  </td><td>  34.0  </td><td>1638.0  </td><td>422.38  </td></tr>\n",
       "\t<tr><th scope=row>Control2_F3</th><td>8464    </td><td>1265    </td><td> 773    </td><td>67      </td><td>1503    </td><td> 77     </td><td> 62     </td><td> 720    </td><td> 94     </td><td>2522    </td><td>...     </td><td>2546    </td><td>1796    </td><td>1475    </td><td>2079    </td><td> 1018.00</td><td>3254.0  </td><td>2652.0  </td><td>  39.0  </td><td>  33.0  </td><td>294.75  </td></tr>\n",
       "\t<tr><th scope=row>Control3_F3</th><td>8318    </td><td>1532    </td><td>1293    </td><td>43      </td><td>1429    </td><td>100     </td><td> 57     </td><td>1661    </td><td>144     </td><td>2600    </td><td>...     </td><td>3428    </td><td>2646    </td><td>1090    </td><td>2087    </td><td> 1185.00</td><td>1614.0  </td><td> 932.3  </td><td>1086.0  </td><td> 242.0  </td><td>247.75  </td></tr>\n",
       "\t<tr><th scope=row>Control4_F3</th><td>6903    </td><td>1050    </td><td> 778    </td><td>83      </td><td> 879    </td><td> 90     </td><td> 81     </td><td> 743    </td><td> 92     </td><td>2499    </td><td>...     </td><td>2786    </td><td>1916    </td><td>1310    </td><td>3124    </td><td>  826.20</td><td>4154.0  </td><td>2156.0  </td><td> 915.0  </td><td> 319.0  </td><td>603.00  </td></tr>\n",
       "</tbody>\n",
       "</table>\n"
      ],
      "text/latex": [
       "\\begin{tabular}{r|lllllllllllllllllllllllllllll}\n",
       "  & ARPP21 & ATP6AP1L & B3GALT2 & C9orf116 & CALB1 & CCDC80 & CREB3L1 & CTXN3 & DACH1 & GABRA3 & ... & SPON1 & SYNJ2 & VSTM2L & OF\\_HPA1\\_T\\_AUC & OF\\_HPA1\\_Net\\_AUC & OF\\_HPA2\\_T\\_AUC & OF\\_HPA2\\_Net\\_AUC & OFA1\\_Total & OFA2\\_Total & Startle\\\\\n",
       "\\hline\n",
       "\tBeta1\\_F1 & 3430     & 1607     & 2086     & 30       &  497     & 260      & 482      & 2023     & 133      & 6661     & ...      & 5017     & 2651     & 1275     & 1695     &  1338.00 & 2269.0   & 1993.0   & 2631.0   &  263.0   & 492.43  \\\\\n",
       "\tBeta2\\_F1 & 3193     & 1683     & 1751     & 32       &  489     & 136      & 386      & 1789     &  73      & 6050     & ...      & 5320     & 3080     &  800     & 2901     &  1768.00 & 2336.0   & 1536.0   & 1417.0   &   43.0   & 712.38  \\\\\n",
       "\tBeta3\\_F1 & 4427     & 2056     & 1261     & 14       &  364     & 125      & 346      & 1289     & 119      & 4921     & ...      & 3018     & 2570     & 1412     & 1436     &   588.80 & 2045.0   & 1868.0   &  344.0   &  956.0   & 360.00  \\\\\n",
       "\tBeta4\\_F1 & 3836     & 2555     & 1753     & 30       &  520     & 247      & 482      & 2737     & 129      & 5432     & ...      & 3635     & 3420     &  803     & 2327     &   570.60 & 2821.0   & 1808.0   &  551.0   & 2203.0   & 148.38  \\\\\n",
       "\tControl1\\_F1 & 9818     & 1733     &  935     & 95       & 2647     & 120      & 381      & 1277     & 393      & 4692     & ...      & 3440     & 2713     & 2490     & 1729     &  1334.00 & 2701.0   &  -12.3   &  444.0   &  780.0   & 141.50  \\\\\n",
       "\tControl3\\_F1 & 5880     &  764     &  848     & 54       & 1008     &  70      & 209      &  610     & 190      & 3529     & ...      & 2659     & 1419     & 1677     & 1062     &   124.80 & 1345.0   & 1092.0   &   39.0   &  462.0   & 242.75  \\\\\n",
       "\tControl4\\_F1 & 8455     &  944     &  783     & 86       & 1868     &  82      & 195      &  625     & 317      & 3614     & ...      & 2326     & 1431     & 1801     & 1037     &  -154.20 & 1194.0   & -371.1   &  695.0   &   67.0   & 330.25  \\\\\n",
       "\tBeta1\\_F3 & 3714     & 2077     & 1706     & 48       &  322     & 160      & 169      & 2408     &  74      & 4620     & ...      & 5300     & 3207     &  722     & 3073     &  2234.00 & 3202.0   & 1462.0   &   14.0   &   46.0   & 182.50  \\\\\n",
       "\tBeta2\\_F3 & 4842     & 1961     & 2071     & 31       &  485     & 219      & 241      & 2877     &  98      & 4630     & ...      & 5048     & 4017     &  782     & 1872     &   988.25 & 1982.5   & 1612.0   &  839.5   &  511.5   & 287.13  \\\\\n",
       "\tBeta3\\_F3 & 2968     & 2090     & 1788     & 26       &  321     & 164      & 109      & 2645     &  50      & 4083     & ...      & 4624     & 3097     &  521     & 2108     &   410.70 & 2955.0   & 2347.0   & 2222.0   & 3507.0   & 305.00  \\\\\n",
       "\tBeta4\\_F3 & 3752     & 1422     & 1718     & 25       &  280     & 149      & 129      & 2340     &  67      & 2857     & ...      & 4192     & 3463     &  546     & 1288     &   540.20 & 2257.0   & 1099.0   &  718.0   &   28.0   & 686.38  \\\\\n",
       "\tControl1\\_F3 & 4125     & 1398     & 1408     & 71       &  432     & 167      & 103      & 2060     & 106      & 3541     & ...      & 4669     & 2892     &  774     & 1408     & -1564.00 & 3293.0   & 2357.0   &   34.0   & 1638.0   & 422.38  \\\\\n",
       "\tControl2\\_F3 & 8464     & 1265     &  773     & 67       & 1503     &  77      &  62      &  720     &  94      & 2522     & ...      & 2546     & 1796     & 1475     & 2079     &  1018.00 & 3254.0   & 2652.0   &   39.0   &   33.0   & 294.75  \\\\\n",
       "\tControl3\\_F3 & 8318     & 1532     & 1293     & 43       & 1429     & 100      &  57      & 1661     & 144      & 2600     & ...      & 3428     & 2646     & 1090     & 2087     &  1185.00 & 1614.0   &  932.3   & 1086.0   &  242.0   & 247.75  \\\\\n",
       "\tControl4\\_F3 & 6903     & 1050     &  778     & 83       &  879     &  90      &  81      &  743     &  92      & 2499     & ...      & 2786     & 1916     & 1310     & 3124     &   826.20 & 4154.0   & 2156.0   &  915.0   &  319.0   & 603.00  \\\\\n",
       "\\end{tabular}\n"
      ],
      "text/markdown": [
       "\n",
       "| <!--/--> | ARPP21 | ATP6AP1L | B3GALT2 | C9orf116 | CALB1 | CCDC80 | CREB3L1 | CTXN3 | DACH1 | GABRA3 | ... | SPON1 | SYNJ2 | VSTM2L | OF_HPA1_T_AUC | OF_HPA1_Net_AUC | OF_HPA2_T_AUC | OF_HPA2_Net_AUC | OFA1_Total | OFA2_Total | Startle | \n",
       "|---|---|---|---|---|---|---|---|---|---|---|---|---|---|---|\n",
       "| Beta1_F1 | 3430     | 1607     | 2086     | 30       |  497     | 260      | 482      | 2023     | 133      | 6661     | ...      | 5017     | 2651     | 1275     | 1695     |  1338.00 | 2269.0   | 1993.0   | 2631.0   |  263.0   | 492.43   | \n",
       "| Beta2_F1 | 3193     | 1683     | 1751     | 32       |  489     | 136      | 386      | 1789     |  73      | 6050     | ...      | 5320     | 3080     |  800     | 2901     |  1768.00 | 2336.0   | 1536.0   | 1417.0   |   43.0   | 712.38   | \n",
       "| Beta3_F1 | 4427     | 2056     | 1261     | 14       |  364     | 125      | 346      | 1289     | 119      | 4921     | ...      | 3018     | 2570     | 1412     | 1436     |   588.80 | 2045.0   | 1868.0   |  344.0   |  956.0   | 360.00   | \n",
       "| Beta4_F1 | 3836     | 2555     | 1753     | 30       |  520     | 247      | 482      | 2737     | 129      | 5432     | ...      | 3635     | 3420     |  803     | 2327     |   570.60 | 2821.0   | 1808.0   |  551.0   | 2203.0   | 148.38   | \n",
       "| Control1_F1 | 9818     | 1733     |  935     | 95       | 2647     | 120      | 381      | 1277     | 393      | 4692     | ...      | 3440     | 2713     | 2490     | 1729     |  1334.00 | 2701.0   |  -12.3   |  444.0   |  780.0   | 141.50   | \n",
       "| Control3_F1 | 5880     |  764     |  848     | 54       | 1008     |  70      | 209      |  610     | 190      | 3529     | ...      | 2659     | 1419     | 1677     | 1062     |   124.80 | 1345.0   | 1092.0   |   39.0   |  462.0   | 242.75   | \n",
       "| Control4_F1 | 8455     |  944     |  783     | 86       | 1868     |  82      | 195      |  625     | 317      | 3614     | ...      | 2326     | 1431     | 1801     | 1037     |  -154.20 | 1194.0   | -371.1   |  695.0   |   67.0   | 330.25   | \n",
       "| Beta1_F3 | 3714     | 2077     | 1706     | 48       |  322     | 160      | 169      | 2408     |  74      | 4620     | ...      | 5300     | 3207     |  722     | 3073     |  2234.00 | 3202.0   | 1462.0   |   14.0   |   46.0   | 182.50   | \n",
       "| Beta2_F3 | 4842     | 1961     | 2071     | 31       |  485     | 219      | 241      | 2877     |  98      | 4630     | ...      | 5048     | 4017     |  782     | 1872     |   988.25 | 1982.5   | 1612.0   |  839.5   |  511.5   | 287.13   | \n",
       "| Beta3_F3 | 2968     | 2090     | 1788     | 26       |  321     | 164      | 109      | 2645     |  50      | 4083     | ...      | 4624     | 3097     |  521     | 2108     |   410.70 | 2955.0   | 2347.0   | 2222.0   | 3507.0   | 305.00   | \n",
       "| Beta4_F3 | 3752     | 1422     | 1718     | 25       |  280     | 149      | 129      | 2340     |  67      | 2857     | ...      | 4192     | 3463     |  546     | 1288     |   540.20 | 2257.0   | 1099.0   |  718.0   |   28.0   | 686.38   | \n",
       "| Control1_F3 | 4125     | 1398     | 1408     | 71       |  432     | 167      | 103      | 2060     | 106      | 3541     | ...      | 4669     | 2892     |  774     | 1408     | -1564.00 | 3293.0   | 2357.0   |   34.0   | 1638.0   | 422.38   | \n",
       "| Control2_F3 | 8464     | 1265     |  773     | 67       | 1503     |  77      |  62      |  720     |  94      | 2522     | ...      | 2546     | 1796     | 1475     | 2079     |  1018.00 | 3254.0   | 2652.0   |   39.0   |   33.0   | 294.75   | \n",
       "| Control3_F3 | 8318     | 1532     | 1293     | 43       | 1429     | 100      |  57      | 1661     | 144      | 2600     | ...      | 3428     | 2646     | 1090     | 2087     |  1185.00 | 1614.0   |  932.3   | 1086.0   |  242.0   | 247.75   | \n",
       "| Control4_F3 | 6903     | 1050     |  778     | 83       |  879     |  90      |  81      |  743     |  92      | 2499     | ...      | 2786     | 1916     | 1310     | 3124     |   826.20 | 4154.0   | 2156.0   |  915.0   |  319.0   | 603.00   | \n",
       "\n",
       "\n"
      ],
      "text/plain": [
       "            ARPP21 ATP6AP1L B3GALT2 C9orf116 CALB1 CCDC80 CREB3L1 CTXN3 DACH1\n",
       "Beta1_F1    3430   1607     2086    30        497  260    482     2023  133  \n",
       "Beta2_F1    3193   1683     1751    32        489  136    386     1789   73  \n",
       "Beta3_F1    4427   2056     1261    14        364  125    346     1289  119  \n",
       "Beta4_F1    3836   2555     1753    30        520  247    482     2737  129  \n",
       "Control1_F1 9818   1733      935    95       2647  120    381     1277  393  \n",
       "Control3_F1 5880    764      848    54       1008   70    209      610  190  \n",
       "Control4_F1 8455    944      783    86       1868   82    195      625  317  \n",
       "Beta1_F3    3714   2077     1706    48        322  160    169     2408   74  \n",
       "Beta2_F3    4842   1961     2071    31        485  219    241     2877   98  \n",
       "Beta3_F3    2968   2090     1788    26        321  164    109     2645   50  \n",
       "Beta4_F3    3752   1422     1718    25        280  149    129     2340   67  \n",
       "Control1_F3 4125   1398     1408    71        432  167    103     2060  106  \n",
       "Control2_F3 8464   1265      773    67       1503   77     62      720   94  \n",
       "Control3_F3 8318   1532     1293    43       1429  100     57     1661  144  \n",
       "Control4_F3 6903   1050      778    83        879   90     81      743   92  \n",
       "            GABRA3 ... SPON1 SYNJ2 VSTM2L OF_HPA1_T_AUC OF_HPA1_Net_AUC\n",
       "Beta1_F1    6661   ... 5017  2651  1275   1695           1338.00       \n",
       "Beta2_F1    6050   ... 5320  3080   800   2901           1768.00       \n",
       "Beta3_F1    4921   ... 3018  2570  1412   1436            588.80       \n",
       "Beta4_F1    5432   ... 3635  3420   803   2327            570.60       \n",
       "Control1_F1 4692   ... 3440  2713  2490   1729           1334.00       \n",
       "Control3_F1 3529   ... 2659  1419  1677   1062            124.80       \n",
       "Control4_F1 3614   ... 2326  1431  1801   1037           -154.20       \n",
       "Beta1_F3    4620   ... 5300  3207   722   3073           2234.00       \n",
       "Beta2_F3    4630   ... 5048  4017   782   1872            988.25       \n",
       "Beta3_F3    4083   ... 4624  3097   521   2108            410.70       \n",
       "Beta4_F3    2857   ... 4192  3463   546   1288            540.20       \n",
       "Control1_F3 3541   ... 4669  2892   774   1408          -1564.00       \n",
       "Control2_F3 2522   ... 2546  1796  1475   2079           1018.00       \n",
       "Control3_F3 2600   ... 3428  2646  1090   2087           1185.00       \n",
       "Control4_F3 2499   ... 2786  1916  1310   3124            826.20       \n",
       "            OF_HPA2_T_AUC OF_HPA2_Net_AUC OFA1_Total OFA2_Total Startle\n",
       "Beta1_F1    2269.0        1993.0          2631.0      263.0     492.43 \n",
       "Beta2_F1    2336.0        1536.0          1417.0       43.0     712.38 \n",
       "Beta3_F1    2045.0        1868.0           344.0      956.0     360.00 \n",
       "Beta4_F1    2821.0        1808.0           551.0     2203.0     148.38 \n",
       "Control1_F1 2701.0         -12.3           444.0      780.0     141.50 \n",
       "Control3_F1 1345.0        1092.0            39.0      462.0     242.75 \n",
       "Control4_F1 1194.0        -371.1           695.0       67.0     330.25 \n",
       "Beta1_F3    3202.0        1462.0            14.0       46.0     182.50 \n",
       "Beta2_F3    1982.5        1612.0           839.5      511.5     287.13 \n",
       "Beta3_F3    2955.0        2347.0          2222.0     3507.0     305.00 \n",
       "Beta4_F3    2257.0        1099.0           718.0       28.0     686.38 \n",
       "Control1_F3 3293.0        2357.0            34.0     1638.0     422.38 \n",
       "Control2_F3 3254.0        2652.0            39.0       33.0     294.75 \n",
       "Control3_F3 1614.0         932.3          1086.0      242.0     247.75 \n",
       "Control4_F3 4154.0        2156.0           915.0      319.0     603.00 "
      ]
     },
     "metadata": {},
     "output_type": "display_data"
    }
   ],
   "source": [
    "F1F3t"
   ]
  },
  {
   "cell_type": "code",
   "execution_count": null,
   "metadata": {
    "collapsed": true
   },
   "outputs": [],
   "source": []
  }
 ],
 "metadata": {
  "anaconda-cloud": {},
  "kernelspec": {
   "display_name": "R",
   "language": "R",
   "name": "ir"
  },
  "language_info": {
   "codemirror_mode": "r",
   "file_extension": ".r",
   "mimetype": "text/x-r-source",
   "name": "R",
   "pygments_lexer": "r",
   "version": "3.2.3"
  }
 },
 "nbformat": 4,
 "nbformat_minor": 1
}
