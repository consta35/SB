{
 "cells": [
  {
   "cell_type": "code",
   "execution_count": 1,
   "metadata": {
    "collapsed": true
   },
   "outputs": [],
   "source": [
    "setwd(\"E:\\\\PVN_Sequencing\\\\NEW_PVN_2016_Aligned83\\\\New_aligned_F1_Tophat83\")\n",
    "data<- read.csv(\"cd_F1_PVN_NEW_zero_elim_filtered_OUTLIERS_lncRNA_ensRM_Names83_try2.csv\", header=TRUE, row.names=1)"
   ]
  },
  {
   "cell_type": "code",
   "execution_count": 2,
   "metadata": {
    "collapsed": false
   },
   "outputs": [
    {
     "name": "stderr",
     "output_type": "stream",
     "text": [
      "Loading required package: Biobase\n",
      "Loading required package: BiocGenerics\n",
      "Loading required package: parallel\n",
      "\n",
      "Attaching package: 'BiocGenerics'\n",
      "\n",
      "The following objects are masked from 'package:parallel':\n",
      "\n",
      "    clusterApply, clusterApplyLB, clusterCall, clusterEvalQ,\n",
      "    clusterExport, clusterMap, parApply, parCapply, parLapply,\n",
      "    parLapplyLB, parRapply, parSapply, parSapplyLB\n",
      "\n",
      "The following objects are masked from 'package:stats':\n",
      "\n",
      "    IQR, mad, xtabs\n",
      "\n",
      "The following objects are masked from 'package:base':\n",
      "\n",
      "    anyDuplicated, append, as.data.frame, as.vector, cbind, colnames,\n",
      "    do.call, duplicated, eval, evalq, Filter, Find, get, grep, grepl,\n",
      "    intersect, is.unsorted, lapply, lengths, Map, mapply, match, mget,\n",
      "    order, paste, pmax, pmax.int, pmin, pmin.int, Position, rank,\n",
      "    rbind, Reduce, rownames, sapply, setdiff, sort, table, tapply,\n",
      "    union, unique, unlist, unsplit\n",
      "\n",
      "Welcome to Bioconductor\n",
      "\n",
      "    Vignettes contain introductory material; view with\n",
      "    'browseVignettes()'. To cite Bioconductor, see\n",
      "    'citation(\"Biobase\")', and for packages 'citation(\"pkgname\")'.\n",
      "\n",
      "Loading required package: EDASeq\n",
      "Loading required package: ShortRead\n",
      "Loading required package: BiocParallel\n",
      "Loading required package: Biostrings\n",
      "Loading required package: S4Vectors\n",
      "Loading required package: stats4\n",
      "Loading required package: IRanges\n",
      "Loading required package: XVector\n",
      "Loading required package: Rsamtools\n",
      "Loading required package: GenomeInfoDb\n",
      "Loading required package: GenomicRanges\n",
      "Loading required package: GenomicAlignments\n",
      "Loading required package: SummarizedExperiment\n",
      "Loading required package: edgeR\n",
      "Warning message:\n",
      "\"package 'edgeR' was built under R version 3.2.4\"Loading required package: limma\n",
      "Warning message:\n",
      "\"package 'limma' was built under R version 3.2.4\"\n",
      "Attaching package: 'limma'\n",
      "\n",
      "The following object is masked from 'package:BiocGenerics':\n",
      "\n",
      "    plotMA\n",
      "\n"
     ]
    }
   ],
   "source": [
    "library(RUVSeq)\n",
    "x <- as.factor(c(1,1,1,1,1,2,2,2,2,2))\n",
    "set <- newSeqExpressionSet(as.matrix(data),\n",
    "\t\t\tphenoData = data.frame(x, row.names=colnames(data)))\n",
    "genes <- rownames(data)\t\t\n",
    "libSizes <- as.vector(colSums(data))\t\n",
    "\n",
    "### RUV visualization \n",
    "library(RColorBrewer)\n",
    "colors <- brewer.pal(3, \"Set2\")"
   ]
  },
  {
   "cell_type": "code",
   "execution_count": 3,
   "metadata": {
    "collapsed": true
   },
   "outputs": [],
   "source": [
    "### RUVr normalize the data by residuals\n",
    "design<- model.matrix(~x, data=pData(set))\n",
    "y <- DGEList(counts=counts(set), group=x)\n",
    "y <- calcNormFactors(y,method=\"upperquartile\")\n",
    "y <- estimateGLMCommonDisp(y, design)\n",
    "y <- estimateGLMTagwiseDisp(y, design)\n",
    "fit <- glmFit(y, design)\n",
    "res <- residuals(fit, type=\"deviance\")\n",
    "set1<- RUVr(set, genes, k=1, res)"
   ]
  },
  {
   "cell_type": "code",
   "execution_count": 5,
   "metadata": {
    "collapsed": false
   },
   "outputs": [
    {
     "name": "stdout",
     "output_type": "stream",
     "text": [
      "Disp = 0.01913 , BCV = 0.1383 \n"
     ]
    },
    {
     "data": {
      "text/html": [
       "<dl>\n",
       "\t<dt>$table</dt>\n",
       "\t\t<dd><table>\n",
       "<thead><tr><th></th><th scope=col>logFC</th><th scope=col>logCPM</th><th scope=col>LR</th><th scope=col>PValue</th><th scope=col>FDR</th></tr></thead>\n",
       "<tbody>\n",
       "\t<tr><th scope=row>MED12</th><td> 0.8626043  </td><td>5.498692    </td><td>63.45850    </td><td>1.637813e-15</td><td>1.996985e-11</td></tr>\n",
       "\t<tr><th scope=row>ZFHX4</th><td> 1.0363027  </td><td>5.722267    </td><td>61.07322    </td><td>5.499119e-15</td><td>3.352538e-11</td></tr>\n",
       "\t<tr><th scope=row>KAT6A</th><td> 0.8279389  </td><td>5.881583    </td><td>56.41721    </td><td>5.861518e-14</td><td>2.382316e-10</td></tr>\n",
       "\t<tr><th scope=row>RXFP1</th><td> 1.3927176  </td><td>2.035348    </td><td>54.77523    </td><td>1.351330e-13</td><td>4.119193e-10</td></tr>\n",
       "\t<tr><th scope=row>KDM6B</th><td> 0.8567483  </td><td>3.945636    </td><td>50.28628    </td><td>1.328750e-12</td><td>3.240290e-09</td></tr>\n",
       "\t<tr><th scope=row>CHD2</th><td> 0.7563440  </td><td>5.179893    </td><td>49.44686    </td><td>2.038183e-12</td><td>4.141928e-09</td></tr>\n",
       "\t<tr><th scope=row>CBLN4</th><td>-0.8358243  </td><td>5.960864    </td><td>47.18104    </td><td>6.472347e-12</td><td>1.127390e-08</td></tr>\n",
       "\t<tr><th scope=row>SETBP1</th><td> 0.8524533  </td><td>3.942622    </td><td>44.77792    </td><td>2.206969e-11</td><td>3.363696e-08</td></tr>\n",
       "\t<tr><th scope=row>ZMIZ1</th><td> 0.6941925  </td><td>6.329909    </td><td>43.27934    </td><td>4.745689e-11</td><td>6.429354e-08</td></tr>\n",
       "\t<tr><th scope=row>NRXN3</th><td> 1.1198475  </td><td>5.300503    </td><td>41.81886    </td><td>1.001327e-10</td><td>1.113626e-07</td></tr>\n",
       "</tbody>\n",
       "</table>\n",
       "</dd>\n",
       "\t<dt>$adjust.method</dt>\n",
       "\t\t<dd>'BH'</dd>\n",
       "\t<dt>$comparison</dt>\n",
       "\t\t<dd>'x2'</dd>\n",
       "\t<dt>$test</dt>\n",
       "\t\t<dd>'glm'</dd>\n",
       "</dl>\n"
      ],
      "text/latex": [
       "\\begin{description}\n",
       "\\item[\\$table] \\begin{tabular}{r|lllll}\n",
       "  & logFC & logCPM & LR & PValue & FDR\\\\\n",
       "\\hline\n",
       "\tMED12 &  0.8626043   & 5.498692     & 63.45850     & 1.637813e-15 & 1.996985e-11\\\\\n",
       "\tZFHX4 &  1.0363027   & 5.722267     & 61.07322     & 5.499119e-15 & 3.352538e-11\\\\\n",
       "\tKAT6A &  0.8279389   & 5.881583     & 56.41721     & 5.861518e-14 & 2.382316e-10\\\\\n",
       "\tRXFP1 &  1.3927176   & 2.035348     & 54.77523     & 1.351330e-13 & 4.119193e-10\\\\\n",
       "\tKDM6B &  0.8567483   & 3.945636     & 50.28628     & 1.328750e-12 & 3.240290e-09\\\\\n",
       "\tCHD2 &  0.7563440   & 5.179893     & 49.44686     & 2.038183e-12 & 4.141928e-09\\\\\n",
       "\tCBLN4 & -0.8358243   & 5.960864     & 47.18104     & 6.472347e-12 & 1.127390e-08\\\\\n",
       "\tSETBP1 &  0.8524533   & 3.942622     & 44.77792     & 2.206969e-11 & 3.363696e-08\\\\\n",
       "\tZMIZ1 &  0.6941925   & 6.329909     & 43.27934     & 4.745689e-11 & 6.429354e-08\\\\\n",
       "\tNRXN3 &  1.1198475   & 5.300503     & 41.81886     & 1.001327e-10 & 1.113626e-07\\\\\n",
       "\\end{tabular}\n",
       "\n",
       "\\item[\\$adjust.method] 'BH'\n",
       "\\item[\\$comparison] 'x2'\n",
       "\\item[\\$test] 'glm'\n",
       "\\end{description}\n"
      ],
      "text/markdown": [
       "$table\n",
       ":   \n",
       "| <!--/--> | logFC | logCPM | LR | PValue | FDR | \n",
       "|---|---|---|---|---|---|---|---|---|---|\n",
       "| MED12 |  0.8626043   | 5.498692     | 63.45850     | 1.637813e-15 | 1.996985e-11 | \n",
       "| ZFHX4 |  1.0363027   | 5.722267     | 61.07322     | 5.499119e-15 | 3.352538e-11 | \n",
       "| KAT6A |  0.8279389   | 5.881583     | 56.41721     | 5.861518e-14 | 2.382316e-10 | \n",
       "| RXFP1 |  1.3927176   | 2.035348     | 54.77523     | 1.351330e-13 | 4.119193e-10 | \n",
       "| KDM6B |  0.8567483   | 3.945636     | 50.28628     | 1.328750e-12 | 3.240290e-09 | \n",
       "| CHD2 |  0.7563440   | 5.179893     | 49.44686     | 2.038183e-12 | 4.141928e-09 | \n",
       "| CBLN4 | -0.8358243   | 5.960864     | 47.18104     | 6.472347e-12 | 1.127390e-08 | \n",
       "| SETBP1 |  0.8524533   | 3.942622     | 44.77792     | 2.206969e-11 | 3.363696e-08 | \n",
       "| ZMIZ1 |  0.6941925   | 6.329909     | 43.27934     | 4.745689e-11 | 6.429354e-08 | \n",
       "| NRXN3 |  1.1198475   | 5.300503     | 41.81886     | 1.001327e-10 | 1.113626e-07 | \n",
       "\n",
       "\n",
       "\n",
       "$adjust.method\n",
       ":   'BH'\n",
       "$comparison\n",
       ":   'x2'\n",
       "$test\n",
       ":   'glm'\n",
       "\n",
       "\n"
      ],
      "text/plain": [
       "Coefficient:  x2 \n",
       "            logFC   logCPM       LR       PValue          FDR\n",
       "MED12   0.8626043 5.498692 63.45850 1.637813e-15 1.996985e-11\n",
       "ZFHX4   1.0363027 5.722267 61.07322 5.499119e-15 3.352538e-11\n",
       "KAT6A   0.8279389 5.881583 56.41721 5.861518e-14 2.382316e-10\n",
       "RXFP1   1.3927176 2.035348 54.77523 1.351330e-13 4.119193e-10\n",
       "KDM6B   0.8567483 3.945636 50.28628 1.328750e-12 3.240290e-09\n",
       "CHD2    0.7563440 5.179893 49.44686 2.038183e-12 4.141928e-09\n",
       "CBLN4  -0.8358243 5.960864 47.18104 6.472347e-12 1.127390e-08\n",
       "SETBP1  0.8524533 3.942622 44.77792 2.206969e-11 3.363696e-08\n",
       "ZMIZ1   0.6941925 6.329909 43.27934 4.745689e-11 6.429354e-08\n",
       "NRXN3   1.1198475 5.300503 41.81886 1.001327e-10 1.113626e-07"
      ]
     },
     "metadata": {},
     "output_type": "display_data"
    },
    {
     "data": {
      "text/plain": [
       "   [,1] \n",
       "-1   173\n",
       "0  11423\n",
       "1    597"
      ]
     },
     "metadata": {},
     "output_type": "display_data"
    }
   ],
   "source": [
    "### EdgeR analysis on RUVr data to determine which genes are significantly differentialy expressed between control\n",
    "### treatment groups\n",
    "library(edgeR)\n",
    "design<- model.matrix(~x + W_1, data=pData(set1))\n",
    "d <- DGEList(counts=counts(set1),group=x)\n",
    "d <- calcNormFactors(d, method=\"upperquartile\")\n",
    "d <- estimateGLMCommonDisp(d, design,verbose=T)\n",
    "#Output: Disp = 0.01897 , BCV = 0.1377 \n",
    "d <- estimateGLMTagwiseDisp(d, design)\n",
    "fit <- glmFit(d, design)\n",
    "lrt <- glmLRT(fit, coef=2)\n",
    "topTags(lrt)\n",
    "\n",
    "## The following are the genes that have changed the most significantly\n",
    "summary(decideTestsDGE(lrt, adjust.method= \"fdr\", p.value=0.05))"
   ]
  },
  {
   "cell_type": "code",
   "execution_count": 6,
   "metadata": {
    "collapsed": false
   },
   "outputs": [
    {
     "data": {
      "image/png": "[encoded data removed]",
      "text/plain": [
       "Plot with title \"F1 PVN Gene Expression k1\""
      ]
     },
     "metadata": {},
     "output_type": "display_data"
    }
   ],
   "source": [
    "## Make Processed Data Table\n",
    "abc<-as.data.frame(normCounts(set1))\n",
    "abc$twd <- d$tagwise.dispersion\n",
    "abc<- cbind(abc, lrt$table)\n",
    "abc$PValue_fdr <- p.adjust(method=\"fdr\",p=abc$PValue)\n",
    "write.table(abc, file=\"F1EDGER_RUVr__LRT_OutliersElim_count_PVN_k1_wNormCounts.csv\", sep=\",\",quote=F)\n",
    "\n",
    "# Make a basic volcano plot\n",
    "with(abc, plot(logFC, -log10(PValue), pch=20, main=\"F1 PVN Gene Expression k1\", xlim=c(-4,4), ylim=c(0,12)))\n",
    "\n",
    "# Add colored points: red if PValue_fdr<0.05)\n",
    "with(subset(abc, PValue_fdr<.05 ), points(logFC, -log10(PValue), pch=20, col=\"red\"))\n",
    "\n"
   ]
  },
  {
   "cell_type": "code",
   "execution_count": 7,
   "metadata": {
    "collapsed": false
   },
   "outputs": [
    {
     "name": "stderr",
     "output_type": "stream",
     "text": [
      "Warning message:\n",
      "\"package 'gplots' was built under R version 3.2.5\"\n",
      "Attaching package: 'gplots'\n",
      "\n",
      "The following object is masked from 'package:IRanges':\n",
      "\n",
      "    space\n",
      "\n",
      "The following object is masked from 'package:stats':\n",
      "\n",
      "    lowess\n",
      "\n"
     ]
    },
    {
     "data": {
      "image/png": "[encoded data removed]",
      "text/plain": [
       "plot without title"
      ]
     },
     "metadata": {},
     "output_type": "display_data"
    }
   ],
   "source": [
    "###heatmap\n",
    "library(heatmap3)\n",
    "library(ggplot2)\n",
    "library(gplots)\n",
    "\n",
    "vplot_sig<-subset(abc, PValue_fdr<.05 )\n",
    "vvplotsig<-vplot_sig[,1:10]\n",
    "vvplotsig<-as.matrix(vvplotsig)\n",
    "\n",
    "lmno <- cpm(vvplotsig, prior.count=2, log=TRUE)\n",
    "\n",
    "heatmap3(lmno, Rowv = NULL, Colv = NA,\n",
    "  distfun = function(x) as.dist(1 - cor(t(x), use = \"pa\")),\n",
    "  balanceColor = F,showColDendro = F,\n",
    "  showRowDendro = F, col = greenred(1050), legendfun, method = \"complete\", ColAxisColors = 0,\n",
    "  RowAxisColors = 0, hclustfun = hclust, reorderfun = function(d, w)\n",
    "  reorder(d, w), add.expr, symm = FALSE,\n",
    "  scale = \"row\", na.rm = TRUE, \n",
    "  ColSideWidth = 0.4, \n",
    "  file = \"heatmap3.pdf\", topN = NA, filterFun = sd, margins = c(5, 5), lasRow = 2, lasCol = 2,\n",
    "  labRow =NA, labCol = NULL, main = NULL, xlab = NULL, ylab = NULL,\n",
    "  keep.dendro = FALSE, verbose = getOption(\"verbose\"))"
   ]
  },
  {
   "cell_type": "code",
   "execution_count": null,
   "metadata": {
    "collapsed": true
   },
   "outputs": [],
   "source": []
  }
 ],
 "metadata": {
  "kernelspec": {
   "display_name": "R",
   "language": "R",
   "name": "ir"
  },
  "language_info": {
   "codemirror_mode": "r",
   "file_extension": ".r",
   "mimetype": "text/x-r-source",
   "name": "R",
   "pygments_lexer": "r",
   "version": "3.2.3"
  }
 },
 "nbformat": 4,
 "nbformat_minor": 1
}
