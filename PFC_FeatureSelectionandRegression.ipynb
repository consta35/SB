{
 "cells": [
  {
   "cell_type": "markdown",
   "metadata": {
    "hide": true
   },
   "source": [
    "Feature Selection and Regression Analysis\n",
    "$$\n",
    "\\renewcommand{\\like}{{\\cal L}}\n",
    "\\renewcommand{\\loglike}{{\\ell}}\n",
    "\\renewcommand{\\err}{{\\cal E}}\n",
    "\\renewcommand{\\dat}{{\\cal D}}\n",
    "\\renewcommand{\\hyp}{{\\cal H}}\n",
    "\\renewcommand{\\Ex}[2]{E_{#1}[#2]}\n",
    "\\renewcommand{\\x}{{\\mathbf x}}\n",
    "\\renewcommand{\\v}[1]{{\\mathbf #1}}\n",
    "$$"
   ]
  },
  {
   "cell_type": "markdown",
   "metadata": {},
   "source": [
    "Dataset of Gene Expression and Behaviour"
   ]
  },
  {
   "cell_type": "code",
   "execution_count": 1,
   "metadata": {
    "collapsed": true
   },
   "outputs": [],
   "source": [
    "from sklearn.feature_selection import RFE\n",
    "from sklearn.linear_model import LinearRegression\n",
    "from sklearn.datasets import load_boston\n",
    "import pandas as pd"
   ]
  },
  {
   "cell_type": "code",
   "execution_count": 2,
   "metadata": {
    "collapsed": false,
    "scrolled": true
   },
   "outputs": [
    {
     "data": {
      "text/html": [
       "<div>\n",
       "<table border=\"1\" class=\"dataframe\">\n",
       "  <thead>\n",
       "    <tr style=\"text-align: right;\">\n",
       "      <th></th>\n",
       "      <th>Sample</th>\n",
       "      <th>ARPP21</th>\n",
       "      <th>ATP6AP1L</th>\n",
       "      <th>B3GALT2</th>\n",
       "      <th>C9orf116</th>\n",
       "      <th>CALB1</th>\n",
       "      <th>CCDC80</th>\n",
       "      <th>CREB3L1</th>\n",
       "      <th>CTXN3</th>\n",
       "      <th>DACH1</th>\n",
       "      <th>...</th>\n",
       "      <th>SYNJ2</th>\n",
       "      <th>VSTM2L</th>\n",
       "      <th>OF_HPA1_T_AUC</th>\n",
       "      <th>OF_HPA1_Net_AUC</th>\n",
       "      <th>OF_HPA2_T_AUC</th>\n",
       "      <th>OF_HPA2_Net_AUC</th>\n",
       "      <th>OFA1_Total</th>\n",
       "      <th>OFA2_Total</th>\n",
       "      <th>Startle</th>\n",
       "      <th>Group</th>\n",
       "    </tr>\n",
       "  </thead>\n",
       "  <tbody>\n",
       "    <tr>\n",
       "      <th>0</th>\n",
       "      <td>Beta1_F1</td>\n",
       "      <td>3430</td>\n",
       "      <td>1607</td>\n",
       "      <td>2086</td>\n",
       "      <td>30</td>\n",
       "      <td>497</td>\n",
       "      <td>260</td>\n",
       "      <td>482</td>\n",
       "      <td>2023</td>\n",
       "      <td>133</td>\n",
       "      <td>...</td>\n",
       "      <td>2651</td>\n",
       "      <td>1275</td>\n",
       "      <td>1695.0</td>\n",
       "      <td>1338.0</td>\n",
       "      <td>2269.0</td>\n",
       "      <td>1993.0</td>\n",
       "      <td>2631.0</td>\n",
       "      <td>263.0</td>\n",
       "      <td>492.43</td>\n",
       "      <td>Beta</td>\n",
       "    </tr>\n",
       "    <tr>\n",
       "      <th>1</th>\n",
       "      <td>Beta2_F1</td>\n",
       "      <td>3193</td>\n",
       "      <td>1683</td>\n",
       "      <td>1751</td>\n",
       "      <td>32</td>\n",
       "      <td>489</td>\n",
       "      <td>136</td>\n",
       "      <td>386</td>\n",
       "      <td>1789</td>\n",
       "      <td>73</td>\n",
       "      <td>...</td>\n",
       "      <td>3080</td>\n",
       "      <td>800</td>\n",
       "      <td>2901.0</td>\n",
       "      <td>1768.0</td>\n",
       "      <td>2336.0</td>\n",
       "      <td>1536.0</td>\n",
       "      <td>1417.0</td>\n",
       "      <td>43.0</td>\n",
       "      <td>712.38</td>\n",
       "      <td>Beta</td>\n",
       "    </tr>\n",
       "    <tr>\n",
       "      <th>2</th>\n",
       "      <td>Beta3_F1</td>\n",
       "      <td>4427</td>\n",
       "      <td>2056</td>\n",
       "      <td>1261</td>\n",
       "      <td>14</td>\n",
       "      <td>364</td>\n",
       "      <td>125</td>\n",
       "      <td>346</td>\n",
       "      <td>1289</td>\n",
       "      <td>119</td>\n",
       "      <td>...</td>\n",
       "      <td>2570</td>\n",
       "      <td>1412</td>\n",
       "      <td>1436.0</td>\n",
       "      <td>588.8</td>\n",
       "      <td>2045.0</td>\n",
       "      <td>1868.0</td>\n",
       "      <td>344.0</td>\n",
       "      <td>956.0</td>\n",
       "      <td>360.00</td>\n",
       "      <td>Beta</td>\n",
       "    </tr>\n",
       "    <tr>\n",
       "      <th>3</th>\n",
       "      <td>Beta4_F1</td>\n",
       "      <td>3836</td>\n",
       "      <td>2555</td>\n",
       "      <td>1753</td>\n",
       "      <td>30</td>\n",
       "      <td>520</td>\n",
       "      <td>247</td>\n",
       "      <td>482</td>\n",
       "      <td>2737</td>\n",
       "      <td>129</td>\n",
       "      <td>...</td>\n",
       "      <td>3420</td>\n",
       "      <td>803</td>\n",
       "      <td>2327.0</td>\n",
       "      <td>570.6</td>\n",
       "      <td>2821.0</td>\n",
       "      <td>1808.0</td>\n",
       "      <td>551.0</td>\n",
       "      <td>2203.0</td>\n",
       "      <td>148.38</td>\n",
       "      <td>Beta</td>\n",
       "    </tr>\n",
       "    <tr>\n",
       "      <th>4</th>\n",
       "      <td>Control1_F1</td>\n",
       "      <td>9818</td>\n",
       "      <td>1733</td>\n",
       "      <td>935</td>\n",
       "      <td>95</td>\n",
       "      <td>2647</td>\n",
       "      <td>120</td>\n",
       "      <td>381</td>\n",
       "      <td>1277</td>\n",
       "      <td>393</td>\n",
       "      <td>...</td>\n",
       "      <td>2713</td>\n",
       "      <td>2490</td>\n",
       "      <td>1729.0</td>\n",
       "      <td>1334.0</td>\n",
       "      <td>2701.0</td>\n",
       "      <td>-12.3</td>\n",
       "      <td>444.0</td>\n",
       "      <td>780.0</td>\n",
       "      <td>141.50</td>\n",
       "      <td>Control</td>\n",
       "    </tr>\n",
       "  </tbody>\n",
       "</table>\n",
       "<p>5 rows × 31 columns</p>\n",
       "</div>"
      ],
      "text/plain": [
       "        Sample  ARPP21  ATP6AP1L  B3GALT2  C9orf116  CALB1  CCDC80  CREB3L1  \\\n",
       "0     Beta1_F1    3430      1607     2086        30    497     260      482   \n",
       "1     Beta2_F1    3193      1683     1751        32    489     136      386   \n",
       "2     Beta3_F1    4427      2056     1261        14    364     125      346   \n",
       "3     Beta4_F1    3836      2555     1753        30    520     247      482   \n",
       "4  Control1_F1    9818      1733      935        95   2647     120      381   \n",
       "\n",
       "   CTXN3  DACH1    ...     SYNJ2  VSTM2L  OF_HPA1_T_AUC  OF_HPA1_Net_AUC  \\\n",
       "0   2023    133    ...      2651    1275         1695.0           1338.0   \n",
       "1   1789     73    ...      3080     800         2901.0           1768.0   \n",
       "2   1289    119    ...      2570    1412         1436.0            588.8   \n",
       "3   2737    129    ...      3420     803         2327.0            570.6   \n",
       "4   1277    393    ...      2713    2490         1729.0           1334.0   \n",
       "\n",
       "   OF_HPA2_T_AUC  OF_HPA2_Net_AUC  OFA1_Total  OFA2_Total  Startle     Group  \n",
       "0         2269.0           1993.0      2631.0       263.0   492.43      Beta  \n",
       "1         2336.0           1536.0      1417.0        43.0   712.38      Beta  \n",
       "2         2045.0           1868.0       344.0       956.0   360.00      Beta  \n",
       "3         2821.0           1808.0       551.0      2203.0   148.38      Beta  \n",
       "4         2701.0            -12.3       444.0       780.0   141.50  Control   \n",
       "\n",
       "[5 rows x 31 columns]"
      ]
     },
     "execution_count": 2,
     "metadata": {},
     "output_type": "execute_result"
    }
   ],
   "source": [
    "dflog = pd.read_csv(\"data/PFC_22genes_AllBehav.csv\")\n",
    "dflog.head()"
   ]
  },
  {
   "cell_type": "code",
   "execution_count": 3,
   "metadata": {
    "collapsed": false,
    "scrolled": false
   },
   "outputs": [
    {
     "data": {
      "text/html": [
       "<div>\n",
       "<table border=\"1\" class=\"dataframe\">\n",
       "  <thead>\n",
       "    <tr style=\"text-align: right;\">\n",
       "      <th></th>\n",
       "      <th>ARPP21</th>\n",
       "      <th>ATP6AP1L</th>\n",
       "      <th>B3GALT2</th>\n",
       "      <th>C9orf116</th>\n",
       "      <th>CALB1</th>\n",
       "      <th>CCDC80</th>\n",
       "      <th>CREB3L1</th>\n",
       "      <th>CTXN3</th>\n",
       "      <th>DACH1</th>\n",
       "      <th>GABRA3</th>\n",
       "      <th>...</th>\n",
       "      <th>GPR52</th>\n",
       "      <th>KRT80</th>\n",
       "      <th>NRIP3</th>\n",
       "      <th>PAPPA2</th>\n",
       "      <th>Pdyn</th>\n",
       "      <th>PLA2G2C</th>\n",
       "      <th>SOWAHA</th>\n",
       "      <th>SPON1</th>\n",
       "      <th>SYNJ2</th>\n",
       "      <th>VSTM2L</th>\n",
       "    </tr>\n",
       "  </thead>\n",
       "  <tbody>\n",
       "    <tr>\n",
       "      <th>0</th>\n",
       "      <td>3430</td>\n",
       "      <td>1607</td>\n",
       "      <td>2086</td>\n",
       "      <td>30</td>\n",
       "      <td>497</td>\n",
       "      <td>260</td>\n",
       "      <td>482</td>\n",
       "      <td>2023</td>\n",
       "      <td>133</td>\n",
       "      <td>6661</td>\n",
       "      <td>...</td>\n",
       "      <td>34</td>\n",
       "      <td>88</td>\n",
       "      <td>16732</td>\n",
       "      <td>81</td>\n",
       "      <td>254</td>\n",
       "      <td>171</td>\n",
       "      <td>582</td>\n",
       "      <td>5017</td>\n",
       "      <td>2651</td>\n",
       "      <td>1275</td>\n",
       "    </tr>\n",
       "    <tr>\n",
       "      <th>1</th>\n",
       "      <td>3193</td>\n",
       "      <td>1683</td>\n",
       "      <td>1751</td>\n",
       "      <td>32</td>\n",
       "      <td>489</td>\n",
       "      <td>136</td>\n",
       "      <td>386</td>\n",
       "      <td>1789</td>\n",
       "      <td>73</td>\n",
       "      <td>6050</td>\n",
       "      <td>...</td>\n",
       "      <td>36</td>\n",
       "      <td>80</td>\n",
       "      <td>13215</td>\n",
       "      <td>66</td>\n",
       "      <td>362</td>\n",
       "      <td>134</td>\n",
       "      <td>650</td>\n",
       "      <td>5320</td>\n",
       "      <td>3080</td>\n",
       "      <td>800</td>\n",
       "    </tr>\n",
       "    <tr>\n",
       "      <th>2</th>\n",
       "      <td>4427</td>\n",
       "      <td>2056</td>\n",
       "      <td>1261</td>\n",
       "      <td>14</td>\n",
       "      <td>364</td>\n",
       "      <td>125</td>\n",
       "      <td>346</td>\n",
       "      <td>1289</td>\n",
       "      <td>119</td>\n",
       "      <td>4921</td>\n",
       "      <td>...</td>\n",
       "      <td>68</td>\n",
       "      <td>72</td>\n",
       "      <td>13871</td>\n",
       "      <td>88</td>\n",
       "      <td>168</td>\n",
       "      <td>122</td>\n",
       "      <td>462</td>\n",
       "      <td>3018</td>\n",
       "      <td>2570</td>\n",
       "      <td>1412</td>\n",
       "    </tr>\n",
       "    <tr>\n",
       "      <th>3</th>\n",
       "      <td>3836</td>\n",
       "      <td>2555</td>\n",
       "      <td>1753</td>\n",
       "      <td>30</td>\n",
       "      <td>520</td>\n",
       "      <td>247</td>\n",
       "      <td>482</td>\n",
       "      <td>2737</td>\n",
       "      <td>129</td>\n",
       "      <td>5432</td>\n",
       "      <td>...</td>\n",
       "      <td>56</td>\n",
       "      <td>173</td>\n",
       "      <td>22119</td>\n",
       "      <td>160</td>\n",
       "      <td>437</td>\n",
       "      <td>167</td>\n",
       "      <td>798</td>\n",
       "      <td>3635</td>\n",
       "      <td>3420</td>\n",
       "      <td>803</td>\n",
       "    </tr>\n",
       "    <tr>\n",
       "      <th>4</th>\n",
       "      <td>9818</td>\n",
       "      <td>1733</td>\n",
       "      <td>935</td>\n",
       "      <td>95</td>\n",
       "      <td>2647</td>\n",
       "      <td>120</td>\n",
       "      <td>381</td>\n",
       "      <td>1277</td>\n",
       "      <td>393</td>\n",
       "      <td>4692</td>\n",
       "      <td>...</td>\n",
       "      <td>241</td>\n",
       "      <td>953</td>\n",
       "      <td>10578</td>\n",
       "      <td>61</td>\n",
       "      <td>1733</td>\n",
       "      <td>308</td>\n",
       "      <td>2926</td>\n",
       "      <td>3440</td>\n",
       "      <td>2713</td>\n",
       "      <td>2490</td>\n",
       "    </tr>\n",
       "  </tbody>\n",
       "</table>\n",
       "<p>5 rows × 22 columns</p>\n",
       "</div>"
      ],
      "text/plain": [
       "   ARPP21  ATP6AP1L  B3GALT2  C9orf116  CALB1  CCDC80  CREB3L1  CTXN3  DACH1  \\\n",
       "0    3430      1607     2086        30    497     260      482   2023    133   \n",
       "1    3193      1683     1751        32    489     136      386   1789     73   \n",
       "2    4427      2056     1261        14    364     125      346   1289    119   \n",
       "3    3836      2555     1753        30    520     247      482   2737    129   \n",
       "4    9818      1733      935        95   2647     120      381   1277    393   \n",
       "\n",
       "   GABRA3   ...    GPR52  KRT80  NRIP3  PAPPA2  Pdyn  PLA2G2C  SOWAHA  SPON1  \\\n",
       "0    6661   ...       34     88  16732      81   254      171     582   5017   \n",
       "1    6050   ...       36     80  13215      66   362      134     650   5320   \n",
       "2    4921   ...       68     72  13871      88   168      122     462   3018   \n",
       "3    5432   ...       56    173  22119     160   437      167     798   3635   \n",
       "4    4692   ...      241    953  10578      61  1733      308    2926   3440   \n",
       "\n",
       "   SYNJ2  VSTM2L  \n",
       "0   2651    1275  \n",
       "1   3080     800  \n",
       "2   2570    1412  \n",
       "3   3420     803  \n",
       "4   2713    2490  \n",
       "\n",
       "[5 rows x 22 columns]"
      ]
     },
     "execution_count": 3,
     "metadata": {},
     "output_type": "execute_result"
    }
   ],
   "source": [
    "## Separate Gene Expression\n",
    "data = dflog.loc[:,'ARPP21':'VSTM2L']\n",
    "data.head()"
   ]
  },
  {
   "cell_type": "code",
   "execution_count": 4,
   "metadata": {
    "collapsed": false
   },
   "outputs": [
    {
     "data": {
      "text/plain": [
       "0    2631.0\n",
       "1    1417.0\n",
       "2     344.0\n",
       "3     551.0\n",
       "4     444.0\n",
       "Name: OFA1_Total, dtype: float64"
      ]
     },
     "execution_count": 4,
     "metadata": {},
     "output_type": "execute_result"
    }
   ],
   "source": [
    "#Separate Behavioural Outcome Target\n",
    "target= dflog.loc[:,'OFA1_Total']\n",
    "target.head()"
   ]
  },
  {
   "cell_type": "code",
   "execution_count": 38,
   "metadata": {
    "collapsed": false
   },
   "outputs": [
    {
     "name": "stdout",
     "output_type": "stream",
     "text": [
      "Features sorted by their rank:\n",
      "[(1.0, 'C9orf116'), (2.0, 'GLRA3'), (3.0, 'GPR52'), (4.0, 'CALB1'), (5.0, 'CCDC80'), (6.0, 'PAPPA2'), (7.0, 'DACH1'), (8.0, 'CTXN3'), (9.0, 'VSTM2L'), (10.0, 'SOWAHA'), (11.0, 'KRT80'), (12.0, 'B3GALT2'), (13.0, 'ATP6AP1L'), (14.0, 'GARNL3'), (15.0, 'SPON1'), (16.0, 'PLA2G2C'), (17.0, 'CREB3L1'), (18.0, 'SYNJ2'), (19.0, 'NRIP3'), (20.0, 'GABRA3'), (21.0, 'ARPP21'), (22.0, 'Pdyn')]\n"
     ]
    }
   ],
   "source": [
    "## RFE Features selection\n",
    "\n",
    "\n",
    "X = data\n",
    "y = target\n",
    "names = data.keys()\n",
    " \n",
    "#use linear regression as the model\n",
    "lr = LinearRegression()\n",
    "#rank all features, i.e continue the elimination until the last one\n",
    "rfe = RFE(lr, n_features_to_select=1)\n",
    "rfe.fit(X,y)\n",
    " \n",
    "print \"Features sorted by their rank:\"\n",
    "print sorted(zip(map(lambda x: round(x, 4), rfe.ranking_), names))"
   ]
  },
  {
   "cell_type": "code",
   "execution_count": 15,
   "metadata": {
    "collapsed": false
   },
   "outputs": [],
   "source": [
    "from sklearn.linear_model import (LinearRegression, Ridge, \n",
    "                                  Lasso, RandomizedLasso)\n",
    "from sklearn.feature_selection import RFE, f_regression\n",
    "from sklearn.preprocessing import MinMaxScaler\n",
    "from sklearn.ensemble import RandomForestRegressor\n",
    "import numpy as np\n"
   ]
  },
  {
   "cell_type": "code",
   "execution_count": 7,
   "metadata": {
    "collapsed": false
   },
   "outputs": [
    {
     "name": "stderr",
     "output_type": "stream",
     "text": [
      "C:\\Users\\BestBuy\\Anaconda2\\lib\\site-packages\\sklearn\\linear_model\\coordinate_descent.py:484: ConvergenceWarning: Objective did not converge. You might want to increase the number of iterations. Fitting data with very small alpha may cause precision problems.\n",
      "  ConvergenceWarning)\n"
     ]
    }
   ],
   "source": [
    "ranks = {}\n",
    " \n",
    "def rank_to_dict(ranks, names, order=1):\n",
    "    minmax = MinMaxScaler()\n",
    "    ranks = minmax.fit_transform(order*np.array([ranks]).T).T[0]\n",
    "    ranks = map(lambda x: round(x, 2), ranks)\n",
    "    return dict(zip(names, ranks ))\n",
    " \n",
    "lr = LinearRegression(normalize=True)\n",
    "lr.fit(X, Y)\n",
    "ranks[\"Linear reg\"] = rank_to_dict(np.abs(lr.coef_), names)\n",
    " \n",
    "ridge = Ridge(alpha=7)\n",
    "ridge.fit(X, Y)\n",
    "ranks[\"Ridge\"] = rank_to_dict(np.abs(ridge.coef_), names)\n",
    " \n",
    " \n",
    "lasso = Lasso(alpha=.05)\n",
    "lasso.fit(X, Y)\n",
    "ranks[\"Lasso\"] = rank_to_dict(np.abs(lasso.coef_), names)\n",
    " \n",
    " \n",
    "rlasso = RandomizedLasso(alpha=0.04)\n",
    "rlasso.fit(X, Y)\n",
    "ranks[\"Stability\"] = rank_to_dict(np.abs(rlasso.scores_), names)\n",
    " \n",
    "#stop the search when 5 features are left (they will get equal scores)\n",
    "rfe = RFE(lr, n_features_to_select=5)\n",
    "rfe.fit(X,Y)\n",
    "ranks[\"RFE\"] = rank_to_dict(map(float, rfe.ranking_), names, order=-1)\n",
    " \n",
    "rf = RandomForestRegressor()\n",
    "rf.fit(X,Y)\n",
    "ranks[\"RF\"] = rank_to_dict(rf.feature_importances_, names)\n",
    " \n",
    " \n",
    "f, pval  = f_regression(X, Y, center=True)\n",
    "ranks[\"Corr.\"] = rank_to_dict(f, names)\n",
    " \n"
   ]
  },
  {
   "cell_type": "code",
   "execution_count": 8,
   "metadata": {
    "collapsed": false
   },
   "outputs": [
    {
     "data": {
      "text/html": [
       "<div>\n",
       "<table border=\"1\" class=\"dataframe\">\n",
       "  <thead>\n",
       "    <tr style=\"text-align: right;\">\n",
       "      <th></th>\n",
       "      <th>Corr.</th>\n",
       "      <th>Lasso</th>\n",
       "      <th>Linear reg</th>\n",
       "      <th>RF</th>\n",
       "      <th>RFE</th>\n",
       "      <th>Ridge</th>\n",
       "      <th>Stability</th>\n",
       "    </tr>\n",
       "  </thead>\n",
       "  <tbody>\n",
       "    <tr>\n",
       "      <th>ARPP21</th>\n",
       "      <td>0.57</td>\n",
       "      <td>0.00</td>\n",
       "      <td>0.00</td>\n",
       "      <td>1.00</td>\n",
       "      <td>0.06</td>\n",
       "      <td>0.00</td>\n",
       "      <td>0.39</td>\n",
       "    </tr>\n",
       "    <tr>\n",
       "      <th>ATP6AP1L</th>\n",
       "      <td>0.24</td>\n",
       "      <td>0.01</td>\n",
       "      <td>0.04</td>\n",
       "      <td>0.12</td>\n",
       "      <td>0.53</td>\n",
       "      <td>0.04</td>\n",
       "      <td>0.69</td>\n",
       "    </tr>\n",
       "    <tr>\n",
       "      <th>B3GALT2</th>\n",
       "      <td>0.26</td>\n",
       "      <td>0.02</td>\n",
       "      <td>0.07</td>\n",
       "      <td>0.00</td>\n",
       "      <td>0.59</td>\n",
       "      <td>0.07</td>\n",
       "      <td>0.66</td>\n",
       "    </tr>\n",
       "    <tr>\n",
       "      <th>C9orf116</th>\n",
       "      <td>0.35</td>\n",
       "      <td>0.83</td>\n",
       "      <td>0.14</td>\n",
       "      <td>0.00</td>\n",
       "      <td>1.00</td>\n",
       "      <td>0.18</td>\n",
       "      <td>0.87</td>\n",
       "    </tr>\n",
       "    <tr>\n",
       "      <th>CALB1</th>\n",
       "      <td>0.24</td>\n",
       "      <td>0.01</td>\n",
       "      <td>0.09</td>\n",
       "      <td>0.04</td>\n",
       "      <td>1.00</td>\n",
       "      <td>0.08</td>\n",
       "      <td>0.00</td>\n",
       "    </tr>\n",
       "    <tr>\n",
       "      <th>CCDC80</th>\n",
       "      <td>0.07</td>\n",
       "      <td>0.23</td>\n",
       "      <td>0.39</td>\n",
       "      <td>0.15</td>\n",
       "      <td>1.00</td>\n",
       "      <td>0.35</td>\n",
       "      <td>0.79</td>\n",
       "    </tr>\n",
       "    <tr>\n",
       "      <th>CREB3L1</th>\n",
       "      <td>0.05</td>\n",
       "      <td>0.15</td>\n",
       "      <td>0.17</td>\n",
       "      <td>0.06</td>\n",
       "      <td>0.29</td>\n",
       "      <td>0.17</td>\n",
       "      <td>0.65</td>\n",
       "    </tr>\n",
       "    <tr>\n",
       "      <th>CTXN3</th>\n",
       "      <td>0.03</td>\n",
       "      <td>0.02</td>\n",
       "      <td>0.06</td>\n",
       "      <td>0.04</td>\n",
       "      <td>0.82</td>\n",
       "      <td>0.06</td>\n",
       "      <td>0.04</td>\n",
       "    </tr>\n",
       "    <tr>\n",
       "      <th>DACH1</th>\n",
       "      <td>0.18</td>\n",
       "      <td>0.24</td>\n",
       "      <td>0.02</td>\n",
       "      <td>0.08</td>\n",
       "      <td>0.88</td>\n",
       "      <td>0.01</td>\n",
       "      <td>0.74</td>\n",
       "    </tr>\n",
       "    <tr>\n",
       "      <th>GABRA3</th>\n",
       "      <td>1.00</td>\n",
       "      <td>0.00</td>\n",
       "      <td>0.01</td>\n",
       "      <td>0.42</td>\n",
       "      <td>0.12</td>\n",
       "      <td>0.00</td>\n",
       "      <td>0.95</td>\n",
       "    </tr>\n",
       "    <tr>\n",
       "      <th>GARNL3</th>\n",
       "      <td>0.04</td>\n",
       "      <td>0.05</td>\n",
       "      <td>0.11</td>\n",
       "      <td>0.03</td>\n",
       "      <td>0.47</td>\n",
       "      <td>0.11</td>\n",
       "      <td>0.46</td>\n",
       "    </tr>\n",
       "    <tr>\n",
       "      <th>GLRA3</th>\n",
       "      <td>0.14</td>\n",
       "      <td>1.00</td>\n",
       "      <td>1.00</td>\n",
       "      <td>0.02</td>\n",
       "      <td>1.00</td>\n",
       "      <td>1.00</td>\n",
       "      <td>0.97</td>\n",
       "    </tr>\n",
       "    <tr>\n",
       "      <th>GPR52</th>\n",
       "      <td>0.46</td>\n",
       "      <td>0.46</td>\n",
       "      <td>0.16</td>\n",
       "      <td>0.09</td>\n",
       "      <td>1.00</td>\n",
       "      <td>0.12</td>\n",
       "      <td>0.57</td>\n",
       "    </tr>\n",
       "    <tr>\n",
       "      <th>KRT80</th>\n",
       "      <td>0.28</td>\n",
       "      <td>0.03</td>\n",
       "      <td>0.07</td>\n",
       "      <td>0.00</td>\n",
       "      <td>0.65</td>\n",
       "      <td>0.06</td>\n",
       "      <td>0.26</td>\n",
       "    </tr>\n",
       "    <tr>\n",
       "      <th>NRIP3</th>\n",
       "      <td>0.00</td>\n",
       "      <td>0.00</td>\n",
       "      <td>0.00</td>\n",
       "      <td>0.19</td>\n",
       "      <td>0.18</td>\n",
       "      <td>0.00</td>\n",
       "      <td>1.00</td>\n",
       "    </tr>\n",
       "    <tr>\n",
       "      <th>PAPPA2</th>\n",
       "      <td>0.49</td>\n",
       "      <td>0.08</td>\n",
       "      <td>0.08</td>\n",
       "      <td>0.27</td>\n",
       "      <td>0.94</td>\n",
       "      <td>0.07</td>\n",
       "      <td>0.81</td>\n",
       "    </tr>\n",
       "    <tr>\n",
       "      <th>PLA2G2C</th>\n",
       "      <td>0.51</td>\n",
       "      <td>0.05</td>\n",
       "      <td>0.26</td>\n",
       "      <td>0.25</td>\n",
       "      <td>0.35</td>\n",
       "      <td>0.24</td>\n",
       "      <td>1.00</td>\n",
       "    </tr>\n",
       "    <tr>\n",
       "      <th>Pdyn</th>\n",
       "      <td>0.06</td>\n",
       "      <td>0.01</td>\n",
       "      <td>0.00</td>\n",
       "      <td>0.06</td>\n",
       "      <td>0.00</td>\n",
       "      <td>0.00</td>\n",
       "      <td>0.72</td>\n",
       "    </tr>\n",
       "    <tr>\n",
       "      <th>SOWAHA</th>\n",
       "      <td>0.29</td>\n",
       "      <td>0.04</td>\n",
       "      <td>0.03</td>\n",
       "      <td>0.00</td>\n",
       "      <td>0.71</td>\n",
       "      <td>0.04</td>\n",
       "      <td>0.11</td>\n",
       "    </tr>\n",
       "    <tr>\n",
       "      <th>SPON1</th>\n",
       "      <td>0.21</td>\n",
       "      <td>0.00</td>\n",
       "      <td>0.03</td>\n",
       "      <td>0.08</td>\n",
       "      <td>0.41</td>\n",
       "      <td>0.03</td>\n",
       "      <td>0.63</td>\n",
       "    </tr>\n",
       "    <tr>\n",
       "      <th>SYNJ2</th>\n",
       "      <td>0.00</td>\n",
       "      <td>0.02</td>\n",
       "      <td>0.05</td>\n",
       "      <td>0.00</td>\n",
       "      <td>0.24</td>\n",
       "      <td>0.05</td>\n",
       "      <td>0.86</td>\n",
       "    </tr>\n",
       "    <tr>\n",
       "      <th>VSTM2L</th>\n",
       "      <td>0.10</td>\n",
       "      <td>0.04</td>\n",
       "      <td>0.01</td>\n",
       "      <td>0.03</td>\n",
       "      <td>0.76</td>\n",
       "      <td>0.01</td>\n",
       "      <td>0.81</td>\n",
       "    </tr>\n",
       "  </tbody>\n",
       "</table>\n",
       "</div>"
      ],
      "text/plain": [
       "          Corr.  Lasso  Linear reg    RF   RFE  Ridge  Stability\n",
       "ARPP21     0.57   0.00        0.00  1.00  0.06   0.00       0.39\n",
       "ATP6AP1L   0.24   0.01        0.04  0.12  0.53   0.04       0.69\n",
       "B3GALT2    0.26   0.02        0.07  0.00  0.59   0.07       0.66\n",
       "C9orf116   0.35   0.83        0.14  0.00  1.00   0.18       0.87\n",
       "CALB1      0.24   0.01        0.09  0.04  1.00   0.08       0.00\n",
       "CCDC80     0.07   0.23        0.39  0.15  1.00   0.35       0.79\n",
       "CREB3L1    0.05   0.15        0.17  0.06  0.29   0.17       0.65\n",
       "CTXN3      0.03   0.02        0.06  0.04  0.82   0.06       0.04\n",
       "DACH1      0.18   0.24        0.02  0.08  0.88   0.01       0.74\n",
       "GABRA3     1.00   0.00        0.01  0.42  0.12   0.00       0.95\n",
       "GARNL3     0.04   0.05        0.11  0.03  0.47   0.11       0.46\n",
       "GLRA3      0.14   1.00        1.00  0.02  1.00   1.00       0.97\n",
       "GPR52      0.46   0.46        0.16  0.09  1.00   0.12       0.57\n",
       "KRT80      0.28   0.03        0.07  0.00  0.65   0.06       0.26\n",
       "NRIP3      0.00   0.00        0.00  0.19  0.18   0.00       1.00\n",
       "PAPPA2     0.49   0.08        0.08  0.27  0.94   0.07       0.81\n",
       "PLA2G2C    0.51   0.05        0.26  0.25  0.35   0.24       1.00\n",
       "Pdyn       0.06   0.01        0.00  0.06  0.00   0.00       0.72\n",
       "SOWAHA     0.29   0.04        0.03  0.00  0.71   0.04       0.11\n",
       "SPON1      0.21   0.00        0.03  0.08  0.41   0.03       0.63\n",
       "SYNJ2      0.00   0.02        0.05  0.00  0.24   0.05       0.86\n",
       "VSTM2L     0.10   0.04        0.01  0.03  0.76   0.01       0.81"
      ]
     },
     "execution_count": 8,
     "metadata": {},
     "output_type": "execute_result"
    }
   ],
   "source": [
    "result = pd.DataFrame.from_dict(ranks)\n",
    "result"
   ]
  },
  {
   "cell_type": "code",
   "execution_count": 9,
   "metadata": {
    "collapsed": false
   },
   "outputs": [],
   "source": [
    "result['Mean'] = result.mean(axis=1)"
   ]
  },
  {
   "cell_type": "code",
   "execution_count": 10,
   "metadata": {
    "collapsed": false
   },
   "outputs": [
    {
     "data": {
      "text/html": [
       "<div>\n",
       "<table border=\"1\" class=\"dataframe\">\n",
       "  <thead>\n",
       "    <tr style=\"text-align: right;\">\n",
       "      <th></th>\n",
       "      <th>Corr.</th>\n",
       "      <th>Lasso</th>\n",
       "      <th>Linear reg</th>\n",
       "      <th>RF</th>\n",
       "      <th>RFE</th>\n",
       "      <th>Ridge</th>\n",
       "      <th>Stability</th>\n",
       "      <th>Mean</th>\n",
       "    </tr>\n",
       "  </thead>\n",
       "  <tbody>\n",
       "    <tr>\n",
       "      <th>GLRA3</th>\n",
       "      <td>0.14</td>\n",
       "      <td>1.00</td>\n",
       "      <td>1.00</td>\n",
       "      <td>0.02</td>\n",
       "      <td>1.00</td>\n",
       "      <td>1.00</td>\n",
       "      <td>0.97</td>\n",
       "      <td>0.732857</td>\n",
       "    </tr>\n",
       "    <tr>\n",
       "      <th>C9orf116</th>\n",
       "      <td>0.35</td>\n",
       "      <td>0.83</td>\n",
       "      <td>0.14</td>\n",
       "      <td>0.00</td>\n",
       "      <td>1.00</td>\n",
       "      <td>0.18</td>\n",
       "      <td>0.87</td>\n",
       "      <td>0.481429</td>\n",
       "    </tr>\n",
       "    <tr>\n",
       "      <th>CCDC80</th>\n",
       "      <td>0.07</td>\n",
       "      <td>0.23</td>\n",
       "      <td>0.39</td>\n",
       "      <td>0.15</td>\n",
       "      <td>1.00</td>\n",
       "      <td>0.35</td>\n",
       "      <td>0.79</td>\n",
       "      <td>0.425714</td>\n",
       "    </tr>\n",
       "    <tr>\n",
       "      <th>GPR52</th>\n",
       "      <td>0.46</td>\n",
       "      <td>0.46</td>\n",
       "      <td>0.16</td>\n",
       "      <td>0.09</td>\n",
       "      <td>1.00</td>\n",
       "      <td>0.12</td>\n",
       "      <td>0.57</td>\n",
       "      <td>0.408571</td>\n",
       "    </tr>\n",
       "    <tr>\n",
       "      <th>PAPPA2</th>\n",
       "      <td>0.49</td>\n",
       "      <td>0.08</td>\n",
       "      <td>0.08</td>\n",
       "      <td>0.27</td>\n",
       "      <td>0.94</td>\n",
       "      <td>0.07</td>\n",
       "      <td>0.81</td>\n",
       "      <td>0.391429</td>\n",
       "    </tr>\n",
       "    <tr>\n",
       "      <th>PLA2G2C</th>\n",
       "      <td>0.51</td>\n",
       "      <td>0.05</td>\n",
       "      <td>0.26</td>\n",
       "      <td>0.25</td>\n",
       "      <td>0.35</td>\n",
       "      <td>0.24</td>\n",
       "      <td>1.00</td>\n",
       "      <td>0.380000</td>\n",
       "    </tr>\n",
       "    <tr>\n",
       "      <th>GABRA3</th>\n",
       "      <td>1.00</td>\n",
       "      <td>0.00</td>\n",
       "      <td>0.01</td>\n",
       "      <td>0.42</td>\n",
       "      <td>0.12</td>\n",
       "      <td>0.00</td>\n",
       "      <td>0.95</td>\n",
       "      <td>0.357143</td>\n",
       "    </tr>\n",
       "    <tr>\n",
       "      <th>DACH1</th>\n",
       "      <td>0.18</td>\n",
       "      <td>0.24</td>\n",
       "      <td>0.02</td>\n",
       "      <td>0.08</td>\n",
       "      <td>0.88</td>\n",
       "      <td>0.01</td>\n",
       "      <td>0.74</td>\n",
       "      <td>0.307143</td>\n",
       "    </tr>\n",
       "    <tr>\n",
       "      <th>ARPP21</th>\n",
       "      <td>0.57</td>\n",
       "      <td>0.00</td>\n",
       "      <td>0.00</td>\n",
       "      <td>1.00</td>\n",
       "      <td>0.06</td>\n",
       "      <td>0.00</td>\n",
       "      <td>0.39</td>\n",
       "      <td>0.288571</td>\n",
       "    </tr>\n",
       "    <tr>\n",
       "      <th>VSTM2L</th>\n",
       "      <td>0.10</td>\n",
       "      <td>0.04</td>\n",
       "      <td>0.01</td>\n",
       "      <td>0.03</td>\n",
       "      <td>0.76</td>\n",
       "      <td>0.01</td>\n",
       "      <td>0.81</td>\n",
       "      <td>0.251429</td>\n",
       "    </tr>\n",
       "    <tr>\n",
       "      <th>ATP6AP1L</th>\n",
       "      <td>0.24</td>\n",
       "      <td>0.01</td>\n",
       "      <td>0.04</td>\n",
       "      <td>0.12</td>\n",
       "      <td>0.53</td>\n",
       "      <td>0.04</td>\n",
       "      <td>0.69</td>\n",
       "      <td>0.238571</td>\n",
       "    </tr>\n",
       "    <tr>\n",
       "      <th>B3GALT2</th>\n",
       "      <td>0.26</td>\n",
       "      <td>0.02</td>\n",
       "      <td>0.07</td>\n",
       "      <td>0.00</td>\n",
       "      <td>0.59</td>\n",
       "      <td>0.07</td>\n",
       "      <td>0.66</td>\n",
       "      <td>0.238571</td>\n",
       "    </tr>\n",
       "    <tr>\n",
       "      <th>CREB3L1</th>\n",
       "      <td>0.05</td>\n",
       "      <td>0.15</td>\n",
       "      <td>0.17</td>\n",
       "      <td>0.06</td>\n",
       "      <td>0.29</td>\n",
       "      <td>0.17</td>\n",
       "      <td>0.65</td>\n",
       "      <td>0.220000</td>\n",
       "    </tr>\n",
       "    <tr>\n",
       "      <th>CALB1</th>\n",
       "      <td>0.24</td>\n",
       "      <td>0.01</td>\n",
       "      <td>0.09</td>\n",
       "      <td>0.04</td>\n",
       "      <td>1.00</td>\n",
       "      <td>0.08</td>\n",
       "      <td>0.00</td>\n",
       "      <td>0.208571</td>\n",
       "    </tr>\n",
       "    <tr>\n",
       "      <th>SPON1</th>\n",
       "      <td>0.21</td>\n",
       "      <td>0.00</td>\n",
       "      <td>0.03</td>\n",
       "      <td>0.08</td>\n",
       "      <td>0.41</td>\n",
       "      <td>0.03</td>\n",
       "      <td>0.63</td>\n",
       "      <td>0.198571</td>\n",
       "    </tr>\n",
       "    <tr>\n",
       "      <th>NRIP3</th>\n",
       "      <td>0.00</td>\n",
       "      <td>0.00</td>\n",
       "      <td>0.00</td>\n",
       "      <td>0.19</td>\n",
       "      <td>0.18</td>\n",
       "      <td>0.00</td>\n",
       "      <td>1.00</td>\n",
       "      <td>0.195714</td>\n",
       "    </tr>\n",
       "    <tr>\n",
       "      <th>KRT80</th>\n",
       "      <td>0.28</td>\n",
       "      <td>0.03</td>\n",
       "      <td>0.07</td>\n",
       "      <td>0.00</td>\n",
       "      <td>0.65</td>\n",
       "      <td>0.06</td>\n",
       "      <td>0.26</td>\n",
       "      <td>0.192857</td>\n",
       "    </tr>\n",
       "    <tr>\n",
       "      <th>GARNL3</th>\n",
       "      <td>0.04</td>\n",
       "      <td>0.05</td>\n",
       "      <td>0.11</td>\n",
       "      <td>0.03</td>\n",
       "      <td>0.47</td>\n",
       "      <td>0.11</td>\n",
       "      <td>0.46</td>\n",
       "      <td>0.181429</td>\n",
       "    </tr>\n",
       "    <tr>\n",
       "      <th>SOWAHA</th>\n",
       "      <td>0.29</td>\n",
       "      <td>0.04</td>\n",
       "      <td>0.03</td>\n",
       "      <td>0.00</td>\n",
       "      <td>0.71</td>\n",
       "      <td>0.04</td>\n",
       "      <td>0.11</td>\n",
       "      <td>0.174286</td>\n",
       "    </tr>\n",
       "    <tr>\n",
       "      <th>SYNJ2</th>\n",
       "      <td>0.00</td>\n",
       "      <td>0.02</td>\n",
       "      <td>0.05</td>\n",
       "      <td>0.00</td>\n",
       "      <td>0.24</td>\n",
       "      <td>0.05</td>\n",
       "      <td>0.86</td>\n",
       "      <td>0.174286</td>\n",
       "    </tr>\n",
       "    <tr>\n",
       "      <th>CTXN3</th>\n",
       "      <td>0.03</td>\n",
       "      <td>0.02</td>\n",
       "      <td>0.06</td>\n",
       "      <td>0.04</td>\n",
       "      <td>0.82</td>\n",
       "      <td>0.06</td>\n",
       "      <td>0.04</td>\n",
       "      <td>0.152857</td>\n",
       "    </tr>\n",
       "    <tr>\n",
       "      <th>Pdyn</th>\n",
       "      <td>0.06</td>\n",
       "      <td>0.01</td>\n",
       "      <td>0.00</td>\n",
       "      <td>0.06</td>\n",
       "      <td>0.00</td>\n",
       "      <td>0.00</td>\n",
       "      <td>0.72</td>\n",
       "      <td>0.121429</td>\n",
       "    </tr>\n",
       "  </tbody>\n",
       "</table>\n",
       "</div>"
      ],
      "text/plain": [
       "          Corr.  Lasso  Linear reg    RF   RFE  Ridge  Stability      Mean\n",
       "GLRA3      0.14   1.00        1.00  0.02  1.00   1.00       0.97  0.732857\n",
       "C9orf116   0.35   0.83        0.14  0.00  1.00   0.18       0.87  0.481429\n",
       "CCDC80     0.07   0.23        0.39  0.15  1.00   0.35       0.79  0.425714\n",
       "GPR52      0.46   0.46        0.16  0.09  1.00   0.12       0.57  0.408571\n",
       "PAPPA2     0.49   0.08        0.08  0.27  0.94   0.07       0.81  0.391429\n",
       "PLA2G2C    0.51   0.05        0.26  0.25  0.35   0.24       1.00  0.380000\n",
       "GABRA3     1.00   0.00        0.01  0.42  0.12   0.00       0.95  0.357143\n",
       "DACH1      0.18   0.24        0.02  0.08  0.88   0.01       0.74  0.307143\n",
       "ARPP21     0.57   0.00        0.00  1.00  0.06   0.00       0.39  0.288571\n",
       "VSTM2L     0.10   0.04        0.01  0.03  0.76   0.01       0.81  0.251429\n",
       "ATP6AP1L   0.24   0.01        0.04  0.12  0.53   0.04       0.69  0.238571\n",
       "B3GALT2    0.26   0.02        0.07  0.00  0.59   0.07       0.66  0.238571\n",
       "CREB3L1    0.05   0.15        0.17  0.06  0.29   0.17       0.65  0.220000\n",
       "CALB1      0.24   0.01        0.09  0.04  1.00   0.08       0.00  0.208571\n",
       "SPON1      0.21   0.00        0.03  0.08  0.41   0.03       0.63  0.198571\n",
       "NRIP3      0.00   0.00        0.00  0.19  0.18   0.00       1.00  0.195714\n",
       "KRT80      0.28   0.03        0.07  0.00  0.65   0.06       0.26  0.192857\n",
       "GARNL3     0.04   0.05        0.11  0.03  0.47   0.11       0.46  0.181429\n",
       "SOWAHA     0.29   0.04        0.03  0.00  0.71   0.04       0.11  0.174286\n",
       "SYNJ2      0.00   0.02        0.05  0.00  0.24   0.05       0.86  0.174286\n",
       "CTXN3      0.03   0.02        0.06  0.04  0.82   0.06       0.04  0.152857\n",
       "Pdyn       0.06   0.01        0.00  0.06  0.00   0.00       0.72  0.121429"
      ]
     },
     "execution_count": 10,
     "metadata": {},
     "output_type": "execute_result"
    }
   ],
   "source": [
    "result.sort_values(by ='Mean', ascending= False)"
   ]
  },
  {
   "cell_type": "code",
   "execution_count": 40,
   "metadata": {
    "collapsed": false
   },
   "outputs": [
    {
     "name": "stderr",
     "output_type": "stream",
     "text": [
      "C:\\Users\\BestBuy\\Anaconda2\\lib\\site-packages\\ipykernel\\__main__.py:13: DataConversionWarning: A column-vector y was passed when a 1d array was expected. Please change the shape of y to (n_samples,), for example using ravel().\n"
     ]
    },
    {
     "data": {
      "text/plain": [
       "0.66994432051748953"
      ]
     },
     "execution_count": 40,
     "metadata": {},
     "output_type": "execute_result"
    }
   ],
   "source": [
    "import numpy as np\n",
    "from sklearn.model_selection import train_test_split\n",
    "from sklearn.linear_model import LogisticRegression\n",
    "from sklearn.linear_model import LinearRegression\n",
    "from sklearn.metrics import accuracy_score\n",
    "from sklearn.ensemble import RandomForestRegressor\n",
    "# Split the data into a training and test set.\n",
    "Xlr, Xtestlr, ylr, ytestlr = train_test_split(dflog[['GLRA3','C9orf116','GPR52']].values,\n",
    "                                              (dflog[['OFA1_Total']]).values,random_state=5)\n",
    "\n",
    "clf = RandomForestRegressor(random_state =0)\n",
    "# Fit the model on the trainng data.\n",
    "clf.fit(Xlr, ylr)\n",
    "# Print the accuracy from the training data.\n",
    "clf.score(Xlr, ylr)\n",
    "\n",
    "### If I run this multiple times, I get different answers each time. Why?\n",
    "### how do I adjust C?"
   ]
  },
  {
   "cell_type": "code",
   "execution_count": 30,
   "metadata": {
    "collapsed": false
   },
   "outputs": [
    {
     "data": {
      "image/png": "[encoded data removed]",
      "text/plain": [
       "<matplotlib.figure.Figure at 0xae15dd8>"
      ]
     },
     "metadata": {},
     "output_type": "display_data"
    }
   ],
   "source": [
    "import matplotlib.pyplot as plt\n",
    "plt.scatter(dflog['GABRA3'], dflog['OFA1_Total'])\n",
    "plt.show()"
   ]
  },
  {
   "cell_type": "code",
   "execution_count": 44,
   "metadata": {
    "collapsed": false
   },
   "outputs": [
    {
     "data": {
      "image/png": "[encoded data removed]",
      "text/plain": [
       "<matplotlib.figure.Figure at 0xcdda080>"
      ]
     },
     "metadata": {},
     "output_type": "display_data"
    },
    {
     "data": {
      "image/png": "[encoded data removed]",
      "text/plain": [
       "<matplotlib.figure.Figure at 0xdc99160>"
      ]
     },
     "metadata": {},
     "output_type": "display_data"
    }
   ],
   "source": [
    "import numpy as np\n",
    "import matplotlib.pyplot as plt\n",
    "from sklearn.naive_bayes import GaussianNB\n",
    "from sklearn.svm import SVC\n",
    "from sklearn.datasets import load_digits\n",
    "from sklearn.model_selection import learning_curve\n",
    "from sklearn.model_selection import ShuffleSplit\n",
    "\n",
    "\n",
    "def plot_learning_curve(estimator, title, X, y, ylim=None, cv=None,\n",
    "                        n_jobs=1, train_sizes=np.linspace(.1, 1.0, 5)):\n",
    "    \"\"\"\n",
    "    Generate a simple plot of the test and training learning curve.\n",
    "\n",
    "    Parameters\n",
    "    ----------\n",
    "    estimator : object type that implements the \"fit\" and \"predict\" methods\n",
    "        An object of that type which is cloned for each validation.\n",
    "\n",
    "    title : string\n",
    "        Title for the chart.\n",
    "\n",
    "    X : array-like, shape (n_samples, n_features)\n",
    "        Training vector, where n_samples is the number of samples and\n",
    "        n_features is the number of features.\n",
    "\n",
    "    y : array-like, shape (n_samples) or (n_samples, n_features), optional\n",
    "        Target relative to X for classification or regression;\n",
    "        None for unsupervised learning.\n",
    "\n",
    "    ylim : tuple, shape (ymin, ymax), optional\n",
    "        Defines minimum and maximum yvalues plotted.\n",
    "\n",
    "    cv : int, cross-validation generator or an iterable, optional\n",
    "        Determines the cross-validation splitting strategy.\n",
    "        Possible inputs for cv are:\n",
    "          - None, to use the default 3-fold cross-validation,\n",
    "          - integer, to specify the number of folds.\n",
    "          - An object to be used as a cross-validation generator.\n",
    "          - An iterable yielding train/test splits.\n",
    "\n",
    "        For integer/None inputs, if ``y`` is binary or multiclass,\n",
    "        :class:`StratifiedKFold` used. If the estimator is not a classifier\n",
    "        or if ``y`` is neither binary nor multiclass, :class:`KFold` is used.\n",
    "\n",
    "        Refer :ref:`User Guide <cross_validation>` for the various\n",
    "        cross-validators that can be used here.\n",
    "\n",
    "    n_jobs : integer, optional\n",
    "        Number of jobs to run in parallel (default 1).\n",
    "    \"\"\"\n",
    "    plt.figure()\n",
    "    plt.title(title)\n",
    "    if ylim is not None:\n",
    "        plt.ylim(*ylim)\n",
    "    plt.xlabel(\"Training examples\")\n",
    "    plt.ylabel(\"Score\")\n",
    "    train_sizes, train_scores, test_scores = learning_curve(\n",
    "        estimator, X, y, cv=cv, n_jobs=n_jobs, train_sizes=train_sizes)\n",
    "    train_scores_mean = np.mean(train_scores, axis=1)\n",
    "    train_scores_std = np.std(train_scores, axis=1)\n",
    "    test_scores_mean = np.mean(test_scores, axis=1)\n",
    "    test_scores_std = np.std(test_scores, axis=1)\n",
    "    plt.grid()\n",
    "\n",
    "    plt.fill_between(train_sizes, train_scores_mean - train_scores_std,\n",
    "                     train_scores_mean + train_scores_std, alpha=0.1,\n",
    "                     color=\"r\")\n",
    "    plt.fill_between(train_sizes, test_scores_mean - test_scores_std,\n",
    "                     test_scores_mean + test_scores_std, alpha=0.1, color=\"g\")\n",
    "    plt.plot(train_sizes, train_scores_mean, 'o-', color=\"r\",\n",
    "             label=\"Training score\")\n",
    "    plt.plot(train_sizes, test_scores_mean, 'o-', color=\"g\",\n",
    "             label=\"Cross-validation score\")\n",
    "\n",
    "    plt.legend(loc=\"best\")\n",
    "    return plt\n",
    "\n",
    "\n",
    "#digits = load_digits()\n",
    "#X, y = digits.data, digits.target\n",
    "\n",
    "\n",
    "title = \"Learning Curves (Naive Bayes)\"\n",
    "# Cross validation with 100 iterations to get smoother mean test and train\n",
    "# score curves, each time with 20% data randomly selected as a validation set.\n",
    "cv = ShuffleSplit(n_splits=100, test_size=0.2, random_state=0)\n",
    "\n",
    "X_subset = X[['GLRA3','C9orf116','GPR52']]\n",
    "estimator = RandomForestRegressor()\n",
    "plot_learning_curve(estimator, title, X_subset, y, ylim=(-5, 1.01), cv=cv, n_jobs=-1)\n",
    "\n",
    "title = \"Learning Curves (SVM, RBF kernel, $\\gamma=0.001$)\"\n",
    "# SVC is more expensive so we do a lower number of CV iterations:\n",
    "cv = ShuffleSplit(n_splits=10, test_size=0.2, random_state=0)\n",
    "estimator = RandomForestRegressor()\n",
    "plot_learning_curve(estimator, title, X_subset, y, (-5, 1.01), cv=cv, n_jobs=-1)\n",
    "\n",
    "plt.show()"
   ]
  },
  {
   "cell_type": "code",
   "execution_count": 46,
   "metadata": {
    "collapsed": false
   },
   "outputs": [
    {
     "data": {
      "text/plain": [
       "(24, 22)"
      ]
     },
     "execution_count": 46,
     "metadata": {},
     "output_type": "execute_result"
    }
   ],
   "source": [
    "X.shape"
   ]
  },
  {
   "cell_type": "code",
   "execution_count": null,
   "metadata": {
    "collapsed": true
   },
   "outputs": [],
   "source": []
  },
  {
   "cell_type": "code",
   "execution_count": null,
   "metadata": {
    "collapsed": true
   },
   "outputs": [],
   "source": []
  },
  {
   "cell_type": "code",
   "execution_count": 24,
   "metadata": {
    "collapsed": false
   },
   "outputs": [
    {
     "data": {
      "text/plain": [
       "array([[ 30,  71,  43],\n",
       "       [ 23,  14,  68],\n",
       "       [ 24,  31,  42],\n",
       "       [  9,  26,  19],\n",
       "       [ 17,  25,  17],\n",
       "       [102,  83, 106]], dtype=int64)"
      ]
     },
     "execution_count": 24,
     "metadata": {},
     "output_type": "execute_result"
    }
   ],
   "source": [
    "#the grid of parameters to search over\n",
    "Cs = [0.001, 0.1, 1, 10, 100]\n",
    "\n",
    "# your turn\n",
    "max_score = 0\n",
    "\n",
    "for C in Cs:\n",
    "        clf = LogisticRegression(C=C)\n",
    "        score = cv_score(clf, Xlr, ylr)\n",
    "\n",
    "        if score > max_score:\n",
    "            max_score = score\n",
    "            best_C =C\n",
    "print max_score, best_C"
   ]
  },
  {
   "cell_type": "markdown",
   "metadata": {},
   "source": [
    "<div class=\"span5 alert alert-info\">\n",
    "<h3>Checkup Exercise Set I</h3>\n",
    "\n",
    "<ul>\n",
    "  <li> <b>Exercise:</b> Create a scatter plot of Weight vs. Height\n",
    "  <li> <b>Exercise:</b> Color the points differently by Gender\n",
    "</ul>\n",
    "</div>"
   ]
  },
  {
   "cell_type": "markdown",
   "metadata": {},
   "source": [
    "### Training and Test Datasets\n",
    "\n",
    "When fitting models, we would like to ensure two things:\n",
    "\n",
    "* We have found the best model (in terms of model parameters).\n",
    "* The model is highly likely to generalize i.e. perform well on unseen data.\n",
    "\n",
    "<br/>\n",
    "<div class=\"span5 alert alert-success\">\n",
    "<h4>Purpose of splitting data into Training/testing sets</h4>\n",
    "<ul>\n",
    "  <li> We built our model with the requirement that the model fit the data well. </li>\n",
    "  <li> As a side-effect, the model will fit <b>THIS</b> dataset well. What about new data? </li>\n",
    "    <ul>\n",
    "      <li> We wanted the model for predictions, right?</li>\n",
    "    </ul>\n",
    "  <li> One simple solution, leave out some data (for <b>testing</b>) and <b>train</b> the model on the rest </li>\n",
    "  <li> This also leads directly to the idea of cross-validation, next section. </li>  \n",
    "</ul>\n",
    "</div>"
   ]
  },
  {
   "cell_type": "markdown",
   "metadata": {},
   "source": [
    "First, we try a basic Logistic Regression:\n",
    "\n",
    "* Split the data into a training and test (hold-out) set\n",
    "* Train on the training set, and test for accuracy on the testing set"
   ]
  },
  {
   "cell_type": "code",
   "execution_count": 78,
   "metadata": {
    "collapsed": false
   },
   "outputs": [
    {
     "data": {
      "text/plain": [
       "count      12.000000\n",
       "mean     1270.458333\n",
       "std       787.557428\n",
       "min        14.000000\n",
       "25%       676.250000\n",
       "50%      1401.000000\n",
       "75%      1744.750000\n",
       "max      2631.000000\n",
       "Name: OFA1_Total, dtype: float64"
      ]
     },
     "execution_count": 78,
     "metadata": {},
     "output_type": "execute_result"
    }
   ],
   "source": [
    "beta=dflog[dflog.Group ==\"Beta\"]\n",
    "\n",
    "beta.OFA1_Total.describe()"
   ]
  },
  {
   "cell_type": "code",
   "execution_count": 16,
   "metadata": {
    "collapsed": false
   },
   "outputs": [
    {
     "ename": "NameError",
     "evalue": "name 'RandomForrestRegressor' is not defined",
     "output_type": "error",
     "traceback": [
      "\u001b[0;31m---------------------------------------------------------------------------\u001b[0m",
      "\u001b[0;31mNameError\u001b[0m                                 Traceback (most recent call last)",
      "\u001b[0;32m<ipython-input-16-5cf7f42481d3>\u001b[0m in \u001b[0;36m<module>\u001b[0;34m()\u001b[0m\n\u001b[1;32m     10\u001b[0m \u001b[1;33m\u001b[0m\u001b[0m\n\u001b[1;32m     11\u001b[0m \u001b[1;33m\u001b[0m\u001b[0m\n\u001b[0;32m---> 12\u001b[0;31m \u001b[0mRandomForrestRegressor\u001b[0m\u001b[1;33m.\u001b[0m\u001b[0mfit\u001b[0m\u001b[1;33m(\u001b[0m\u001b[0mXlr\u001b[0m\u001b[1;33m,\u001b[0m \u001b[0mylr\u001b[0m\u001b[1;33m)\u001b[0m\u001b[1;33m\u001b[0m\u001b[0m\n\u001b[0m\u001b[1;32m     13\u001b[0m \u001b[1;31m# Fit the model on the trainng data.\u001b[0m\u001b[1;33m\u001b[0m\u001b[1;33m\u001b[0m\u001b[0m\n\u001b[1;32m     14\u001b[0m \u001b[0mclf\u001b[0m\u001b[1;33m.\u001b[0m\u001b[0mfit\u001b[0m\u001b[1;33m(\u001b[0m\u001b[0mXlr\u001b[0m\u001b[1;33m,\u001b[0m \u001b[0mylr\u001b[0m\u001b[1;33m)\u001b[0m\u001b[1;33m\u001b[0m\u001b[0m\n",
      "\u001b[0;31mNameError\u001b[0m: name 'RandomForrestRegressor' is not defined"
     ]
    }
   ],
   "source": [
    "from sklearn.model_selection import train_test_split\n",
    "from sklearn.linear_model import LogisticRegression\n",
    "from sklearn.linear_model import LinearRegression\n",
    "from sklearn.metrics import accuracy_score\n",
    "\n",
    "# Split the data into a training and test set.\n",
    "Xlr, Xtestlr, ylr, ytestlr = train_test_split(dflog[['GLRA3','C9orf116','GPR52']].values,\n",
    "                                              (dflog.Group == \"Beta\").values,random_state=5)\n",
    "Xlr\n",
    "\n",
    "\n",
    "RandomForrestRegressor.fit(Xlr, ylr)\n",
    "# Fit the model on the trainng data.\n",
    "clf.fit(Xlr, ylr)\n",
    "# Print the accuracy from the testing data.\n",
    "print(accuracy_score(clf.predict(Xlr), ylr))"
   ]
  },
  {
   "cell_type": "code",
   "execution_count": 17,
   "metadata": {
    "collapsed": false
   },
   "outputs": [
    {
     "ename": "ImportError",
     "evalue": "No module named model_selection",
     "output_type": "error",
     "traceback": [
      "\u001b[0;31m---------------------------------------------------------------------------\u001b[0m",
      "\u001b[0;31mImportError\u001b[0m                               Traceback (most recent call last)",
      "\u001b[0;32m<ipython-input-17-160ebd4115be>\u001b[0m in \u001b[0;36m<module>\u001b[0;34m()\u001b[0m\n\u001b[0;32m----> 1\u001b[0;31m \u001b[1;32mfrom\u001b[0m \u001b[0msklearn\u001b[0m\u001b[1;33m.\u001b[0m\u001b[0mmodel_selection\u001b[0m \u001b[1;32mimport\u001b[0m \u001b[0mtrain_test_split\u001b[0m\u001b[1;33m\u001b[0m\u001b[0m\n\u001b[0m\u001b[1;32m      2\u001b[0m \u001b[1;32mfrom\u001b[0m \u001b[0msklearn\u001b[0m\u001b[1;33m.\u001b[0m\u001b[0mlinear_model\u001b[0m \u001b[1;32mimport\u001b[0m \u001b[0mLogisticRegression\u001b[0m\u001b[1;33m\u001b[0m\u001b[0m\n\u001b[1;32m      3\u001b[0m \u001b[1;32mfrom\u001b[0m \u001b[0msklearn\u001b[0m\u001b[1;33m.\u001b[0m\u001b[0mmetrics\u001b[0m \u001b[1;32mimport\u001b[0m \u001b[0maccuracy_score\u001b[0m\u001b[1;33m\u001b[0m\u001b[0m\n\u001b[1;32m      4\u001b[0m \u001b[1;33m\u001b[0m\u001b[0m\n\u001b[1;32m      5\u001b[0m \u001b[1;31m# Split the data into a training and test set.\u001b[0m\u001b[1;33m\u001b[0m\u001b[1;33m\u001b[0m\u001b[0m\n",
      "\u001b[0;31mImportError\u001b[0m: No module named model_selection"
     ]
    }
   ],
   "source": [
    "from sklearn.model_selection import train_test_split\n",
    "from sklearn.linear_model import LogisticRegression\n",
    "from sklearn.metrics import accuracy_score\n",
    "\n",
    "# Split the data into a training and test set.\n",
    "Xlr, Xtestlr, ylr, ytestlr = train_test_split(dflog[['GABRA3','DACH1','OFA1_Total']].values,\n",
    "                                              (dflog.Group == \"Beta\").values,random_state=5)\n",
    "Xlr\n",
    "\n",
    "clf = LogisticRegression()\n",
    "# Fit the model on the trainng data.\n",
    "clf.fit(Xlr, ylr)\n",
    "# Print the accuracy from the testing data.\n",
    "print(accuracy_score(clf.predict(Xtestlr), ytestlr))"
   ]
  },
  {
   "cell_type": "markdown",
   "metadata": {},
   "source": [
    "### Tuning the Model"
   ]
  },
  {
   "cell_type": "markdown",
   "metadata": {},
   "source": [
    "The model has some hyperparameters we can tune for hopefully better performance. For tuning the parameters of your model, you will use a mix of *cross-validation* and *grid search*. In Logistic Regression, the most important parameter to tune is the *regularization parameter* `C`. Note that the regularization parameter is not always part of the logistic regression model. \n",
    "\n",
    "The regularization parameter is used to control for unlikely high regression coefficients, and in other cases can be used when data is sparse, as a method of feature selection.\n",
    "\n",
    "You will now implement some code to perform model tuning and selecting the regularization parameter $C$."
   ]
  },
  {
   "cell_type": "markdown",
   "metadata": {},
   "source": [
    "We use the following `cv_score` function to perform K-fold cross-validation and apply a scoring function to each test fold. In this incarnation we use accuracy score as the default scoring function."
   ]
  },
  {
   "cell_type": "code",
   "execution_count": 80,
   "metadata": {
    "collapsed": false
   },
   "outputs": [],
   "source": [
    "from sklearn.model_selection import KFold\n",
    "from sklearn.metrics import accuracy_score\n",
    "\n",
    "def cv_score(clf, x, y, score_func=accuracy_score):\n",
    "    result = 0\n",
    "    nfold = 6\n",
    "    for train, test in KFold(nfold).split(x): # split data into train/test groups, 5 times\n",
    "        clf.fit(x[train], y[train]) # fit\n",
    "        result += score_func(clf.predict(x[test]), y[test]) # evaluate score function on held-out data\n",
    "    return result / nfold # average"
   ]
  },
  {
   "cell_type": "markdown",
   "metadata": {},
   "source": [
    "Below is an example of using the `cv_score` function for a basic logistic regression model without regularization."
   ]
  },
  {
   "cell_type": "code",
   "execution_count": 81,
   "metadata": {
    "collapsed": false
   },
   "outputs": [
    {
     "name": "stdout",
     "output_type": "stream",
     "text": [
      "0.666666666667\n"
     ]
    }
   ],
   "source": [
    "clf = LogisticRegression()\n",
    "score = cv_score(clf, Xlr, ylr)\n",
    "print(score)"
   ]
  },
  {
   "cell_type": "markdown",
   "metadata": {},
   "source": [
    "<div class=\"span5 alert alert-info\">\n",
    "<h3>Checkup Exercise Set II</h3>\n",
    "\n",
    "<b>Exercise:</b> Implement the following search procedure to find a good model\n",
    "<ul>\n",
    "<li> You are given a list of possible values of `C` below\n",
    "<li> For each C:\n",
    "  <ol>\n",
    "  <li> Create a logistic regression model with that value of C\n",
    "  <li> Find the average score for this model using the `cv_score` function **only on the training set** `(Xlr, ylr)`\n",
    "  </ol>\n",
    "<li> Pick the C with the highest average score\n",
    "</ul>\n",
    "Your goal is to find the best model parameters based *only* on the training set, without showing the model test set at all (which is why the test set is also called a *hold-out* set).\n",
    "</div>"
   ]
  },
  {
   "cell_type": "code",
   "execution_count": 84,
   "metadata": {
    "collapsed": false
   },
   "outputs": [
    {
     "name": "stdout",
     "output_type": "stream",
     "text": [
      "0.666666666667 1\n"
     ]
    }
   ],
   "source": [
    "#the grid of parameters to search over\n",
    "Cs = [0.001, 0.1, 1, 10, 100]\n",
    "\n",
    "# your turn\n",
    "max_score = 0\n",
    "\n",
    "for C in Cs:\n",
    "        clf = LogisticRegression(C=C)\n",
    "        score = cv_score(clf, Xlr, ylr)\n",
    "\n",
    "        if score > max_score:\n",
    "            max_score = score\n",
    "            best_C =C\n",
    "print max_score, best_C"
   ]
  },
  {
   "cell_type": "markdown",
   "metadata": {},
   "source": [
    "<div class=\"span5 alert alert-info\">\n",
    "<h3>Checkup Exercise Set III</h3>\n",
    "**Exercise:** Now you want to estimate how this model will predict on unseen data in the following way:\n",
    "<ol>\n",
    "<li> Use the C you obtained from the procedure earlier and train a Logistic Regression on the training data\n",
    "<li> Calculate the accuracy on the test data\n",
    "</ol>\n",
    "\n",
    "<p>You may notice that this particular value of `C` may or may not do as well as simply running the default model on a random train-test split. </p>\n",
    "\n",
    "<ul>\n",
    "<li> Do you think that's a problem? \n",
    "<li> Why do we need to do this whole cross-validation and grid search stuff anyway?\n",
    "</ul>\n",
    "\n",
    "</div>"
   ]
  },
  {
   "cell_type": "code",
   "execution_count": 74,
   "metadata": {
    "collapsed": false
   },
   "outputs": [
    {
     "name": "stdout",
     "output_type": "stream",
     "text": [
      "0.666666666667\n"
     ]
    }
   ],
   "source": [
    "# your turn\n",
    "clfl = LogisticRegression(C=0.1)\n",
    "clfl.fit(Xlr, ylr)\n",
    "# Print the accuracy from the test data.\n",
    "print(accuracy_score(clfl.predict(Xtestlr), ytestlr))\n",
    "\n",
    "## Cross validation is used to minimize the risk of overfitting a model. By optimizing the C value, we find the best model,\n",
    "## and cross validation allows us to ensure that the model will also generalize to novel data sets. "
   ]
  },
  {
   "cell_type": "markdown",
   "metadata": {},
   "source": [
    "### Black Box Grid Search in `sklearn`"
   ]
  },
  {
   "cell_type": "markdown",
   "metadata": {},
   "source": [
    "Scikit-learn, as with many other Python packages, provides utilities to perform common operations so you do not have to do it manually. It is important to understand the mechanics of each operation, but at a certain point, you will want to use the utility instead to save time..."
   ]
  },
  {
   "cell_type": "markdown",
   "metadata": {},
   "source": [
    "<div class=\"span5 alert alert-info\">\n",
    "<h3>Checkup Exercise Set IV</h3>\n",
    "\n",
    "<b>Exercise:</b> Use scikit-learn's [GridSearchCV](http://scikit-learn.org/stable/modules/generated/sklearn.grid_search.GridSearchCV.html) tool to perform cross validation and grid search. \n",
    "\n",
    "* Instead of writing your own loops above to iterate over the model parameters, can you use GridSearchCV to find the best model over the training set? \n",
    "* Does it give you the same best value of `C`?\n",
    "* How does this model you've obtained perform on the test set?"
   ]
  },
  {
   "cell_type": "code",
   "execution_count": 85,
   "metadata": {
    "collapsed": false
   },
   "outputs": [
    {
     "name": "stderr",
     "output_type": "stream",
     "text": [
      "C:\\Users\\lab\\Anaconda2\\lib\\site-packages\\sklearn\\model_selection\\_search.py:667: DeprecationWarning: The grid_scores_ attribute was deprecated in version 0.18 in favor of the more elaborate cv_results_ attribute. The grid_scores_ attribute will not be available from 0.20\n",
      "  DeprecationWarning)\n"
     ]
    },
    {
     "data": {
      "text/plain": [
       "(LogisticRegression(C=100, class_weight=None, dual=False, fit_intercept=True,\n",
       "           intercept_scaling=1, max_iter=100, multi_class='ovr', n_jobs=1,\n",
       "           penalty='l2', random_state=None, solver='liblinear', tol=0.0001,\n",
       "           verbose=0, warm_start=False),\n",
       " {'C': 100},\n",
       " 0.61111111111111116,\n",
       " [mean: 0.55556, std: 0.35978, params: {'C': 0.0001},\n",
       "  mean: 0.55556, std: 0.21473, params: {'C': 0.001},\n",
       "  mean: 0.55556, std: 0.21473, params: {'C': 0.1},\n",
       "  mean: 0.55556, std: 0.21473, params: {'C': 1},\n",
       "  mean: 0.55556, std: 0.21473, params: {'C': 10},\n",
       "  mean: 0.61111, std: 0.27588, params: {'C': 100}])"
      ]
     },
     "execution_count": 85,
     "metadata": {},
     "output_type": "execute_result"
    }
   ],
   "source": [
    "# your turn\n",
    "from sklearn.model_selection import GridSearchCV\n",
    "\n",
    "clfl2=LogisticRegression()\n",
    "parameters = {\"C\": [0.0001, 0.001, 0.1, 1, 10, 100]}\n",
    "fitmodel = GridSearchCV(clfl2, param_grid=parameters, cv=5, scoring=\"accuracy\")\n",
    "fitmodel.fit(Xlr, ylr)\n",
    "fitmodel.best_estimator_, fitmodel.best_params_, fitmodel.best_score_, fitmodel.grid_scores_\n",
    "\n",
    "## This method gives a different value of C, but it's irrelevant because there are more than 1 value of C that fit the model \n",
    "## best. both C=0.1, and C=0.001 are equivalent. \n",
    "  "
   ]
  },
  {
   "cell_type": "code",
   "execution_count": 86,
   "metadata": {
    "collapsed": false
   },
   "outputs": [
    {
     "name": "stdout",
     "output_type": "stream",
     "text": [
      "0.5\n"
     ]
    }
   ],
   "source": [
    "cfl2=LogisticRegression(C=0.001)\n",
    "clfl2.fit(Xlr, ylr)\n",
    "print(accuracy_score(clfl2.predict(Xtestlr), ytestlr))\n"
   ]
  },
  {
   "cell_type": "markdown",
   "metadata": {},
   "source": [
    "## A Walkthrough of the Math Behind Logistic Regression"
   ]
  },
  {
   "cell_type": "code",
   "execution_count": null,
   "metadata": {
    "collapsed": true
   },
   "outputs": [],
   "source": []
  },
  {
   "cell_type": "code",
   "execution_count": null,
   "metadata": {
    "collapsed": true
   },
   "outputs": [],
   "source": []
  },
  {
   "cell_type": "code",
   "execution_count": null,
   "metadata": {
    "collapsed": true
   },
   "outputs": [],
   "source": []
  },
  {
   "cell_type": "code",
   "execution_count": null,
   "metadata": {
    "collapsed": true
   },
   "outputs": [],
   "source": []
  }
 ],
 "metadata": {
  "anaconda-cloud": {},
  "kernelspec": {
   "display_name": "Python [conda root]",
   "language": "python",
   "name": "conda-root-py"
  },
  "language_info": {
   "codemirror_mode": {
    "name": "ipython",
    "version": 2
   },
   "file_extension": ".py",
   "mimetype": "text/x-python",
   "name": "python",
   "nbconvert_exporter": "python",
   "pygments_lexer": "ipython2",
   "version": "2.7.12"
  }
 },
 "nbformat": 4,
 "nbformat_minor": 0
}
