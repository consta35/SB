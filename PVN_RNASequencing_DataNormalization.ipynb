{
 "cells": [
  {
   "cell_type": "code",
   "execution_count": 1,
   "metadata": {
    "collapsed": false
   },
   "outputs": [
    {
     "name": "stderr",
     "output_type": "stream",
     "text": [
      "Loading required package: BiocGenerics\n",
      "Loading required package: parallel\n",
      "\n",
      "Attaching package: 'BiocGenerics'\n",
      "\n",
      "The following objects are masked from 'package:parallel':\n",
      "\n",
      "    clusterApply, clusterApplyLB, clusterCall, clusterEvalQ,\n",
      "    clusterExport, clusterMap, parApply, parCapply, parLapply,\n",
      "    parLapplyLB, parRapply, parSapply, parSapplyLB\n",
      "\n",
      "The following objects are masked from 'package:stats':\n",
      "\n",
      "    IQR, mad, xtabs\n",
      "\n",
      "The following objects are masked from 'package:base':\n",
      "\n",
      "    anyDuplicated, append, as.data.frame, as.vector, cbind, colnames,\n",
      "    do.call, duplicated, eval, evalq, Filter, Find, get, grep, grepl,\n",
      "    intersect, is.unsorted, lapply, lengths, Map, mapply, match, mget,\n",
      "    order, paste, pmax, pmax.int, pmin, pmin.int, Position, rank,\n",
      "    rbind, Reduce, rownames, sapply, setdiff, sort, table, tapply,\n",
      "    union, unique, unlist, unsplit\n",
      "\n",
      "Loading required package: S4Vectors\n",
      "Loading required package: stats4\n",
      "Loading required package: IRanges\n",
      "Loading required package: GenomeInfoDb\n",
      "Loading required package: GenomicRanges\n",
      "Loading required package: AnnotationDbi\n",
      "Loading required package: Biobase\n",
      "Welcome to Bioconductor\n",
      "\n",
      "    Vignettes contain introductory material; view with\n",
      "    'browseVignettes()'. To cite Bioconductor, see\n",
      "    'citation(\"Biobase\")', and for packages 'citation(\"pkgname\")'.\n",
      "\n",
      "Loading required package: XVector\n",
      "Loading required package: Biostrings\n",
      "Loading required package: SummarizedExperiment\n"
     ]
    }
   ],
   "source": [
    "setwd(\"E:\\\\PVN_Sequencing\\\\NEW_PVN_2016_Aligned83\\\\New_aligned_F1_Tophat83\")\n",
    "library(GenomicFeatures)\n",
    "library(GenomicRanges)\n",
    "library(Rsamtools)\n",
    "library(GenomicAlignments)"
   ]
  },
  {
   "cell_type": "code",
   "execution_count": 2,
   "metadata": {
    "collapsed": false
   },
   "outputs": [
    {
     "data": {
      "text/html": [
       "8e+08"
      ],
      "text/latex": [
       "8e+08"
      ],
      "text/markdown": [
       "8e+08"
      ],
      "text/plain": [
       "[1] 8e+08"
      ]
     },
     "metadata": {},
     "output_type": "display_data"
    },
    {
     "name": "stderr",
     "output_type": "stream",
     "text": [
      "Import genomic features from the file as a GRanges object ... Warning message in open.connection(con, open):\n",
      "\"cannot open file 'UNEWcuffmerge83_grep.gtf': No such file or directory\""
     ]
    },
    {
     "ename": "ERROR",
     "evalue": "Error in open.connection(con, open): cannot open the connection\n",
     "output_type": "error",
     "traceback": [
      "Error in open.connection(con, open): cannot open the connection\nTraceback:\n",
      "1. makeTxDbFromGFF(\"UNEWcuffmerge83_grep.gtf\", format = \"gtf\")",
      "2. import(file, format = format, colnames = colnames, feature.type = GFF_FEATURE_TYPES)",
      "3. import(file, format = format, colnames = colnames, feature.type = GFF_FEATURE_TYPES)",
      "4. import(FileForFormat(con, format), ...)",
      "5. import(FileForFormat(con, format), ...)",
      "6. .local(con, format, text, ...)",
      "7. .sniffGFFVersion(resource(con))",
      "8. connectionForResource(con, \"r\")",
      "9. open(con, open)",
      "10. open.connection(con, open)"
     ]
    }
   ],
   "source": [
    "memory.limit(size=800000000)\n",
    "\n",
    "## Use GenomicAlignments to read in aligned sequencing files\n",
    "readsF1Br1=readGAlignments(\"F1_Beta_SGM4_Tophat.bam\")\n",
    "readsF1Br2=readGAlignments(\"F1_Beta_SGM8_Tophat.bam\")\n",
    "readsF1Br3=readGAlignments(\"F1_Beta_SGM12_Tophat.bam\")\n",
    "readsF1Br4=readGAlignments(\"F1_Beta_SGM16_Tophat.bam\")\n",
    "readsF1Br5=readGAlignments(\"F1_Beta_SGM20_Tophat.bam\")\n",
    "readsF1Cr1=readGAlignments(\"F1_Control_SGM3_Tophat.bam\")\n",
    "readsF1Cr2=readGAlignments(\"F1_Control_SGM7_Tophat.bam\")\n",
    "readsF1Cr3=readGAlignments(\"F1_Control_SGM11_Tophat.bam\")\n",
    "readsF1Cr4=readGAlignments(\"F1_Control_SGM15_Tophat.bam\")\n",
    "readsF1Cr5=readGAlignments(\"F1_Control_SGM19_Tophat.bam\")\n",
    "txdb=makeTxDbFromGFF(\"UNEWcuffmerge83_grep.gtf\", format = \"gtf\")\n"
   ]
  },
  {
   "cell_type": "code",
   "execution_count": 3,
   "metadata": {
    "collapsed": false
   },
   "outputs": [
    {
     "name": "stderr",
     "output_type": "stream",
     "text": [
      "Import genomic features from the file as a GRanges object ... OK\n",
      "Prepare the 'metadata' data frame ... OK\n",
      "Make the TxDb object ... OK\n"
     ]
    }
   ],
   "source": [
    "txdb =makeTxDbFromGFF(\"F1ONLY_Cuffmerge_grep.gtf\", format = 'gtf')"
   ]
  },
  {
   "cell_type": "code",
   "execution_count": 4,
   "metadata": {
    "collapsed": true
   },
   "outputs": [],
   "source": [
    "ex_by_gene<- exonsBy(txdb,'gene')\n",
    "\n",
    "# Count how many sequenced reads overlap with exons\n",
    "countsF1Br1= countOverlaps(ex_by_gene,readsF1Br1)\n",
    "countsF1Br2= countOverlaps(ex_by_gene,readsF1Br2)\n",
    "countsF1Br3= countOverlaps(ex_by_gene,readsF1Br3)\n",
    "countsF1Br4= countOverlaps(ex_by_gene,readsF1Br4)\n",
    "countsF1Br5= countOverlaps(ex_by_gene,readsF1Br5)\n",
    "countsF1Cr1= countOverlaps(ex_by_gene,readsF1Cr1)\n",
    "countsF1Cr2= countOverlaps(ex_by_gene,readsF1Cr2)\n",
    "countsF1Cr3= countOverlaps(ex_by_gene,readsF1Cr3)\n",
    "countsF1Cr4= countOverlaps(ex_by_gene,readsF1Cr4)\n",
    "countsF1Cr5= countOverlaps(ex_by_gene,readsF1Cr5)\n",
    "## Make Count Table\n",
    "countTable<- data.frame(Control1=countsF1Cr1,Control2=countsF1Cr2, Control3=countsF1Cr3, Control4=countsF1Cr4,Control5=countsF1Cr5, Beta1=countsF1Br1,Beta2=countsF1Br2,Beta3=countsF1Br3,Beta4=countsF1Br4,Beta5=countsF1Br5, stringsAsFactors=FALSE)\n",
    "x <- rowSums(countTable<=0)!=ncol(countTable)\n",
    "newCountTable <- countTable[x,]"
   ]
  },
  {
   "cell_type": "code",
   "execution_count": 5,
   "metadata": {
    "collapsed": false
   },
   "outputs": [
    {
     "data": {
      "image/png": "[encoded data removed]",
      "text/plain": [
       "plot without title"
      ]
     },
     "metadata": {},
     "output_type": "display_data"
    }
   ],
   "source": [
    "data<-newCountTable\n",
    "## Get PCA of data\n",
    "pca<-prcomp(t(as.matrix(data)))\n",
    "plot(pca$x)\n",
    "text(pca$x[,1], pca$x[,2], colnames(data), pos=2)\n",
    "### This PCA shows that the majority of the variation in the dataset does not stem from the treatment group\n",
    "### We will remove outliers to try and normalize the data such that the greatest variatin source is treatment group"
   ]
  },
  {
   "cell_type": "code",
   "execution_count": 6,
   "metadata": {
    "collapsed": true
   },
   "outputs": [],
   "source": [
    "## The first step is to filter out genes with low read counts, since sequencing is not accurate with low read counts\n",
    "filter <- apply(data, 1, function(x) length(x[x>5])>=5)\n",
    "filtered <- data[filter,]"
   ]
  },
  {
   "cell_type": "code",
   "execution_count": 7,
   "metadata": {
    "collapsed": false
   },
   "outputs": [
    {
     "name": "stderr",
     "output_type": "stream",
     "text": [
      "Loading required package: Rcpp\n",
      "Warning message:\n",
      "\"package 'Rcpp' was built under R version 3.2.5\"Loading required package: RcppArmadillo\n",
      "Warning message:\n",
      "\"package 'RcppArmadillo' was built under R version 3.2.5\"estimating size factors\n",
      "estimating dispersions\n",
      "gene-wise dispersion estimates\n",
      "mean-dispersion relationship\n",
      "final dispersion estimates\n",
      "fitting model and testing\n"
     ]
    },
    {
     "name": "stdout",
     "output_type": "stream",
     "text": [
      "\n",
      "out of 18449 with nonzero total read count\n",
      "adjusted p-value < 0.1\n",
      "LFC > 0 (up)     : 1, 0.0054% \n",
      "LFC < 0 (down)   : 2, 0.011% \n",
      "outliers [1]     : 147, 0.8% \n",
      "low counts [2]   : 0, 0% \n",
      "(mean count < 4)\n",
      "[1] see 'cooksCutoff' argument of ?results\n",
      "[2] see 'independentFiltering' argument of ?results\n",
      "\n"
     ]
    }
   ],
   "source": [
    "library (DESeq2)\n",
    "pheno<- read.csv(\"phenof1.csv\", header=TRUE, row.names=1)\n",
    "dds <- DESeqDataSetFromMatrix(countData = as.matrix(filtered),\n",
    "colData = pheno,\n",
    "design = ~ Treatment)\n",
    "dds <- DESeq(dds)\n",
    "res <- results(dds)\n",
    "## find out how many outliers\n",
    "summary(res)\n",
    "## pull out Cooks Scores\n",
    "maxCooks <- apply(assays(dds)[[\"cooks\"]], 1, max)"
   ]
  },
  {
   "cell_type": "code",
   "execution_count": 15,
   "metadata": {
    "collapsed": false
   },
   "outputs": [],
   "source": [
    "## We have 147 outliers which will be removed from our dataset. \n",
    "\n",
    "data<- read.csv(\"cd_F1_PVN_NEW_zero_elim_filtered_OUTLIERS_lncRNA_ensRM_Names83_try2.csv\", header=TRUE, row.names=1)\n",
    "\n"
   ]
  },
  {
   "cell_type": "code",
   "execution_count": 17,
   "metadata": {
    "collapsed": false
   },
   "outputs": [
    {
     "data": {
      "image/png": "[encoded data removed]",
      "text/plain": [
       "plot without title"
      ]
     },
     "metadata": {},
     "output_type": "display_data"
    }
   ],
   "source": [
    "library(RUVSeq)\n",
    "x <- as.factor(c(1,1,1,1,1,2,2,2,2,2))\n",
    "set <- newSeqExpressionSet(as.matrix(data),\n",
    "\t\t\tphenoData = data.frame(x, row.names=colnames(data)))\n",
    "genes <- rownames(data)\t\t\n",
    "libSizes <- as.vector(colSums(data))\t\n",
    "\n",
    "### RUV visualization \n",
    "library(RColorBrewer)\n",
    "colors <- brewer.pal(3, \"Set2\")\n",
    "\n",
    "### Plots: This shows us how much information we are getting from each sample. \n",
    "plotRLE(set, outline=FALSE, ylim=c(-4, 4), col=colors[x])\n",
    "## As we can see in the image below, control 3 has a lot of variation in read count coverage"
   ]
  },
  {
   "cell_type": "code",
   "execution_count": 18,
   "metadata": {
    "collapsed": false
   },
   "outputs": [
    {
     "data": {
      "image/png": "[encoded data removed]",
      "text/plain": [
       "plot without title"
      ]
     },
     "metadata": {},
     "output_type": "display_data"
    }
   ],
   "source": [
    "plotPCA(set, col=colors[x], cex=1.2)\t\n",
    "\n",
    "### This is the same PCA just confirming that the majority of the variation in our data set is coming from Control 3. \n",
    "## We will try to normalize by residuals to see if we can improve the PCA.\n"
   ]
  },
  {
   "cell_type": "code",
   "execution_count": 19,
   "metadata": {
    "collapsed": false
   },
   "outputs": [
    {
     "data": {
      "image/png": "[encoded data removed]",
      "text/plain": [
       "plot without title"
      ]
     },
     "metadata": {},
     "output_type": "display_data"
    }
   ],
   "source": [
    "### RUVr normalize the data by residuals\n",
    "design<- model.matrix(~x, data=pData(set))\n",
    "y <- DGEList(counts=counts(set), group=x)\n",
    "y <- calcNormFactors(y,method=\"upperquartile\")\n",
    "y <- estimateGLMCommonDisp(y, design)\n",
    "y <- estimateGLMTagwiseDisp(y, design)\n",
    "fit <- glmFit(y, design)\n",
    "res <- residuals(fit, type=\"deviance\")\n",
    "set1<- RUVr(set, genes, k=1, res)\n",
    "\n",
    "plotRLE(set1, outline=FALSE, ylim=c(-4, 4), col=colors[x])\n",
    "\n",
    "### This RLE shows that major improvements have been made to our data"
   ]
  },
  {
   "cell_type": "code",
   "execution_count": 20,
   "metadata": {
    "collapsed": false
   },
   "outputs": [
    {
     "data": {
      "image/png": "[encoded data removed]",
      "text/plain": [
       "plot without title"
      ]
     },
     "metadata": {},
     "output_type": "display_data"
    }
   ],
   "source": [
    "## Now we can check the PCA to see if our data separates by treatment group \n",
    "plotPCA(set1, col=colors[x], cex=1.2)\t\t"
   ]
  },
  {
   "cell_type": "code",
   "execution_count": null,
   "metadata": {
    "collapsed": true
   },
   "outputs": [],
   "source": [
    "## The PCA shows that the majority of the variation is coming from the treatment group, while there are some control samples \n",
    "## that overlap to the treatment side. We will leave the data at this stage as we want to ensure that we are not over-fitting \n",
    "## the data normalization"
   ]
  },
  {
   "cell_type": "code",
   "execution_count": null,
   "metadata": {
    "collapsed": true
   },
   "outputs": [],
   "source": []
  },
  {
   "cell_type": "code",
   "execution_count": null,
   "metadata": {
    "collapsed": true
   },
   "outputs": [],
   "source": []
  },
  {
   "cell_type": "code",
   "execution_count": null,
   "metadata": {
    "collapsed": true
   },
   "outputs": [],
   "source": []
  },
  {
   "cell_type": "code",
   "execution_count": null,
   "metadata": {
    "collapsed": true
   },
   "outputs": [],
   "source": []
  },
  {
   "cell_type": "code",
   "execution_count": null,
   "metadata": {
    "collapsed": true
   },
   "outputs": [],
   "source": []
  }
 ],
 "metadata": {
  "anaconda-cloud": {},
  "kernelspec": {
   "display_name": "R",
   "language": "R",
   "name": "ir"
  },
  "language_info": {
   "codemirror_mode": "r",
   "file_extension": ".r",
   "mimetype": "text/x-r-source",
   "name": "R",
   "pygments_lexer": "r",
   "version": "3.2.3"
  }
 },
 "nbformat": 4,
 "nbformat_minor": 1
}
